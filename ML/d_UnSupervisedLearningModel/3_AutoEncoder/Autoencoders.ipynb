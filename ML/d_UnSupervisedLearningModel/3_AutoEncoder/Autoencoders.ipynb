{
 "cells": [
  {
   "cell_type": "markdown",
   "metadata": {},
   "source": [
    "#  Autoencoders"
   ]
  },
  {
   "cell_type": "markdown",
   "metadata": {},
   "source": [
    "## Import the libraries"
   ]
  },
  {
   "cell_type": "code",
   "execution_count": null,
   "metadata": {},
   "outputs": [],
   "source": [
    "import keras\n",
    "import numpy as np\n",
    "import matplotlib.pyplot as plt\n",
    "%matplotlib inline\n",
    "\n",
    "from keras.datasets import mnist\n",
    "from keras.models import Model\n",
    "from keras.layers import Input, add\n",
    "from keras.layers.core import Layer, Dense, Dropout, Activation, Flatten, Reshape\n",
    "from keras import regularizers\n",
    "from keras.regularizers import l2\n",
    "from keras.layers.convolutional import Conv2D, MaxPooling2D, UpSampling2D, ZeroPadding2D\n",
    "from keras.utils import np_utils"
   ]
  },
  {
   "cell_type": "markdown",
   "metadata": {},
   "source": [
    "## Load the data"
   ]
  },
  {
   "cell_type": "markdown",
   "metadata": {},
   "source": [
    "We don't need the labels as the autoencoders are unsupervised network"
   ]
  },
  {
   "cell_type": "code",
   "execution_count": 1,
   "metadata": {},
   "outputs": [
    {
     "ename": "NameError",
     "evalue": "name 'mnist' is not defined",
     "output_type": "error",
     "traceback": [
      "\u001b[1;31m---------------------------------------------------------------------------\u001b[0m",
      "\u001b[1;31mNameError\u001b[0m                                 Traceback (most recent call last)",
      "Cell \u001b[1;32mIn[1], line 7\u001b[0m\n\u001b[0;32m      3\u001b[0m current_dir \u001b[38;5;241m=\u001b[39m os\u001b[38;5;241m.\u001b[39mgetcwd()\n\u001b[0;32m      5\u001b[0m \u001b[38;5;66;03m# Import mnist data stored in the following path: current directory -> mnist.npz\u001b[39;00m\n\u001b[1;32m----> 7\u001b[0m (X_train, Y_train), (X_test, Y_test) \u001b[38;5;241m=\u001b[39m \u001b[43mmnist\u001b[49m\u001b[38;5;241m.\u001b[39mload_data(path\u001b[38;5;241m=\u001b[39mcurrent_dir\u001b[38;5;241m+\u001b[39m\u001b[38;5;124m'\u001b[39m\u001b[38;5;124m/mnist_train.csv\u001b[39m\u001b[38;5;124m'\u001b[39m)\n\u001b[0;32m      8\u001b[0m (X_train, _), (X_test, _) \u001b[38;5;241m=\u001b[39m mnist\u001b[38;5;241m.\u001b[39mload_data()\n\u001b[0;32m     10\u001b[0m X_train \u001b[38;5;241m=\u001b[39m X_train\u001b[38;5;241m.\u001b[39mreshape(X_train\u001b[38;5;241m.\u001b[39mshape[\u001b[38;5;241m0\u001b[39m], \u001b[38;5;241m28\u001b[39m, \u001b[38;5;241m28\u001b[39m, \u001b[38;5;241m1\u001b[39m)\n",
      "\u001b[1;31mNameError\u001b[0m: name 'mnist' is not defined"
     ]
    }
   ],
   "source": [
    "\n",
    "# Get the working directory path\n",
    "import os\n",
    "current_dir = os.getcwd()\n",
    "\n",
    "# Import mnist data stored in the following path: current directory -> mnist.npz\n",
    "\n",
    "(X_train, Y_train), (X_test, Y_test) = mnist.load_data(path=current_dir+'/mnist_train.csv')\n",
    "(X_train, _), (X_test, _) = mnist.load_data()\n",
    "\n",
    "X_train = X_train.reshape(X_train.shape[0], 28, 28, 1)\n",
    "X_test = X_test.reshape(X_test.shape[0], 28, 28, 1)"
   ]
  },
  {
   "cell_type": "markdown",
   "metadata": {},
   "source": [
    "## Normalize the data"
   ]
  },
  {
   "cell_type": "markdown",
   "metadata": {},
   "source": [
    "We want the pixels values between 0 and 1 instead of between 0 and 255"
   ]
  },
  {
   "cell_type": "code",
   "execution_count": 3,
   "metadata": {},
   "outputs": [
    {
     "name": "stdout",
     "output_type": "stream",
     "text": [
      "X_train shape: (60000, 28, 28, 1)\n",
      "60000 train samples\n",
      "10000 test samples\n"
     ]
    }
   ],
   "source": [
    "X_train = X_train.astype(\"float32\")/255.\n",
    "X_test = X_test.astype(\"float32\")/255.\n",
    "\n",
    "print('X_train shape:', X_train.shape)\n",
    "print(X_train.shape[0], 'train samples')\n",
    "print(X_test.shape[0], 'test samples')"
   ]
  },
  {
   "cell_type": "markdown",
   "metadata": {},
   "source": [
    "## Flatten the images for the Fully-Connected Networks"
   ]
  },
  {
   "cell_type": "code",
   "execution_count": 4,
   "metadata": {
    "collapsed": true,
    "jupyter": {
     "outputs_hidden": true
    }
   },
   "outputs": [],
   "source": [
    "X_train = X_train.reshape((len(X_train), np.prod(X_train.shape[1:])))\n",
    "X_test = X_test.reshape((len(X_test), np.prod(X_test.shape[1:])))"
   ]
  },
  {
   "cell_type": "markdown",
   "metadata": {},
   "source": [
    "___"
   ]
  },
  {
   "cell_type": "markdown",
   "metadata": {},
   "source": [
    "# **Vanilla Autoencoder**"
   ]
  },
  {
   "cell_type": "markdown",
   "metadata": {},
   "source": [
    "### Create the network"
   ]
  },
  {
   "cell_type": "markdown",
   "metadata": {},
   "source": [
    "The first network is the most simple autoencoder. It has three layers : Input - encoded - decoded"
   ]
  },
  {
   "cell_type": "code",
   "execution_count": 5,
   "metadata": {
    "collapsed": true,
    "jupyter": {
     "outputs_hidden": true
    }
   },
   "outputs": [],
   "source": [
    "input_size = 784\n",
    "hidden_size = 64\n",
    "output_size = 784"
   ]
  },
  {
   "cell_type": "code",
   "execution_count": 6,
   "metadata": {
    "collapsed": true,
    "jupyter": {
     "outputs_hidden": true
    }
   },
   "outputs": [],
   "source": [
    "x = Input(shape=(input_size,))\n",
    "h = Dense(hidden_size, activation='relu')(x)\n",
    "r = Dense(output_size, activation='sigmoid')(h)\n",
    "\n",
    "autoencoder = Model(inputs=x, outputs=r)\n",
    "autoencoder.compile(optimizer='adam', loss='mse')"
   ]
  },
  {
   "cell_type": "code",
   "execution_count": 7,
   "metadata": {},
   "outputs": [
    {
     "data": {
      "image/svg+xml": [
       "<svg height=\"191pt\" viewBox=\"0.00 0.00 136.36 191.00\" width=\"136pt\" xmlns=\"http://www.w3.org/2000/svg\" xmlns:xlink=\"http://www.w3.org/1999/xlink\">\n",
       "<g class=\"graph\" id=\"graph0\" transform=\"scale(1 1) rotate(0) translate(4 187)\">\n",
       "<title>G</title>\n",
       "<polygon fill=\"white\" points=\"-4,4 -4,-187 132.362,-187 132.362,4 -4,4\" stroke=\"none\"/>\n",
       "<!-- 112210716208 -->\n",
       "<g class=\"node\" id=\"node1\"><title>112210716208</title>\n",
       "<polygon fill=\"none\" points=\"0,-146.5 0,-182.5 128.362,-182.5 128.362,-146.5 0,-146.5\" stroke=\"black\"/>\n",
       "<text font-family=\"Times,serif\" font-size=\"14.00\" text-anchor=\"middle\" x=\"64.1812\" y=\"-160.3\">input_1: InputLayer</text>\n",
       "</g>\n",
       "<!-- 112210716376 -->\n",
       "<g class=\"node\" id=\"node2\"><title>112210716376</title>\n",
       "<polygon fill=\"none\" points=\"12.0552,-73.5 12.0552,-109.5 116.307,-109.5 116.307,-73.5 12.0552,-73.5\" stroke=\"black\"/>\n",
       "<text font-family=\"Times,serif\" font-size=\"14.00\" text-anchor=\"middle\" x=\"64.1812\" y=\"-87.3\">dense_1: Dense</text>\n",
       "</g>\n",
       "<!-- 112210716208&#45;&gt;112210716376 -->\n",
       "<g class=\"edge\" id=\"edge1\"><title>112210716208-&gt;112210716376</title>\n",
       "<path d=\"M64.1812,-146.313C64.1812,-138.289 64.1812,-128.547 64.1812,-119.569\" fill=\"none\" stroke=\"black\"/>\n",
       "<polygon fill=\"black\" points=\"67.6813,-119.529 64.1812,-109.529 60.6813,-119.529 67.6813,-119.529\" stroke=\"black\"/>\n",
       "</g>\n",
       "<!-- 112210769120 -->\n",
       "<g class=\"node\" id=\"node3\"><title>112210769120</title>\n",
       "<polygon fill=\"none\" points=\"12.0552,-0.5 12.0552,-36.5 116.307,-36.5 116.307,-0.5 12.0552,-0.5\" stroke=\"black\"/>\n",
       "<text font-family=\"Times,serif\" font-size=\"14.00\" text-anchor=\"middle\" x=\"64.1812\" y=\"-14.3\">dense_2: Dense</text>\n",
       "</g>\n",
       "<!-- 112210716376&#45;&gt;112210769120 -->\n",
       "<g class=\"edge\" id=\"edge2\"><title>112210716376-&gt;112210769120</title>\n",
       "<path d=\"M64.1812,-73.3129C64.1812,-65.2895 64.1812,-55.5475 64.1812,-46.5691\" fill=\"none\" stroke=\"black\"/>\n",
       "<polygon fill=\"black\" points=\"67.6813,-46.5288 64.1812,-36.5288 60.6813,-46.5289 67.6813,-46.5288\" stroke=\"black\"/>\n",
       "</g>\n",
       "</g>\n",
       "</svg>"
      ],
      "text/plain": [
       "<IPython.core.display.SVG object>"
      ]
     },
     "execution_count": 7,
     "metadata": {},
     "output_type": "execute_result"
    }
   ],
   "source": [
    "from IPython.display import SVG\n",
    "from keras.utils.vis_utils import model_to_dot\n",
    "\n",
    "SVG(model_to_dot(autoencoder).create(prog='dot', format='svg'))"
   ]
  },
  {
   "cell_type": "markdown",
   "metadata": {},
   "source": [
    "### Train"
   ]
  },
  {
   "cell_type": "code",
   "execution_count": 8,
   "metadata": {},
   "outputs": [
    {
     "name": "stdout",
     "output_type": "stream",
     "text": [
      "Train on 60000 samples, validate on 10000 samples\n",
      "Epoch 1/5\n",
      "60000/60000 [==============================] - 2s - loss: 0.0441 - val_loss: 0.0225\n",
      "Epoch 2/5\n",
      "60000/60000 [==============================] - 2s - loss: 0.0174 - val_loss: 0.0130\n",
      "Epoch 3/5\n",
      "60000/60000 [==============================] - 2s - loss: 0.0110 - val_loss: 0.0087\n",
      "Epoch 4/5\n",
      "60000/60000 [==============================] - 2s - loss: 0.0078 - val_loss: 0.0066\n",
      "Epoch 5/5\n",
      "60000/60000 [==============================] - 2s - loss: 0.0062 - val_loss: 0.0055\n"
     ]
    }
   ],
   "source": [
    "epochs = 5\n",
    "batch_size = 128\n",
    "\n",
    "history = autoencoder.fit(X_train, X_train, batch_size=batch_size, epochs=epochs, verbose=1, validation_data=(X_test, X_test))"
   ]
  },
  {
   "cell_type": "code",
   "execution_count": 15,
   "metadata": {},
   "outputs": [
    {
     "data": {
      "image/png": "[encoded data removed]",
      "text/plain": [
       "<matplotlib.figure.Figure at 0x1a2f2265f8>"
      ]
     },
     "metadata": {},
     "output_type": "display_data"
    }
   ],
   "source": [
    "conv_encoder = Model(x, h)\n",
    "encoded_imgs = conv_encoder.predict(X_test)\n",
    "\n",
    "n = 10\n",
    "plt.figure(figsize=(20, 8))\n",
    "for i in range(n):\n",
    "    ax = plt.subplot(1, n, i+1)\n",
    "    plt.imshow(encoded_imgs[i].reshape(4, 16).T)\n",
    "    plt.gray()\n",
    "    ax.get_xaxis().set_visible(False)\n",
    "    ax.get_yaxis().set_visible(False)\n",
    "plt.show()"
   ]
  },
  {
   "cell_type": "markdown",
   "metadata": {},
   "source": [
    "### Predict on the test set"
   ]
  },
  {
   "cell_type": "code",
   "execution_count": 16,
   "metadata": {
    "collapsed": true,
    "jupyter": {
     "outputs_hidden": true
    }
   },
   "outputs": [],
   "source": [
    "decoded_imgs = autoencoder.predict(X_test)"
   ]
  },
  {
   "cell_type": "markdown",
   "metadata": {},
   "source": [
    "### Plot"
   ]
  },
  {
   "cell_type": "code",
   "execution_count": 17,
   "metadata": {},
   "outputs": [
    {
     "data": {
      "image/png": "[encoded data removed]",
      "text/plain": [
       "<matplotlib.figure.Figure at 0x1a30d85a20>"
      ]
     },
     "metadata": {},
     "output_type": "display_data"
    }
   ],
   "source": [
    "n = 10\n",
    "plt.figure(figsize=(20, 6))\n",
    "for i in range(n):\n",
    "    # display original\n",
    "    ax = plt.subplot(3, n, i+1)\n",
    "    plt.imshow(X_test[i].reshape(28, 28))\n",
    "    plt.gray()\n",
    "    ax.get_xaxis().set_visible(False)\n",
    "    ax.get_yaxis().set_visible(False)\n",
    "\n",
    "    \n",
    "    # display reconstruction\n",
    "    ax = plt.subplot(3, n, i+n+1)\n",
    "    plt.imshow(decoded_imgs[i].reshape(28, 28))\n",
    "    plt.gray()\n",
    "    ax.get_xaxis().set_visible(False)\n",
    "    ax.get_yaxis().set_visible(False)\n",
    "    \n",
    "plt.show()"
   ]
  },
  {
   "cell_type": "markdown",
   "metadata": {},
   "source": [
    "### Plot the losses"
   ]
  },
  {
   "cell_type": "code",
   "execution_count": 18,
   "metadata": {},
   "outputs": [
    {
     "name": "stdout",
     "output_type": "stream",
     "text": [
      "dict_keys(['val_loss', 'loss'])\n"
     ]
    },
    {
     "data": {
      "image/png": "[encoded data removed]",
      "text/plain": [
       "<matplotlib.figure.Figure at 0x10c0cf3c8>"
      ]
     },
     "metadata": {},
     "output_type": "display_data"
    }
   ],
   "source": [
    "print(history.history.keys())\n",
    "\n",
    "plt.plot(history.history['loss'])\n",
    "plt.plot(history.history['val_loss'])\n",
    "plt.title('model loss')\n",
    "plt.ylabel('loss')\n",
    "plt.xlabel('epoch')\n",
    "plt.legend(['train', 'validation'], loc='upper right')\n",
    "plt.show()"
   ]
  },
  {
   "cell_type": "markdown",
   "metadata": {},
   "source": [
    "---"
   ]
  },
  {
   "cell_type": "markdown",
   "metadata": {},
   "source": [
    "# **Multilayer autoencoder**"
   ]
  },
  {
   "cell_type": "markdown",
   "metadata": {},
   "source": [
    "### Create the network"
   ]
  },
  {
   "cell_type": "markdown",
   "metadata": {},
   "source": [
    "We extend the idea of the first network to more layers"
   ]
  },
  {
   "cell_type": "code",
   "execution_count": 68,
   "metadata": {
    "collapsed": true,
    "jupyter": {
     "outputs_hidden": true
    }
   },
   "outputs": [],
   "source": [
    "input_size = 784\n",
    "hidden_size = 128\n",
    "code_size = 64\n",
    "\n",
    "x = Input(shape=(input_size,))\n",
    "hidden_1 = Dense(hidden_size, activation='relu')(x)\n",
    "h = Dense(code_size, activation='relu')(hidden_1)\n",
    "hidden_2 = Dense(hidden_size, activation='relu')(h)\n",
    "r = Dense(input_size, activation='sigmoid')(hidden_2)\n",
    "\n",
    "autoencoder = Model(inputs=x, outputs=r)\n",
    "autoencoder.compile(optimizer='adam', loss='mse')"
   ]
  },
  {
   "cell_type": "code",
   "execution_count": 69,
   "metadata": {},
   "outputs": [
    {
     "data": {
      "image/svg+xml": [
       "<svg height=\"337pt\" viewBox=\"0.00 0.00 142.85 337.00\" width=\"143pt\" xmlns=\"http://www.w3.org/2000/svg\" xmlns:xlink=\"http://www.w3.org/1999/xlink\">\n",
       "<g class=\"graph\" id=\"graph0\" transform=\"scale(1 1) rotate(0) translate(4 333)\">\n",
       "<title>G</title>\n",
       "<polygon fill=\"white\" points=\"-4,4 -4,-333 138.85,-333 138.85,4 -4,4\" stroke=\"none\"/>\n",
       "<!-- 112200354616 -->\n",
       "<g class=\"node\" id=\"node1\"><title>112200354616</title>\n",
       "<polygon fill=\"none\" points=\"0,-292.5 0,-328.5 134.85,-328.5 134.85,-292.5 0,-292.5\" stroke=\"black\"/>\n",
       "<text font-family=\"Times,serif\" font-size=\"14.00\" text-anchor=\"middle\" x=\"67.4248\" y=\"-306.3\">input_11: InputLayer</text>\n",
       "</g>\n",
       "<!-- 112299069168 -->\n",
       "<g class=\"node\" id=\"node2\"><title>112299069168</title>\n",
       "<polygon fill=\"none\" points=\"11.7988,-219.5 11.7988,-255.5 123.051,-255.5 123.051,-219.5 11.7988,-219.5\" stroke=\"black\"/>\n",
       "<text font-family=\"Times,serif\" font-size=\"14.00\" text-anchor=\"middle\" x=\"67.4248\" y=\"-233.3\">dense_13: Dense</text>\n",
       "</g>\n",
       "<!-- 112200354616&#45;&gt;112299069168 -->\n",
       "<g class=\"edge\" id=\"edge1\"><title>112200354616-&gt;112299069168</title>\n",
       "<path d=\"M67.4248,-292.313C67.4248,-284.289 67.4248,-274.547 67.4248,-265.569\" fill=\"none\" stroke=\"black\"/>\n",
       "<polygon fill=\"black\" points=\"70.9249,-265.529 67.4248,-255.529 63.9249,-265.529 70.9249,-265.529\" stroke=\"black\"/>\n",
       "</g>\n",
       "<!-- 112299098576 -->\n",
       "<g class=\"node\" id=\"node3\"><title>112299098576</title>\n",
       "<polygon fill=\"none\" points=\"11.7988,-146.5 11.7988,-182.5 123.051,-182.5 123.051,-146.5 11.7988,-146.5\" stroke=\"black\"/>\n",
       "<text font-family=\"Times,serif\" font-size=\"14.00\" text-anchor=\"middle\" x=\"67.4248\" y=\"-160.3\">dense_14: Dense</text>\n",
       "</g>\n",
       "<!-- 112299069168&#45;&gt;112299098576 -->\n",
       "<g class=\"edge\" id=\"edge2\"><title>112299069168-&gt;112299098576</title>\n",
       "<path d=\"M67.4248,-219.313C67.4248,-211.289 67.4248,-201.547 67.4248,-192.569\" fill=\"none\" stroke=\"black\"/>\n",
       "<polygon fill=\"black\" points=\"70.9249,-192.529 67.4248,-182.529 63.9249,-192.529 70.9249,-192.529\" stroke=\"black\"/>\n",
       "</g>\n",
       "<!-- 112299100648 -->\n",
       "<g class=\"node\" id=\"node4\"><title>112299100648</title>\n",
       "<polygon fill=\"none\" points=\"11.7988,-73.5 11.7988,-109.5 123.051,-109.5 123.051,-73.5 11.7988,-73.5\" stroke=\"black\"/>\n",
       "<text font-family=\"Times,serif\" font-size=\"14.00\" text-anchor=\"middle\" x=\"67.4248\" y=\"-87.3\">dense_15: Dense</text>\n",
       "</g>\n",
       "<!-- 112299098576&#45;&gt;112299100648 -->\n",
       "<g class=\"edge\" id=\"edge3\"><title>112299098576-&gt;112299100648</title>\n",
       "<path d=\"M67.4248,-146.313C67.4248,-138.289 67.4248,-128.547 67.4248,-119.569\" fill=\"none\" stroke=\"black\"/>\n",
       "<polygon fill=\"black\" points=\"70.9249,-119.529 67.4248,-109.529 63.9249,-119.529 70.9249,-119.529\" stroke=\"black\"/>\n",
       "</g>\n",
       "<!-- 112300184520 -->\n",
       "<g class=\"node\" id=\"node5\"><title>112300184520</title>\n",
       "<polygon fill=\"none\" points=\"11.7988,-0.5 11.7988,-36.5 123.051,-36.5 123.051,-0.5 11.7988,-0.5\" stroke=\"black\"/>\n",
       "<text font-family=\"Times,serif\" font-size=\"14.00\" text-anchor=\"middle\" x=\"67.4248\" y=\"-14.3\">dense_16: Dense</text>\n",
       "</g>\n",
       "<!-- 112299100648&#45;&gt;112300184520 -->\n",
       "<g class=\"edge\" id=\"edge4\"><title>112299100648-&gt;112300184520</title>\n",
       "<path d=\"M67.4248,-73.3129C67.4248,-65.2895 67.4248,-55.5475 67.4248,-46.5691\" fill=\"none\" stroke=\"black\"/>\n",
       "<polygon fill=\"black\" points=\"70.9249,-46.5288 67.4248,-36.5288 63.9249,-46.5289 70.9249,-46.5288\" stroke=\"black\"/>\n",
       "</g>\n",
       "</g>\n",
       "</svg>"
      ],
      "text/plain": [
       "<IPython.core.display.SVG object>"
      ]
     },
     "execution_count": 69,
     "metadata": {},
     "output_type": "execute_result"
    }
   ],
   "source": [
    "from IPython.display import SVG\n",
    "from keras.utils.vis_utils import model_to_dot\n",
    "\n",
    "SVG(model_to_dot(autoencoder).create(prog='dot', format='svg'))"
   ]
  },
  {
   "cell_type": "markdown",
   "metadata": {},
   "source": [
    "### Train the network"
   ]
  },
  {
   "cell_type": "code",
   "execution_count": 74,
   "metadata": {},
   "outputs": [
    {
     "name": "stdout",
     "output_type": "stream",
     "text": [
      "Train on 60000 samples, validate on 10000 samples\n",
      "Epoch 1/5\n",
      "60000/60000 [==============================] - 4s - loss: 0.0404 - val_loss: 0.0196\n",
      "Epoch 2/5\n",
      "60000/60000 [==============================] - 3s - loss: 0.0159 - val_loss: 0.0129\n",
      "Epoch 3/5\n",
      "60000/60000 [==============================] - 3s - loss: 0.0120 - val_loss: 0.0106\n",
      "Epoch 4/5\n",
      "60000/60000 [==============================] - 3s - loss: 0.0102 - val_loss: 0.0092\n",
      "Epoch 5/5\n",
      "60000/60000 [==============================] - 3s - loss: 0.0090 - val_loss: 0.0082\n"
     ]
    }
   ],
   "source": [
    "epochs = 5\n",
    "batch_size = 128\n",
    "\n",
    "history = autoencoder.fit(X_train, X_train, batch_size=batch_size, epochs=epochs, verbose=1, validation_data=(X_test, X_test))"
   ]
  },
  {
   "cell_type": "markdown",
   "metadata": {},
   "source": [
    "### Predict on the test set"
   ]
  },
  {
   "cell_type": "code",
   "execution_count": 75,
   "metadata": {
    "collapsed": true,
    "jupyter": {
     "outputs_hidden": true
    }
   },
   "outputs": [],
   "source": [
    "decoded_imgs = autoencoder.predict(X_test)"
   ]
  },
  {
   "cell_type": "markdown",
   "metadata": {},
   "source": [
    "### Plot"
   ]
  },
  {
   "cell_type": "code",
   "execution_count": 76,
   "metadata": {},
   "outputs": [
    {
     "data": {
      "image/png": "[encoded data removed]",
      "text/plain": [
       "<matplotlib.figure.Figure at 0x1a26169da0>"
      ]
     },
     "metadata": {},
     "output_type": "display_data"
    }
   ],
   "source": [
    "n = 10\n",
    "plt.figure(figsize=(20, 6))\n",
    "for i in range(n):\n",
    "    # display original\n",
    "    ax = plt.subplot(3, n, i+1)\n",
    "    plt.imshow(X_test[i].reshape(28, 28))\n",
    "    plt.gray()\n",
    "    ax.get_xaxis().set_visible(False)\n",
    "    ax.get_yaxis().set_visible(False)\n",
    "\n",
    "    \n",
    "    # display reconstruction\n",
    "    ax = plt.subplot(3, n, i+n+1)\n",
    "    plt.imshow(decoded_imgs[i].reshape(28, 28))\n",
    "    plt.gray()\n",
    "    ax.get_xaxis().set_visible(False)\n",
    "    ax.get_yaxis().set_visible(False)\n",
    "    \n",
    "plt.show()"
   ]
  },
  {
   "cell_type": "markdown",
   "metadata": {},
   "source": [
    "### Plot the losses"
   ]
  },
  {
   "cell_type": "code",
   "execution_count": 77,
   "metadata": {},
   "outputs": [
    {
     "name": "stdout",
     "output_type": "stream",
     "text": [
      "dict_keys(['val_loss', 'loss'])\n"
     ]
    },
    {
     "data": {
      "image/png": "[encoded data removed]",
      "text/plain": [
       "<matplotlib.figure.Figure at 0x1a261d9ac8>"
      ]
     },
     "metadata": {},
     "output_type": "display_data"
    }
   ],
   "source": [
    "print(history.history.keys())\n",
    "\n",
    "plt.plot(history.history['loss'])\n",
    "plt.plot(history.history['val_loss'])\n",
    "plt.title('model loss')\n",
    "plt.ylabel('loss')\n",
    "plt.xlabel('epoch')\n",
    "plt.legend(['train', 'validation'], loc='upper right')\n",
    "plt.show()"
   ]
  },
  {
   "cell_type": "markdown",
   "metadata": {},
   "source": [
    "___"
   ]
  },
  {
   "cell_type": "markdown",
   "metadata": {},
   "source": [
    "# **Convolutional autoencoder**"
   ]
  },
  {
   "cell_type": "code",
   "execution_count": 78,
   "metadata": {},
   "outputs": [
    {
     "name": "stdout",
     "output_type": "stream",
     "text": [
      "X_train shape: (60000, 28, 28, 1)\n",
      "60000 train samples\n",
      "10000 test samples\n"
     ]
    }
   ],
   "source": [
    "nb_classes = 10\n",
    "\n",
    "(X_train, y_train), (X_test, y_test) = mnist.load_data()\n",
    "\n",
    "X_train = X_train.reshape(X_train.shape[0], 28, 28, 1)\n",
    "X_test = X_test.reshape(X_test.shape[0], 28, 28, 1)\n",
    "X_train = X_train.astype(\"float32\")/255.\n",
    "X_test = X_test.astype(\"float32\")/255.\n",
    "print('X_train shape:', X_train.shape)\n",
    "print(X_train.shape[0], 'train samples')\n",
    "print(X_test.shape[0], 'test samples')\n",
    "\n",
    "y_train = np_utils.to_categorical(y_train, nb_classes)\n",
    "y_test = np_utils.to_categorical(y_test, nb_classes)"
   ]
  },
  {
   "cell_type": "markdown",
   "metadata": {},
   "source": [
    "### Create the network"
   ]
  },
  {
   "cell_type": "markdown",
   "metadata": {},
   "source": [
    "This network does not take flattened vectors as an input but images"
   ]
  },
  {
   "cell_type": "code",
   "execution_count": 87,
   "metadata": {
    "collapsed": true,
    "jupyter": {
     "outputs_hidden": true
    }
   },
   "outputs": [],
   "source": [
    "x = Input(shape=(28, 28,1)) \n",
    "\n",
    "# Encoder\n",
    "conv1_1 = Conv2D(16, (3, 3), activation='relu', padding='same')(x)\n",
    "pool1 = MaxPooling2D((2, 2), padding='same')(conv1_1)\n",
    "conv1_2 = Conv2D(8, (3, 3), activation='relu', padding='same')(pool1)\n",
    "pool2 = MaxPooling2D((2, 2), padding='same')(conv1_2)\n",
    "conv1_3 = Conv2D(8, (3, 3), activation='relu', padding='same')(pool2)\n",
    "h = MaxPooling2D((2, 2), padding='same')(conv1_3)\n",
    "\n",
    "\n",
    "# Decoder\n",
    "conv2_1 = Conv2D(8, (3, 3), activation='relu', padding='same')(h)\n",
    "up1 = UpSampling2D((2, 2))(conv2_1)\n",
    "conv2_2 = Conv2D(8, (3, 3), activation='relu', padding='same')(up1)\n",
    "up2 = UpSampling2D((2, 2))(conv2_2)\n",
    "conv2_3 = Conv2D(16, (3, 3), activation='relu')(up2)\n",
    "up3 = UpSampling2D((2, 2))(conv2_3)\n",
    "r = Conv2D(1, (3, 3), activation='sigmoid', padding='same')(up3)\n",
    "\n",
    "autoencoder = Model(inputs=x, outputs=r)\n",
    "autoencoder.compile(optimizer='adadelta', loss='binary_crossentropy')"
   ]
  },
  {
   "cell_type": "code",
   "execution_count": 88,
   "metadata": {},
   "outputs": [
    {
     "data": {
      "image/svg+xml": [
       "<svg height=\"994pt\" viewBox=\"0.00 0.00 226.61 994.00\" width=\"227pt\" xmlns=\"http://www.w3.org/2000/svg\" xmlns:xlink=\"http://www.w3.org/1999/xlink\">\n",
       "<g class=\"graph\" id=\"graph0\" transform=\"scale(1 1) rotate(0) translate(4 990)\">\n",
       "<title>G</title>\n",
       "<polygon fill=\"white\" points=\"-4,4 -4,-990 222.61,-990 222.61,4 -4,4\" stroke=\"none\"/>\n",
       "<!-- 112285154552 -->\n",
       "<g class=\"node\" id=\"node1\"><title>112285154552</title>\n",
       "<polygon fill=\"none\" points=\"41.624,-949.5 41.624,-985.5 176.986,-985.5 176.986,-949.5 41.624,-949.5\" stroke=\"black\"/>\n",
       "<text font-family=\"Times,serif\" font-size=\"14.00\" text-anchor=\"middle\" x=\"109.305\" y=\"-963.3\">input_14: InputLayer</text>\n",
       "</g>\n",
       "<!-- 112251134752 -->\n",
       "<g class=\"node\" id=\"node2\"><title>112251134752</title>\n",
       "<polygon fill=\"none\" points=\"42.7793,-876.5 42.7793,-912.5 175.831,-912.5 175.831,-876.5 42.7793,-876.5\" stroke=\"black\"/>\n",
       "<text font-family=\"Times,serif\" font-size=\"14.00\" text-anchor=\"middle\" x=\"109.305\" y=\"-890.3\">conv2d_35: Conv2D</text>\n",
       "</g>\n",
       "<!-- 112285154552&#45;&gt;112251134752 -->\n",
       "<g class=\"edge\" id=\"edge1\"><title>112285154552-&gt;112251134752</title>\n",
       "<path d=\"M109.305,-949.313C109.305,-941.289 109.305,-931.547 109.305,-922.569\" fill=\"none\" stroke=\"black\"/>\n",
       "<polygon fill=\"black\" points=\"112.805,-922.529 109.305,-912.529 105.805,-922.529 112.805,-922.529\" stroke=\"black\"/>\n",
       "</g>\n",
       "<!-- 112251753024 -->\n",
       "<g class=\"node\" id=\"node3\"><title>112251753024</title>\n",
       "<polygon fill=\"none\" points=\"0,-803.5 0,-839.5 218.61,-839.5 218.61,-803.5 0,-803.5\" stroke=\"black\"/>\n",
       "<text font-family=\"Times,serif\" font-size=\"14.00\" text-anchor=\"middle\" x=\"109.305\" y=\"-817.3\">max_pooling2d_15: MaxPooling2D</text>\n",
       "</g>\n",
       "<!-- 112251134752&#45;&gt;112251753024 -->\n",
       "<g class=\"edge\" id=\"edge2\"><title>112251134752-&gt;112251753024</title>\n",
       "<path d=\"M109.305,-876.313C109.305,-868.289 109.305,-858.547 109.305,-849.569\" fill=\"none\" stroke=\"black\"/>\n",
       "<polygon fill=\"black\" points=\"112.805,-849.529 109.305,-839.529 105.805,-849.529 112.805,-849.529\" stroke=\"black\"/>\n",
       "</g>\n",
       "<!-- 112251134528 -->\n",
       "<g class=\"node\" id=\"node4\"><title>112251134528</title>\n",
       "<polygon fill=\"none\" points=\"42.7793,-730.5 42.7793,-766.5 175.831,-766.5 175.831,-730.5 42.7793,-730.5\" stroke=\"black\"/>\n",
       "<text font-family=\"Times,serif\" font-size=\"14.00\" text-anchor=\"middle\" x=\"109.305\" y=\"-744.3\">conv2d_36: Conv2D</text>\n",
       "</g>\n",
       "<!-- 112251753024&#45;&gt;112251134528 -->\n",
       "<g class=\"edge\" id=\"edge3\"><title>112251753024-&gt;112251134528</title>\n",
       "<path d=\"M109.305,-803.313C109.305,-795.289 109.305,-785.547 109.305,-776.569\" fill=\"none\" stroke=\"black\"/>\n",
       "<polygon fill=\"black\" points=\"112.805,-776.529 109.305,-766.529 105.805,-776.529 112.805,-776.529\" stroke=\"black\"/>\n",
       "</g>\n",
       "<!-- 112215025592 -->\n",
       "<g class=\"node\" id=\"node5\"><title>112215025592</title>\n",
       "<polygon fill=\"none\" points=\"0,-657.5 0,-693.5 218.61,-693.5 218.61,-657.5 0,-657.5\" stroke=\"black\"/>\n",
       "<text font-family=\"Times,serif\" font-size=\"14.00\" text-anchor=\"middle\" x=\"109.305\" y=\"-671.3\">max_pooling2d_16: MaxPooling2D</text>\n",
       "</g>\n",
       "<!-- 112251134528&#45;&gt;112215025592 -->\n",
       "<g class=\"edge\" id=\"edge4\"><title>112251134528-&gt;112215025592</title>\n",
       "<path d=\"M109.305,-730.313C109.305,-722.289 109.305,-712.547 109.305,-703.569\" fill=\"none\" stroke=\"black\"/>\n",
       "<polygon fill=\"black\" points=\"112.805,-703.529 109.305,-693.529 105.805,-703.529 112.805,-703.529\" stroke=\"black\"/>\n",
       "</g>\n",
       "<!-- 112251907152 -->\n",
       "<g class=\"node\" id=\"node6\"><title>112251907152</title>\n",
       "<polygon fill=\"none\" points=\"42.7793,-584.5 42.7793,-620.5 175.831,-620.5 175.831,-584.5 42.7793,-584.5\" stroke=\"black\"/>\n",
       "<text font-family=\"Times,serif\" font-size=\"14.00\" text-anchor=\"middle\" x=\"109.305\" y=\"-598.3\">conv2d_37: Conv2D</text>\n",
       "</g>\n",
       "<!-- 112215025592&#45;&gt;112251907152 -->\n",
       "<g class=\"edge\" id=\"edge5\"><title>112215025592-&gt;112251907152</title>\n",
       "<path d=\"M109.305,-657.313C109.305,-649.289 109.305,-639.547 109.305,-630.569\" fill=\"none\" stroke=\"black\"/>\n",
       "<polygon fill=\"black\" points=\"112.805,-630.529 109.305,-620.529 105.805,-630.529 112.805,-630.529\" stroke=\"black\"/>\n",
       "</g>\n",
       "<!-- 112217220600 -->\n",
       "<g class=\"node\" id=\"node7\"><title>112217220600</title>\n",
       "<polygon fill=\"none\" points=\"0,-511.5 0,-547.5 218.61,-547.5 218.61,-511.5 0,-511.5\" stroke=\"black\"/>\n",
       "<text font-family=\"Times,serif\" font-size=\"14.00\" text-anchor=\"middle\" x=\"109.305\" y=\"-525.3\">max_pooling2d_17: MaxPooling2D</text>\n",
       "</g>\n",
       "<!-- 112251907152&#45;&gt;112217220600 -->\n",
       "<g class=\"edge\" id=\"edge6\"><title>112251907152-&gt;112217220600</title>\n",
       "<path d=\"M109.305,-584.313C109.305,-576.289 109.305,-566.547 109.305,-557.569\" fill=\"none\" stroke=\"black\"/>\n",
       "<polygon fill=\"black\" points=\"112.805,-557.529 109.305,-547.529 105.805,-557.529 112.805,-557.529\" stroke=\"black\"/>\n",
       "</g>\n",
       "<!-- 112252286232 -->\n",
       "<g class=\"node\" id=\"node8\"><title>112252286232</title>\n",
       "<polygon fill=\"none\" points=\"42.7793,-438.5 42.7793,-474.5 175.831,-474.5 175.831,-438.5 42.7793,-438.5\" stroke=\"black\"/>\n",
       "<text font-family=\"Times,serif\" font-size=\"14.00\" text-anchor=\"middle\" x=\"109.305\" y=\"-452.3\">conv2d_38: Conv2D</text>\n",
       "</g>\n",
       "<!-- 112217220600&#45;&gt;112252286232 -->\n",
       "<g class=\"edge\" id=\"edge7\"><title>112217220600-&gt;112252286232</title>\n",
       "<path d=\"M109.305,-511.313C109.305,-503.289 109.305,-493.547 109.305,-484.569\" fill=\"none\" stroke=\"black\"/>\n",
       "<polygon fill=\"black\" points=\"112.805,-484.529 109.305,-474.529 105.805,-484.529 112.805,-484.529\" stroke=\"black\"/>\n",
       "</g>\n",
       "<!-- 112229763056 -->\n",
       "<g class=\"node\" id=\"node9\"><title>112229763056</title>\n",
       "<polygon fill=\"none\" points=\"0,-365.5 0,-401.5 218.61,-401.5 218.61,-365.5 0,-365.5\" stroke=\"black\"/>\n",
       "<text font-family=\"Times,serif\" font-size=\"14.00\" text-anchor=\"middle\" x=\"109.305\" y=\"-379.3\">up_sampling2d_15: UpSampling2D</text>\n",
       "</g>\n",
       "<!-- 112252286232&#45;&gt;112229763056 -->\n",
       "<g class=\"edge\" id=\"edge8\"><title>112252286232-&gt;112229763056</title>\n",
       "<path d=\"M109.305,-438.313C109.305,-430.289 109.305,-420.547 109.305,-411.569\" fill=\"none\" stroke=\"black\"/>\n",
       "<polygon fill=\"black\" points=\"112.805,-411.529 109.305,-401.529 105.805,-411.529 112.805,-411.529\" stroke=\"black\"/>\n",
       "</g>\n",
       "<!-- 112217291576 -->\n",
       "<g class=\"node\" id=\"node10\"><title>112217291576</title>\n",
       "<polygon fill=\"none\" points=\"42.7793,-292.5 42.7793,-328.5 175.831,-328.5 175.831,-292.5 42.7793,-292.5\" stroke=\"black\"/>\n",
       "<text font-family=\"Times,serif\" font-size=\"14.00\" text-anchor=\"middle\" x=\"109.305\" y=\"-306.3\">conv2d_39: Conv2D</text>\n",
       "</g>\n",
       "<!-- 112229763056&#45;&gt;112217291576 -->\n",
       "<g class=\"edge\" id=\"edge9\"><title>112229763056-&gt;112217291576</title>\n",
       "<path d=\"M109.305,-365.313C109.305,-357.289 109.305,-347.547 109.305,-338.569\" fill=\"none\" stroke=\"black\"/>\n",
       "<polygon fill=\"black\" points=\"112.805,-338.529 109.305,-328.529 105.805,-338.529 112.805,-338.529\" stroke=\"black\"/>\n",
       "</g>\n",
       "<!-- 112235725880 -->\n",
       "<g class=\"node\" id=\"node11\"><title>112235725880</title>\n",
       "<polygon fill=\"none\" points=\"0,-219.5 0,-255.5 218.61,-255.5 218.61,-219.5 0,-219.5\" stroke=\"black\"/>\n",
       "<text font-family=\"Times,serif\" font-size=\"14.00\" text-anchor=\"middle\" x=\"109.305\" y=\"-233.3\">up_sampling2d_16: UpSampling2D</text>\n",
       "</g>\n",
       "<!-- 112217291576&#45;&gt;112235725880 -->\n",
       "<g class=\"edge\" id=\"edge10\"><title>112217291576-&gt;112235725880</title>\n",
       "<path d=\"M109.305,-292.313C109.305,-284.289 109.305,-274.547 109.305,-265.569\" fill=\"none\" stroke=\"black\"/>\n",
       "<polygon fill=\"black\" points=\"112.805,-265.529 109.305,-255.529 105.805,-265.529 112.805,-265.529\" stroke=\"black\"/>\n",
       "</g>\n",
       "<!-- 112235779128 -->\n",
       "<g class=\"node\" id=\"node12\"><title>112235779128</title>\n",
       "<polygon fill=\"none\" points=\"42.7793,-146.5 42.7793,-182.5 175.831,-182.5 175.831,-146.5 42.7793,-146.5\" stroke=\"black\"/>\n",
       "<text font-family=\"Times,serif\" font-size=\"14.00\" text-anchor=\"middle\" x=\"109.305\" y=\"-160.3\">conv2d_40: Conv2D</text>\n",
       "</g>\n",
       "<!-- 112235725880&#45;&gt;112235779128 -->\n",
       "<g class=\"edge\" id=\"edge11\"><title>112235725880-&gt;112235779128</title>\n",
       "<path d=\"M109.305,-219.313C109.305,-211.289 109.305,-201.547 109.305,-192.569\" fill=\"none\" stroke=\"black\"/>\n",
       "<polygon fill=\"black\" points=\"112.805,-192.529 109.305,-182.529 105.805,-192.529 112.805,-192.529\" stroke=\"black\"/>\n",
       "</g>\n",
       "<!-- 112235726496 -->\n",
       "<g class=\"node\" id=\"node13\"><title>112235726496</title>\n",
       "<polygon fill=\"none\" points=\"0,-73.5 0,-109.5 218.61,-109.5 218.61,-73.5 0,-73.5\" stroke=\"black\"/>\n",
       "<text font-family=\"Times,serif\" font-size=\"14.00\" text-anchor=\"middle\" x=\"109.305\" y=\"-87.3\">up_sampling2d_17: UpSampling2D</text>\n",
       "</g>\n",
       "<!-- 112235779128&#45;&gt;112235726496 -->\n",
       "<g class=\"edge\" id=\"edge12\"><title>112235779128-&gt;112235726496</title>\n",
       "<path d=\"M109.305,-146.313C109.305,-138.289 109.305,-128.547 109.305,-119.569\" fill=\"none\" stroke=\"black\"/>\n",
       "<polygon fill=\"black\" points=\"112.805,-119.529 109.305,-109.529 105.805,-119.529 112.805,-119.529\" stroke=\"black\"/>\n",
       "</g>\n",
       "<!-- 112235195640 -->\n",
       "<g class=\"node\" id=\"node14\"><title>112235195640</title>\n",
       "<polygon fill=\"none\" points=\"42.7793,-0.5 42.7793,-36.5 175.831,-36.5 175.831,-0.5 42.7793,-0.5\" stroke=\"black\"/>\n",
       "<text font-family=\"Times,serif\" font-size=\"14.00\" text-anchor=\"middle\" x=\"109.305\" y=\"-14.3\">conv2d_41: Conv2D</text>\n",
       "</g>\n",
       "<!-- 112235726496&#45;&gt;112235195640 -->\n",
       "<g class=\"edge\" id=\"edge13\"><title>112235726496-&gt;112235195640</title>\n",
       "<path d=\"M109.305,-73.3129C109.305,-65.2895 109.305,-55.5475 109.305,-46.5691\" fill=\"none\" stroke=\"black\"/>\n",
       "<polygon fill=\"black\" points=\"112.805,-46.5288 109.305,-36.5288 105.805,-46.5289 112.805,-46.5288\" stroke=\"black\"/>\n",
       "</g>\n",
       "</g>\n",
       "</svg>"
      ],
      "text/plain": [
       "<IPython.core.display.SVG object>"
      ]
     },
     "execution_count": 88,
     "metadata": {},
     "output_type": "execute_result"
    }
   ],
   "source": [
    "from IPython.display import SVG\n",
    "from keras.utils.vis_utils import model_to_dot\n",
    "\n",
    "SVG(model_to_dot(autoencoder).create(prog='dot', format='svg'))"
   ]
  },
  {
   "cell_type": "markdown",
   "metadata": {},
   "source": [
    "### Train"
   ]
  },
  {
   "cell_type": "code",
   "execution_count": 89,
   "metadata": {},
   "outputs": [
    {
     "name": "stdout",
     "output_type": "stream",
     "text": [
      "Train on 60000 samples, validate on 10000 samples\n",
      "Epoch 1/3\n",
      "60000/60000 [==============================] - 79s - loss: 0.2290 - val_loss: 0.1701\n",
      "Epoch 2/3\n",
      "60000/60000 [==============================] - 80s - loss: 0.1612 - val_loss: 0.1497\n",
      "Epoch 3/3\n",
      "60000/60000 [==============================] - 80s - loss: 0.1471 - val_loss: 0.1429\n"
     ]
    }
   ],
   "source": [
    "epochs = 3\n",
    "batch_size = 128\n",
    "\n",
    "history = autoencoder.fit(X_train, X_train, batch_size=batch_size, epochs=epochs, verbose=1, validation_data=(X_test, X_test))"
   ]
  },
  {
   "cell_type": "code",
   "execution_count": 90,
   "metadata": {
    "collapsed": true,
    "jupyter": {
     "outputs_hidden": true
    }
   },
   "outputs": [],
   "source": [
    "decoded_imgs = autoencoder.predict(X_test)"
   ]
  },
  {
   "cell_type": "markdown",
   "metadata": {},
   "source": [
    "### Plot"
   ]
  },
  {
   "cell_type": "code",
   "execution_count": 91,
   "metadata": {},
   "outputs": [
    {
     "data": {
      "image/png": "[encoded data removed]",
      "text/plain": [
       "<matplotlib.figure.Figure at 0x1a205c8dd8>"
      ]
     },
     "metadata": {},
     "output_type": "display_data"
    }
   ],
   "source": [
    "n = 10\n",
    "plt.figure(figsize=(20, 6))\n",
    "for i in range(n):\n",
    "    # display original\n",
    "    ax = plt.subplot(3, n, i+1)\n",
    "    plt.imshow(X_test[i].reshape(28, 28))\n",
    "    plt.gray()\n",
    "    ax.get_xaxis().set_visible(False)\n",
    "    ax.get_yaxis().set_visible(False)\n",
    "\n",
    "    \n",
    "    # display reconstruction\n",
    "    ax = plt.subplot(3, n, i+n+1)\n",
    "    plt.imshow(decoded_imgs[i].reshape(28, 28))\n",
    "    plt.gray()\n",
    "    ax.get_xaxis().set_visible(False)\n",
    "    ax.get_yaxis().set_visible(False)\n",
    "    \n",
    "plt.show()"
   ]
  },
  {
   "cell_type": "markdown",
   "metadata": {},
   "source": [
    "### Plot the losses"
   ]
  },
  {
   "cell_type": "code",
   "execution_count": 92,
   "metadata": {},
   "outputs": [
    {
     "name": "stdout",
     "output_type": "stream",
     "text": [
      "dict_keys(['val_loss', 'loss'])\n"
     ]
    },
    {
     "data": {
      "image/png": "[encoded data removed]",
      "text/plain": [
       "<matplotlib.figure.Figure at 0x1a2214afd0>"
      ]
     },
     "metadata": {},
     "output_type": "display_data"
    }
   ],
   "source": [
    "print(history.history.keys())\n",
    "\n",
    "plt.plot(history.history['loss'])\n",
    "plt.plot(history.history['val_loss'])\n",
    "plt.title('model loss')\n",
    "plt.ylabel('loss')\n",
    "plt.xlabel('epoch')\n",
    "plt.legend(['train', 'validation'], loc='upper right')\n",
    "plt.show()"
   ]
  },
  {
   "cell_type": "markdown",
   "metadata": {},
   "source": [
    "___"
   ]
  },
  {
   "cell_type": "markdown",
   "metadata": {},
   "source": [
    "# **Regularized autoencoder**"
   ]
  },
  {
   "cell_type": "markdown",
   "metadata": {},
   "source": [
    "Two types of regularization are described : \n",
    "- Sparse autoencoder\n",
    "- Denoising autoencoder"
   ]
  },
  {
   "cell_type": "markdown",
   "metadata": {},
   "source": [
    "## 1. Sparse autoencoder"
   ]
  },
  {
   "cell_type": "markdown",
   "metadata": {},
   "source": [
    "### Create the network"
   ]
  },
  {
   "cell_type": "code",
   "execution_count": 19,
   "metadata": {
    "collapsed": true,
    "jupyter": {
     "outputs_hidden": true
    }
   },
   "outputs": [],
   "source": [
    "input_size = 784\n",
    "hidden_size = 32\n",
    "output_size = 784"
   ]
  },
  {
   "cell_type": "code",
   "execution_count": 34,
   "metadata": {
    "collapsed": true,
    "jupyter": {
     "outputs_hidden": true
    }
   },
   "outputs": [],
   "source": [
    "x = Input(shape=(input_size,))\n",
    "h = Dense(hidden_size, activation='relu', activity_regularizer=regularizers.l1(10e-5))(x)\n",
    "r = Dense(output_size, activation='sigmoid')(h)\n",
    "\n",
    "autoencoder = Model(inputs=x, outputs=r)\n",
    "autoencoder.compile(optimizer='adam', loss='mse')"
   ]
  },
  {
   "cell_type": "code",
   "execution_count": 27,
   "metadata": {},
   "outputs": [
    {
     "data": {
      "image/svg+xml": [
       "<svg height=\"191pt\" viewBox=\"0.00 0.00 136.36 191.00\" width=\"136pt\" xmlns=\"http://www.w3.org/2000/svg\" xmlns:xlink=\"http://www.w3.org/1999/xlink\">\n",
       "<g class=\"graph\" id=\"graph0\" transform=\"scale(1 1) rotate(0) translate(4 187)\">\n",
       "<title>G</title>\n",
       "<polygon fill=\"white\" points=\"-4,4 -4,-187 132.362,-187 132.362,4 -4,4\" stroke=\"none\"/>\n",
       "<!-- 112227364992 -->\n",
       "<g class=\"node\" id=\"node1\"><title>112227364992</title>\n",
       "<polygon fill=\"none\" points=\"0,-146.5 0,-182.5 128.362,-182.5 128.362,-146.5 0,-146.5\" stroke=\"black\"/>\n",
       "<text font-family=\"Times,serif\" font-size=\"14.00\" text-anchor=\"middle\" x=\"64.1812\" y=\"-160.3\">input_5: InputLayer</text>\n",
       "</g>\n",
       "<!-- 112479820544 -->\n",
       "<g class=\"node\" id=\"node2\"><title>112479820544</title>\n",
       "<polygon fill=\"none\" points=\"12.0552,-73.5 12.0552,-109.5 116.307,-109.5 116.307,-73.5 12.0552,-73.5\" stroke=\"black\"/>\n",
       "<text font-family=\"Times,serif\" font-size=\"14.00\" text-anchor=\"middle\" x=\"64.1812\" y=\"-87.3\">dense_9: Dense</text>\n",
       "</g>\n",
       "<!-- 112227364992&#45;&gt;112479820544 -->\n",
       "<g class=\"edge\" id=\"edge1\"><title>112227364992-&gt;112479820544</title>\n",
       "<path d=\"M64.1812,-146.313C64.1812,-138.289 64.1812,-128.547 64.1812,-119.569\" fill=\"none\" stroke=\"black\"/>\n",
       "<polygon fill=\"black\" points=\"67.6813,-119.529 64.1812,-109.529 60.6813,-119.529 67.6813,-119.529\" stroke=\"black\"/>\n",
       "</g>\n",
       "<!-- 112231807576 -->\n",
       "<g class=\"node\" id=\"node3\"><title>112231807576</title>\n",
       "<polygon fill=\"none\" points=\"8.55518,-0.5 8.55518,-36.5 119.807,-36.5 119.807,-0.5 8.55518,-0.5\" stroke=\"black\"/>\n",
       "<text font-family=\"Times,serif\" font-size=\"14.00\" text-anchor=\"middle\" x=\"64.1812\" y=\"-14.3\">dense_10: Dense</text>\n",
       "</g>\n",
       "<!-- 112479820544&#45;&gt;112231807576 -->\n",
       "<g class=\"edge\" id=\"edge2\"><title>112479820544-&gt;112231807576</title>\n",
       "<path d=\"M64.1812,-73.3129C64.1812,-65.2895 64.1812,-55.5475 64.1812,-46.5691\" fill=\"none\" stroke=\"black\"/>\n",
       "<polygon fill=\"black\" points=\"67.6813,-46.5288 64.1812,-36.5288 60.6813,-46.5289 67.6813,-46.5288\" stroke=\"black\"/>\n",
       "</g>\n",
       "</g>\n",
       "</svg>"
      ],
      "text/plain": [
       "<IPython.core.display.SVG object>"
      ]
     },
     "execution_count": 27,
     "metadata": {},
     "output_type": "execute_result"
    }
   ],
   "source": [
    "from IPython.display import SVG\n",
    "from keras.utils.vis_utils import model_to_dot\n",
    "\n",
    "SVG(model_to_dot(autoencoder).create(prog='dot', format='svg'))"
   ]
  },
  {
   "cell_type": "code",
   "execution_count": 35,
   "metadata": {},
   "outputs": [
    {
     "name": "stdout",
     "output_type": "stream",
     "text": [
      "Train on 60000 samples, validate on 10000 samples\n",
      "Epoch 1/15\n",
      "60000/60000 [==============================] - 2s - loss: 0.0536 - val_loss: 0.0307\n",
      "Epoch 2/15\n",
      "60000/60000 [==============================] - 2s - loss: 0.0253 - val_loss: 0.0209\n",
      "Epoch 3/15\n",
      "60000/60000 [==============================] - 2s - loss: 0.0186 - val_loss: 0.0160\n",
      "Epoch 4/15\n",
      "60000/60000 [==============================] - 2s - loss: 0.0148 - val_loss: 0.0131\n",
      "Epoch 5/15\n",
      "60000/60000 [==============================] - 2s - loss: 0.0127 - val_loss: 0.0116\n",
      "Epoch 6/15\n",
      "60000/60000 [==============================] - 2s - loss: 0.0116 - val_loss: 0.0108\n",
      "Epoch 7/15\n",
      "60000/60000 [==============================] - 2s - loss: 0.0110 - val_loss: 0.0105\n",
      "Epoch 8/15\n",
      "60000/60000 [==============================] - 2s - loss: 0.0107 - val_loss: 0.0103\n",
      "Epoch 9/15\n",
      "60000/60000 [==============================] - 2s - loss: 0.0106 - val_loss: 0.0101\n",
      "Epoch 10/15\n",
      "60000/60000 [==============================] - 2s - loss: 0.0105 - val_loss: 0.0101\n",
      "Epoch 11/15\n",
      "60000/60000 [==============================] - 2s - loss: 0.0104 - val_loss: 0.0100\n",
      "Epoch 12/15\n",
      "60000/60000 [==============================] - 2s - loss: 0.0103 - val_loss: 0.0099\n",
      "Epoch 13/15\n",
      "60000/60000 [==============================] - 2s - loss: 0.0103 - val_loss: 0.0099\n",
      "Epoch 14/15\n",
      "60000/60000 [==============================] - 2s - loss: 0.0102 - val_loss: 0.0099\n",
      "Epoch 15/15\n",
      "60000/60000 [==============================] - 2s - loss: 0.0102 - val_loss: 0.0099\n"
     ]
    }
   ],
   "source": [
    "epochs = 15\n",
    "batch_size = 128\n",
    "\n",
    "history = autoencoder.fit(X_train, X_train, batch_size=batch_size, epochs=epochs, verbose=1, validation_data=(X_test, X_test))"
   ]
  },
  {
   "cell_type": "markdown",
   "metadata": {},
   "source": [
    "### Predict on the test set"
   ]
  },
  {
   "cell_type": "code",
   "execution_count": 36,
   "metadata": {
    "collapsed": true,
    "jupyter": {
     "outputs_hidden": true
    }
   },
   "outputs": [],
   "source": [
    "decoded_imgs = autoencoder.predict(X_test)"
   ]
  },
  {
   "cell_type": "markdown",
   "metadata": {},
   "source": [
    "### Plot"
   ]
  },
  {
   "cell_type": "code",
   "execution_count": 37,
   "metadata": {},
   "outputs": [
    {
     "data": {
      "image/png": "[encoded data removed]",
      "text/plain": [
       "<matplotlib.figure.Figure at 0x1a1efc5ef0>"
      ]
     },
     "metadata": {},
     "output_type": "display_data"
    }
   ],
   "source": [
    "n = 10\n",
    "plt.figure(figsize=(20, 6))\n",
    "for i in range(n):\n",
    "    # display original\n",
    "    ax = plt.subplot(3, n, i+1)\n",
    "    plt.imshow(X_test[i].reshape(28, 28))\n",
    "    plt.gray()\n",
    "    ax.get_xaxis().set_visible(False)\n",
    "    ax.get_yaxis().set_visible(False)\n",
    "\n",
    "    \n",
    "    # display reconstruction\n",
    "    ax = plt.subplot(3, n, i+n+1)\n",
    "    plt.imshow(decoded_imgs[i].reshape(28, 28))\n",
    "    plt.gray()\n",
    "    ax.get_xaxis().set_visible(False)\n",
    "    ax.get_yaxis().set_visible(False)\n",
    "    \n",
    "plt.show()"
   ]
  },
  {
   "cell_type": "markdown",
   "metadata": {},
   "source": [
    "### Plot the losses"
   ]
  },
  {
   "cell_type": "code",
   "execution_count": 38,
   "metadata": {},
   "outputs": [
    {
     "name": "stdout",
     "output_type": "stream",
     "text": [
      "dict_keys(['val_loss', 'loss'])\n"
     ]
    },
    {
     "data": {
      "image/png": "[encoded data removed]",
      "text/plain": [
       "<matplotlib.figure.Figure at 0x1a1f6b48d0>"
      ]
     },
     "metadata": {},
     "output_type": "display_data"
    }
   ],
   "source": [
    "print(history.history.keys())\n",
    "\n",
    "plt.plot(history.history['loss'])\n",
    "plt.plot(history.history['val_loss'])\n",
    "plt.title('model loss')\n",
    "plt.ylabel('loss')\n",
    "plt.xlabel('epoch')\n",
    "plt.legend(['train', 'validation'], loc='upper right')\n",
    "plt.show()"
   ]
  },
  {
   "cell_type": "markdown",
   "metadata": {},
   "source": [
    "## 2. Denoising autoencoder"
   ]
  },
  {
   "cell_type": "code",
   "execution_count": 44,
   "metadata": {
    "collapsed": true,
    "jupyter": {
     "outputs_hidden": true
    }
   },
   "outputs": [],
   "source": [
    "(X_train, _), (X_test, _) = mnist.load_data()\n",
    "\n",
    "X_train = X_train.reshape(X_train.shape[0], 28, 28, 1)\n",
    "X_test = X_test.reshape(X_test.shape[0], 28, 28, 1)\n",
    "\n",
    "X_train = X_train.astype(\"float32\")/255.\n",
    "X_test = X_test.astype(\"float32\")/255."
   ]
  },
  {
   "cell_type": "markdown",
   "metadata": {},
   "source": [
    "### Create noisy data"
   ]
  },
  {
   "cell_type": "code",
   "execution_count": 45,
   "metadata": {
    "collapsed": true,
    "jupyter": {
     "outputs_hidden": true
    }
   },
   "outputs": [],
   "source": [
    "noise_factor = 0.5\n",
    "X_train_noisy = X_train + noise_factor * np.random.normal(loc=0.0, scale=1.0, size=X_train.shape) \n",
    "X_test_noisy = X_test + noise_factor * np.random.normal(loc=0.0, scale=1.0, size=X_test.shape) \n",
    "\n",
    "X_train_noisy = np.clip(X_train_noisy, 0., 1.)\n",
    "X_test_noisy = np.clip(X_test_noisy, 0., 1.)"
   ]
  },
  {
   "cell_type": "markdown",
   "metadata": {},
   "source": [
    "### Create the network"
   ]
  },
  {
   "cell_type": "code",
   "execution_count": 62,
   "metadata": {
    "collapsed": true,
    "jupyter": {
     "outputs_hidden": true
    }
   },
   "outputs": [],
   "source": [
    "x = Input(shape=(28, 28, 1))\n",
    "\n",
    "# Encoder\n",
    "conv1_1 = Conv2D(32, (3, 3), activation='relu', padding='same')(x)\n",
    "pool1 = MaxPooling2D((2, 2), padding='same')(conv1_1)\n",
    "conv1_2 = Conv2D(32, (3, 3), activation='relu', padding='same')(pool1)\n",
    "h = MaxPooling2D((2, 2), padding='same')(conv1_2)\n",
    "\n",
    "\n",
    "# Decoder\n",
    "conv2_1 = Conv2D(32, (3, 3), activation='relu', padding='same')(h)\n",
    "up1 = UpSampling2D((2, 2))(conv2_1)\n",
    "conv2_2 = Conv2D(32, (3, 3), activation='relu', padding='same')(up1)\n",
    "up2 = UpSampling2D((2, 2))(conv2_2)\n",
    "r = Conv2D(1, (3, 3), activation='sigmoid', padding='same')(up2)\n",
    "\n",
    "autoencoder = Model(inputs=x, outputs=r)\n",
    "autoencoder.compile(optimizer='adadelta', loss='binary_crossentropy')"
   ]
  },
  {
   "cell_type": "code",
   "execution_count": 63,
   "metadata": {},
   "outputs": [
    {
     "data": {
      "image/svg+xml": [
       "<svg height=\"702pt\" viewBox=\"0.00 0.00 219.61 702.00\" width=\"220pt\" xmlns=\"http://www.w3.org/2000/svg\" xmlns:xlink=\"http://www.w3.org/1999/xlink\">\n",
       "<g class=\"graph\" id=\"graph0\" transform=\"scale(1 1) rotate(0) translate(4 698)\">\n",
       "<title>G</title>\n",
       "<polygon fill=\"white\" points=\"-4,4 -4,-698 215.61,-698 215.61,4 -4,4\" stroke=\"none\"/>\n",
       "<!-- 112200355568 -->\n",
       "<g class=\"node\" id=\"node1\"><title>112200355568</title>\n",
       "<polygon fill=\"none\" points=\"38.124,-657.5 38.124,-693.5 173.486,-693.5 173.486,-657.5 38.124,-657.5\" stroke=\"black\"/>\n",
       "<text font-family=\"Times,serif\" font-size=\"14.00\" text-anchor=\"middle\" x=\"105.805\" y=\"-671.3\">input_10: InputLayer</text>\n",
       "</g>\n",
       "<!-- 112213224472 -->\n",
       "<g class=\"node\" id=\"node2\"><title>112213224472</title>\n",
       "<polygon fill=\"none\" points=\"39.2793,-584.5 39.2793,-620.5 172.331,-620.5 172.331,-584.5 39.2793,-584.5\" stroke=\"black\"/>\n",
       "<text font-family=\"Times,serif\" font-size=\"14.00\" text-anchor=\"middle\" x=\"105.805\" y=\"-598.3\">conv2d_16: Conv2D</text>\n",
       "</g>\n",
       "<!-- 112200355568&#45;&gt;112213224472 -->\n",
       "<g class=\"edge\" id=\"edge1\"><title>112200355568-&gt;112213224472</title>\n",
       "<path d=\"M105.805,-657.313C105.805,-649.289 105.805,-639.547 105.805,-630.569\" fill=\"none\" stroke=\"black\"/>\n",
       "<polygon fill=\"black\" points=\"109.305,-630.529 105.805,-620.529 102.305,-630.529 109.305,-630.529\" stroke=\"black\"/>\n",
       "</g>\n",
       "<!-- 112212615352 -->\n",
       "<g class=\"node\" id=\"node3\"><title>112212615352</title>\n",
       "<polygon fill=\"none\" points=\"0,-511.5 0,-547.5 211.61,-547.5 211.61,-511.5 0,-511.5\" stroke=\"black\"/>\n",
       "<text font-family=\"Times,serif\" font-size=\"14.00\" text-anchor=\"middle\" x=\"105.805\" y=\"-525.3\">max_pooling2d_7: MaxPooling2D</text>\n",
       "</g>\n",
       "<!-- 112213224472&#45;&gt;112212615352 -->\n",
       "<g class=\"edge\" id=\"edge2\"><title>112213224472-&gt;112212615352</title>\n",
       "<path d=\"M105.805,-584.313C105.805,-576.289 105.805,-566.547 105.805,-557.569\" fill=\"none\" stroke=\"black\"/>\n",
       "<polygon fill=\"black\" points=\"109.305,-557.529 105.805,-547.529 102.305,-557.529 109.305,-557.529\" stroke=\"black\"/>\n",
       "</g>\n",
       "<!-- 4499537200 -->\n",
       "<g class=\"node\" id=\"node4\"><title>4499537200</title>\n",
       "<polygon fill=\"none\" points=\"39.2793,-438.5 39.2793,-474.5 172.331,-474.5 172.331,-438.5 39.2793,-438.5\" stroke=\"black\"/>\n",
       "<text font-family=\"Times,serif\" font-size=\"14.00\" text-anchor=\"middle\" x=\"105.805\" y=\"-452.3\">conv2d_17: Conv2D</text>\n",
       "</g>\n",
       "<!-- 112212615352&#45;&gt;4499537200 -->\n",
       "<g class=\"edge\" id=\"edge3\"><title>112212615352-&gt;4499537200</title>\n",
       "<path d=\"M105.805,-511.313C105.805,-503.289 105.805,-493.547 105.805,-484.569\" fill=\"none\" stroke=\"black\"/>\n",
       "<polygon fill=\"black\" points=\"109.305,-484.529 105.805,-474.529 102.305,-484.529 109.305,-484.529\" stroke=\"black\"/>\n",
       "</g>\n",
       "<!-- 112189965704 -->\n",
       "<g class=\"node\" id=\"node5\"><title>112189965704</title>\n",
       "<polygon fill=\"none\" points=\"0,-365.5 0,-401.5 211.61,-401.5 211.61,-365.5 0,-365.5\" stroke=\"black\"/>\n",
       "<text font-family=\"Times,serif\" font-size=\"14.00\" text-anchor=\"middle\" x=\"105.805\" y=\"-379.3\">max_pooling2d_8: MaxPooling2D</text>\n",
       "</g>\n",
       "<!-- 4499537200&#45;&gt;112189965704 -->\n",
       "<g class=\"edge\" id=\"edge4\"><title>4499537200-&gt;112189965704</title>\n",
       "<path d=\"M105.805,-438.313C105.805,-430.289 105.805,-420.547 105.805,-411.569\" fill=\"none\" stroke=\"black\"/>\n",
       "<polygon fill=\"black\" points=\"109.305,-411.529 105.805,-401.529 102.305,-411.529 109.305,-411.529\" stroke=\"black\"/>\n",
       "</g>\n",
       "<!-- 112213298760 -->\n",
       "<g class=\"node\" id=\"node6\"><title>112213298760</title>\n",
       "<polygon fill=\"none\" points=\"39.2793,-292.5 39.2793,-328.5 172.331,-328.5 172.331,-292.5 39.2793,-292.5\" stroke=\"black\"/>\n",
       "<text font-family=\"Times,serif\" font-size=\"14.00\" text-anchor=\"middle\" x=\"105.805\" y=\"-306.3\">conv2d_18: Conv2D</text>\n",
       "</g>\n",
       "<!-- 112189965704&#45;&gt;112213298760 -->\n",
       "<g class=\"edge\" id=\"edge5\"><title>112189965704-&gt;112213298760</title>\n",
       "<path d=\"M105.805,-365.313C105.805,-357.289 105.805,-347.547 105.805,-338.569\" fill=\"none\" stroke=\"black\"/>\n",
       "<polygon fill=\"black\" points=\"109.305,-338.529 105.805,-328.529 102.305,-338.529 109.305,-338.529\" stroke=\"black\"/>\n",
       "</g>\n",
       "<!-- 112214840096 -->\n",
       "<g class=\"node\" id=\"node7\"><title>112214840096</title>\n",
       "<polygon fill=\"none\" points=\"0,-219.5 0,-255.5 211.61,-255.5 211.61,-219.5 0,-219.5\" stroke=\"black\"/>\n",
       "<text font-family=\"Times,serif\" font-size=\"14.00\" text-anchor=\"middle\" x=\"105.805\" y=\"-233.3\">up_sampling2d_7: UpSampling2D</text>\n",
       "</g>\n",
       "<!-- 112213298760&#45;&gt;112214840096 -->\n",
       "<g class=\"edge\" id=\"edge6\"><title>112213298760-&gt;112214840096</title>\n",
       "<path d=\"M105.805,-292.313C105.805,-284.289 105.805,-274.547 105.805,-265.569\" fill=\"none\" stroke=\"black\"/>\n",
       "<polygon fill=\"black\" points=\"109.305,-265.529 105.805,-255.529 102.305,-265.529 109.305,-265.529\" stroke=\"black\"/>\n",
       "</g>\n",
       "<!-- 112214695216 -->\n",
       "<g class=\"node\" id=\"node8\"><title>112214695216</title>\n",
       "<polygon fill=\"none\" points=\"39.2793,-146.5 39.2793,-182.5 172.331,-182.5 172.331,-146.5 39.2793,-146.5\" stroke=\"black\"/>\n",
       "<text font-family=\"Times,serif\" font-size=\"14.00\" text-anchor=\"middle\" x=\"105.805\" y=\"-160.3\">conv2d_19: Conv2D</text>\n",
       "</g>\n",
       "<!-- 112214840096&#45;&gt;112214695216 -->\n",
       "<g class=\"edge\" id=\"edge7\"><title>112214840096-&gt;112214695216</title>\n",
       "<path d=\"M105.805,-219.313C105.805,-211.289 105.805,-201.547 105.805,-192.569\" fill=\"none\" stroke=\"black\"/>\n",
       "<polygon fill=\"black\" points=\"109.305,-192.529 105.805,-182.529 102.305,-192.529 109.305,-192.529\" stroke=\"black\"/>\n",
       "</g>\n",
       "<!-- 112220028768 -->\n",
       "<g class=\"node\" id=\"node9\"><title>112220028768</title>\n",
       "<polygon fill=\"none\" points=\"0,-73.5 0,-109.5 211.61,-109.5 211.61,-73.5 0,-73.5\" stroke=\"black\"/>\n",
       "<text font-family=\"Times,serif\" font-size=\"14.00\" text-anchor=\"middle\" x=\"105.805\" y=\"-87.3\">up_sampling2d_8: UpSampling2D</text>\n",
       "</g>\n",
       "<!-- 112214695216&#45;&gt;112220028768 -->\n",
       "<g class=\"edge\" id=\"edge8\"><title>112214695216-&gt;112220028768</title>\n",
       "<path d=\"M105.805,-146.313C105.805,-138.289 105.805,-128.547 105.805,-119.569\" fill=\"none\" stroke=\"black\"/>\n",
       "<polygon fill=\"black\" points=\"109.305,-119.529 105.805,-109.529 102.305,-119.529 109.305,-119.529\" stroke=\"black\"/>\n",
       "</g>\n",
       "<!-- 112220151880 -->\n",
       "<g class=\"node\" id=\"node10\"><title>112220151880</title>\n",
       "<polygon fill=\"none\" points=\"39.2793,-0.5 39.2793,-36.5 172.331,-36.5 172.331,-0.5 39.2793,-0.5\" stroke=\"black\"/>\n",
       "<text font-family=\"Times,serif\" font-size=\"14.00\" text-anchor=\"middle\" x=\"105.805\" y=\"-14.3\">conv2d_20: Conv2D</text>\n",
       "</g>\n",
       "<!-- 112220028768&#45;&gt;112220151880 -->\n",
       "<g class=\"edge\" id=\"edge9\"><title>112220028768-&gt;112220151880</title>\n",
       "<path d=\"M105.805,-73.3129C105.805,-65.2895 105.805,-55.5475 105.805,-46.5691\" fill=\"none\" stroke=\"black\"/>\n",
       "<polygon fill=\"black\" points=\"109.305,-46.5288 105.805,-36.5288 102.305,-46.5289 109.305,-46.5288\" stroke=\"black\"/>\n",
       "</g>\n",
       "</g>\n",
       "</svg>"
      ],
      "text/plain": [
       "<IPython.core.display.SVG object>"
      ]
     },
     "execution_count": 63,
     "metadata": {},
     "output_type": "execute_result"
    }
   ],
   "source": [
    "from IPython.display import SVG\n",
    "from keras.utils.vis_utils import model_to_dot\n",
    "\n",
    "SVG(model_to_dot(autoencoder).create(prog='dot', format='svg'))"
   ]
  },
  {
   "cell_type": "markdown",
   "metadata": {},
   "source": [
    "### Train the network"
   ]
  },
  {
   "cell_type": "code",
   "execution_count": 64,
   "metadata": {},
   "outputs": [
    {
     "name": "stdout",
     "output_type": "stream",
     "text": [
      "Train on 60000 samples, validate on 10000 samples\n",
      "Epoch 1/3\n",
      "60000/60000 [==============================] - 140s - loss: 0.2005 - val_loss: 0.1380\n",
      "Epoch 2/3\n",
      "60000/60000 [==============================] - 138s - loss: 0.1247 - val_loss: 0.1186\n",
      "Epoch 3/3\n",
      "60000/60000 [==============================] - 139s - loss: 0.1149 - val_loss: 0.1124\n"
     ]
    }
   ],
   "source": [
    "epochs = 3\n",
    "batch_size = 128\n",
    "\n",
    "history = autoencoder.fit(X_train_noisy, X_train, batch_size=batch_size, epochs=epochs, verbose=1, validation_data=(X_test_noisy, X_test))"
   ]
  },
  {
   "cell_type": "code",
   "execution_count": 65,
   "metadata": {
    "collapsed": true,
    "jupyter": {
     "outputs_hidden": true
    }
   },
   "outputs": [],
   "source": [
    "decoded_imgs = autoencoder.predict(X_test_noisy)"
   ]
  },
  {
   "cell_type": "markdown",
   "metadata": {},
   "source": [
    "### Plot"
   ]
  },
  {
   "cell_type": "code",
   "execution_count": 66,
   "metadata": {},
   "outputs": [
    {
     "data": {
      "image/png": "[encoded data removed]",
      "text/plain": [
       "<matplotlib.figure.Figure at 0x1a22742d68>"
      ]
     },
     "metadata": {},
     "output_type": "display_data"
    }
   ],
   "source": [
    "n = 10\n",
    "plt.figure(figsize=(20, 6))\n",
    "for i in range(n):\n",
    "    # display original\n",
    "    ax = plt.subplot(3, n, i+1)\n",
    "    plt.imshow(X_test_noisy[i].reshape(28, 28))\n",
    "    plt.gray()\n",
    "    ax.get_xaxis().set_visible(False)\n",
    "    ax.get_yaxis().set_visible(False)\n",
    "\n",
    "    \n",
    "    # display reconstruction\n",
    "    ax = plt.subplot(3, n, i+n+1)\n",
    "    plt.imshow(decoded_imgs[i].reshape(28, 28))\n",
    "    plt.gray()\n",
    "    ax.get_xaxis().set_visible(False)\n",
    "    ax.get_yaxis().set_visible(False)\n",
    "    \n",
    "plt.show()"
   ]
  },
  {
   "cell_type": "markdown",
   "metadata": {},
   "source": [
    "### Plot the losses"
   ]
  },
  {
   "cell_type": "code",
   "execution_count": 67,
   "metadata": {},
   "outputs": [
    {
     "name": "stdout",
     "output_type": "stream",
     "text": [
      "dict_keys(['val_loss', 'loss'])\n"
     ]
    },
    {
     "data": {
      "image/png": "[encoded data removed]",
      "text/plain": [
       "<matplotlib.figure.Figure at 0x1a2170b860>"
      ]
     },
     "metadata": {},
     "output_type": "display_data"
    }
   ],
   "source": [
    "print(history.history.keys())\n",
    "\n",
    "plt.plot(history.history['loss'])\n",
    "plt.plot(history.history['val_loss'])\n",
    "plt.title('model loss')\n",
    "plt.ylabel('loss')\n",
    "plt.xlabel('epoch')\n",
    "plt.legend(['train', 'validation'], loc='upper right')\n",
    "plt.show()"
   ]
  },
  {
   "cell_type": "markdown",
   "metadata": {},
   "source": [
    "___"
   ]
  },
  {
   "cell_type": "markdown",
   "metadata": {},
   "source": [
    "---"
   ]
  }
 ],
 "metadata": {
  "kernelspec": {
   "display_name": "Python 3 (ipykernel)",
   "language": "python",
   "name": "python3"
  },
  "language_info": {
   "codemirror_mode": {
    "name": "ipython",
    "version": 3
   },
   "file_extension": ".py",
   "mimetype": "text/x-python",
   "name": "python",
   "nbconvert_exporter": "python",
   "pygments_lexer": "ipython3",
   "version": "3.12.4"
  }
 },
 "nbformat": 4,
 "nbformat_minor": 4
}

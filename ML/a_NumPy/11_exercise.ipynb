{
 "cells": [
  {
   "cell_type": "code",
   "execution_count": 2,
   "metadata": {},
   "outputs": [
    {
     "name": "stdout",
     "output_type": "stream",
     "text": [
      "Average All Grades: 16.32\n",
      "Standard Diviation of All Grades: 2.85965032827442\n",
      "Varians of All Grades: 8.177599999999998\n",
      "Average Grades of Each Student: [17.4 16.2 15.8 16.2 14.6 17.  17.6 16.2 16.6 15.6]\n",
      "Average Grades of Each Course: [16.1 16.4 16.9 16.7 15.5]\n",
      "Low To Top Index Of Student Sort By Average: [4 9 2 1 3 7 8 5 0 6]\n",
      "Top3 Index Of Student Sort By Average: [5 0 6]\n",
      "Student Grade By Index [ 5 ] is: 17.0\n",
      "Student Grade By Index [ 0 ] is: 17.4\n",
      "Student Grade By Index [ 6 ] is: 17.6\n",
      "Top Average Of all Course is: 16.9\n",
      "[ True False False False False False False False  True False]\n"
     ]
    }
   ],
   "source": [
    "import numpy as np\n",
    "grades=np.array([[18,20,14,17,18],\n",
    "                 [20,15,16,12,18],\n",
    "                 [13,19,17,18,12],\n",
    "                 [10,18,20,20,13],\n",
    "                 [14,14,20,11,14],\n",
    "                 [20,13,18,17,17],\n",
    "                 [13,20,20,19,16],\n",
    "                 [18,16,19,15,13],\n",
    "                 [16,15,14,19,19],\n",
    "                 [19,14,11,19,15],])\n",
    "average_grade=grades.mean()\n",
    "print(\"Average All Grades:\",average_grade)\n",
    "#--------------------------------------------------------------------\n",
    "standard_diviation=grades.std()\n",
    "print(\"Standard Diviation of All Grades:\",standard_diviation)\n",
    "#--------------------------------------------------------------------\n",
    "varians_grades=grades.var()\n",
    "print(\"Varians of All Grades:\",varians_grades)\n",
    "#---------------------------------------------------------------------\n",
    "average_each_student=grades.mean(axis=1)\n",
    "print(\"Average Grades of Each Student:\",average_each_student)\n",
    "#----------------------------------------------------------------------\n",
    "average_each_course=grades.mean(axis=0)\n",
    "print(\"Average Grades of Each Course:\",average_each_course)\n",
    "#----------------------------------------------------------------------\n",
    "LowToTopStudentAverageSort=average_each_student.argsort()\n",
    "print(\"Low To Top Index Of Student Sort By Average:\",LowToTopStudentAverageSort)\n",
    "#----------------------------------------------------------------------\n",
    "Top3StudentAverage=LowToTopStudentAverageSort[-3:]\n",
    "print(\"Top3 Index Of Student Sort By Average:\",Top3StudentAverage)\n",
    "#---------------------------------------------------------------------\n",
    "for x in np.nditer(Top3StudentAverage):\n",
    "    print(\"Student Grade By Index [\",x,\"] is:\",average_each_student[x])\n",
    "#----------------------------------------------------------------------\n",
    "TopAverageOfAllCourse=average_each_course.argmax()\n",
    "print(\"Top Average Of all Course is:\",average_each_course[TopAverageOfAllCourse])\n",
    "#----------------------------------------------------------------------\n",
    "IsAllGradeAbove13ForEachStudent=np.all(grades >13,axis=1)\n",
    "print(IsAllGradeAbove13ForEachStudent)\n",
    "\n",
    "\n"
   ]
  }
 ],
 "metadata": {
  "kernelspec": {
   "display_name": "Python 3",
   "language": "python",
   "name": "python3"
  },
  "language_info": {
   "codemirror_mode": {
    "name": "ipython",
    "version": 3
   },
   "file_extension": ".py",
   "mimetype": "text/x-python",
   "name": "python",
   "nbconvert_exporter": "python",
   "pygments_lexer": "ipython3",
   "version": "3.12.4"
  }
 },
 "nbformat": 4,
 "nbformat_minor": 2
}

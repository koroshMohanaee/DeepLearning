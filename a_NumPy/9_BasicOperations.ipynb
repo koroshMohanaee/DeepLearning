{
 "cells": [
  {
   "cell_type": "code",
   "execution_count": null,
   "metadata": {},
   "outputs": [],
   "source": [
    "import numpy as np \n",
    "arr1=np.array([1,2,3])\n",
    "arr2=np.array([4,5,6])\n",
    "print(arr1+arr2)\n",
    "print(arr2-arr1)\n",
    "print(arr1*arr2)\n",
    "print(arr2/arr1)\n",
    "var=(arr2/arr1).astype(int)\n",
    "print(var)\n",
    "\n",
    "print(arr1.sum()) #sum all element in array\n",
    "print(arr1.min()) \n",
    "print(arr1.max())\n",
    "print(arr1.mean()) #average element in array\n",
    "print(arr1.std())  #standard diviation \n",
    "print(arr1.var())   #variance "
   ]
  }
 ],
 "metadata": {
  "kernelspec": {
   "display_name": "Python 3",
   "language": "python",
   "name": "python3"
  },
  "language_info": {
   "codemirror_mode": {
    "name": "ipython",
    "version": 3
   },
   "file_extension": ".py",
   "mimetype": "text/x-python",
   "name": "python",
   "nbconvert_exporter": "python",
   "pygments_lexer": "ipython3",
   "version": "3.12.3"
  }
 },
 "nbformat": 4,
 "nbformat_minor": 2
}

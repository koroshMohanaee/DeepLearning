{
 "cells": [
  {
   "cell_type": "code",
   "execution_count": null,
   "metadata": {
    "id": "w2_JpR-JUIrj"
   },
   "outputs": [],
   "source": [
    "# 1. Import libraries and modules\n",
    "from tensorflow import keras\n",
    "from keras import layers\n",
    "from keras.models import Sequential\n",
    "from keras.layers import Dense, Dropout\n",
    "import numpy as np\n",
    "from dataset import load_hoda\n",
    "import matplotlib.pyplot as plt"
   ]
  },
  {
   "cell_type": "code",
   "execution_count": null,
   "metadata": {
    "id": "nLiGoekmUKt6"
   },
   "outputs": [],
   "source": [
    "# Load pre-shuffled HODA data into train and test sets\n",
    "X_train, y_train, X_test, y_test = load_hoda(\n",
    "                                            training_sample_size=3500,\n",
    "                                            test_sample_size=400,size=32)"
   ]
  },
  {
   "cell_type": "markdown",
   "metadata": {
    "id": "Q00uVKx_UZhF"
   },
   "source": [
    "# reshape"
   ]
  },
  {
   "cell_type": "code",
   "execution_count": null,
   "metadata": {
    "colab": {
     "base_uri": "https://localhost:8080/"
    },
    "id": "bO6hlQCsUYh-",
    "outputId": "6bcffd4e-6c15-4a53-bfbe-986ab36623b8"
   },
   "outputs": [],
   "source": [
    "\n",
    "# Reshape to original image shape (n x 784)  ==> (n x 28 x 28 x 1)\n",
    "X_train_32 = X_train.reshape(-1,32,32,1)\n",
    "X_test_32 = X_test.reshape(-1,32,32,1)\n",
    "X_train_32.shape"
   ]
  },
  {
   "cell_type": "code",
   "execution_count": null,
   "metadata": {
    "id": "OdESfQ_RWDc-"
   },
   "outputs": [],
   "source": [
    "import cv2\n",
    "import numpy as np"
   ]
  },
  {
   "cell_type": "code",
   "execution_count": null,
   "metadata": {
    "id": "KQtI0ydoWGq_"
   },
   "outputs": [],
   "source": [
    "X_train_28 = np.zeros((X_train_32.shape[0], 28, 28, 1))\n",
    "for i in range(X_train_32.shape[0]):\n",
    "    # Resize the sample from shape (32, 32, 1) to shape (28, 28, 1) using OpenCV\n",
    "    resized_sample = cv2.resize(X_train_32[i], (28, 28), interpolation=cv2.INTER_AREA)\n",
    "    # Assign the resized sample to the corresponding index in the new numpy array\n",
    "    X_train_28[i] = resized_sample.reshape((28, 28, 1))\n",
    "\n",
    "X_test_28 = np.zeros((X_test_32.shape[0], 28, 28, 1))\n",
    "for i in range(X_test_32.shape[0]):\n",
    "    # Resize the sample from shape (32, 32, 1) to shape (28, 28, 1) using OpenCV\n",
    "    resized_sample = cv2.resize(X_test_32[i], (28, 28), interpolation=cv2.INTER_AREA)\n",
    "    # Assign the resized sample to the corresponding index in the new numpy array\n",
    "    X_test_28[i] = resized_sample.reshape((28, 28, 1))"
   ]
  },
  {
   "cell_type": "code",
   "execution_count": null,
   "metadata": {
    "id": "s41UhdhCWtPA"
   },
   "outputs": [],
   "source": [
    "import matplotlib.pyplot as plt"
   ]
  },
  {
   "cell_type": "code",
   "execution_count": null,
   "metadata": {
    "colab": {
     "base_uri": "https://localhost:8080/",
     "height": 447
    },
    "id": "GChfkuUFWv5P",
    "outputId": "3dcd386b-1ca0-42ed-8491-1075e11182ca"
   },
   "outputs": [],
   "source": [
    "plt.imshow(X_test_32[0][:,:,0], cmap='gray')"
   ]
  },
  {
   "cell_type": "code",
   "execution_count": null,
   "metadata": {
    "colab": {
     "base_uri": "https://localhost:8080/",
     "height": 447
    },
    "id": "mcbcgT0jW8SK",
    "outputId": "8a1fd724-8612-4855-f03b-f2ab01227207"
   },
   "outputs": [],
   "source": [
    "plt.imshow(X_test_28[0][:,:,0], cmap='gray')"
   ]
  },
  {
   "cell_type": "code",
   "execution_count": null,
   "metadata": {
    "id": "Vx4hms5gXJX3"
   },
   "outputs": [],
   "source": [
    "# Preprocess input data\n",
    "'''normalize our data values to the range [0, 1]'''\n",
    "X_train_32 = X_train_32.astype('float32')\n",
    "X_test_32 = X_test_32.astype('float32')\n",
    "X_train_32 /= 255\n",
    "X_test_32 /= 255\n",
    "\n",
    "# Preprocess input data\n",
    "'''normalize our data values to the range [0, 1]'''\n",
    "X_train_28 = X_train_28.astype('float32')\n",
    "X_test_28 = X_test_28.astype('float32')\n",
    "X_train_28 /= 255\n",
    "X_test_28 /= 255\n"
   ]
  },
  {
   "cell_type": "code",
   "execution_count": null,
   "metadata": {
    "id": "Sx0KSwPFXeDN"
   },
   "outputs": [],
   "source": [
    "\n",
    "# 4. Preprocess class labels\n",
    "y_train = keras.utils.to_categorical(y_train)\n",
    "y_test = keras.utils.to_categorical(y_test)\n"
   ]
  },
  {
   "cell_type": "code",
   "execution_count": null,
   "metadata": {
    "id": "nZNLmXLWXfLh"
   },
   "outputs": [],
   "source": []
  },
  {
   "cell_type": "markdown",
   "metadata": {
    "id": "ou-11_zFXf17"
   },
   "source": [
    "# 1st senario"
   ]
  },
  {
   "cell_type": "code",
   "execution_count": null,
   "metadata": {
    "colab": {
     "base_uri": "https://localhost:8080/"
    },
    "id": "LeUFlv4nT9zM",
    "outputId": "676827a8-6e48-4821-d822-2fac991851d1"
   },
   "outputs": [],
   "source": [
    "# 5. Define model architecture\n",
    "model = Sequential()\n",
    "model.add(layers.Conv2D(32, (3, 3), activation='relu',\n",
    "                        input_shape=(28, 28, 1)))\n",
    "model.add(layers.MaxPooling2D((2, 2)))\n",
    "model.add(layers.Conv2D(64, (3, 3), activation='relu'))\n",
    "model.add(layers.MaxPooling2D((2, 2)))\n",
    "model.add(layers.Conv2D(64, (3, 3), activation='relu'))\n",
    "model.add(layers.Flatten())\n",
    "model.add(layers.Dense(64, activation='relu'))\n",
    "model.add(Dropout(0.5))\n",
    "model.add(layers.Dense(10, activation='softmax'))\n",
    "\n",
    "\n",
    "# 6. Compile model\n",
    "model.compile(loss='categorical_crossentropy',\n",
    "              optimizer='adam',\n",
    "              metrics=['accuracy'])\n",
    "\n",
    "\n",
    "# 7. Fit model on training data\n",
    "history = model.fit(X_train_28, y_train,\n",
    "          epochs=200, batch_size=256, validation_split=0.2)\n"
   ]
  },
  {
   "cell_type": "code",
   "execution_count": null,
   "metadata": {
    "colab": {
     "base_uri": "https://localhost:8080/",
     "height": 887
    },
    "id": "JPXMaIfcT9zT",
    "outputId": "d6b3ba8d-f547-4782-f8b4-51e842eb2701"
   },
   "outputs": [],
   "source": [
    "import matplotlib.pyplot as plt\n",
    "%matplotlib inline\n",
    "acc = history.history['accuracy']\n",
    "val_acc = history.history['val_accuracy']\n",
    "loss = history.history['loss']\n",
    "val_loss = history.history['val_loss']\n",
    "\n",
    "epochs = range(len(acc))\n",
    "\n",
    "plt.plot(epochs, acc, 'bo', label='Training acc')\n",
    "plt.plot(epochs, val_acc, 'b', label='Validation acc')\n",
    "plt.title('Training and validation accuracy')\n",
    "plt.legend()\n",
    "\n",
    "plt.figure()\n",
    "\n",
    "plt.plot(epochs, loss, 'bo', label='Training loss')\n",
    "plt.plot(epochs, val_loss, 'b', label='Validation loss')\n",
    "plt.title('Training and validation loss')\n",
    "plt.legend()\n",
    "\n",
    "plt.show()"
   ]
  },
  {
   "cell_type": "code",
   "execution_count": null,
   "metadata": {
    "colab": {
     "base_uri": "https://localhost:8080/"
    },
    "id": "mwUD7g8XX0FK",
    "outputId": "b270e147-e845-4c2a-de38-f7e6bdd47b43"
   },
   "outputs": [],
   "source": [
    "model.evaluate(X_test_28, y_test)"
   ]
  },
  {
   "cell_type": "markdown",
   "metadata": {
    "id": "G4eebvi8YCQr"
   },
   "source": [
    "Can you feed data with different dimention (such as 32x32)?"
   ]
  },
  {
   "cell_type": "code",
   "execution_count": null,
   "metadata": {
    "colab": {
     "base_uri": "https://localhost:8080/",
     "height": 1000
    },
    "id": "575DhPWmX_uZ",
    "outputId": "ba1ff1fa-69c6-4036-e410-53039ba36371"
   },
   "outputs": [],
   "source": [
    "model.evaluate(X_test_32, y_test)"
   ]
  },
  {
   "cell_type": "markdown",
   "metadata": {
    "id": "KTJbPXOsYQEB"
   },
   "source": [
    "No! you cannot! It raises \"Matrix size-incompatible\" Error,\n",
    "because we have used FC layers with **Flatten**"
   ]
  },
  {
   "cell_type": "markdown",
   "metadata": {
    "id": "lTcYrV07YdfY"
   },
   "source": [
    "## solution?!"
   ]
  },
  {
   "cell_type": "code",
   "execution_count": null,
   "metadata": {
    "colab": {
     "base_uri": "https://localhost:8080/"
    },
    "id": "Qg87d27NYoAw",
    "outputId": "9d0d0740-d905-48f5-b6bd-2352254c1aac"
   },
   "outputs": [],
   "source": [
    "model.summary()"
   ]
  },
  {
   "cell_type": "code",
   "execution_count": null,
   "metadata": {
    "colab": {
     "base_uri": "https://localhost:8080/"
    },
    "id": "ifx1uAEnYMlF",
    "outputId": "8bb10333-e642-400b-a4ac-45a5b9fef99e"
   },
   "outputs": [],
   "source": [
    "# 5. Define model architecture\n",
    "model = Sequential()\n",
    "model.add(layers.Conv2D(32, (3, 3), activation='relu',\n",
    "                        input_shape=(32, 32, 1)))\n",
    "model.add(layers.MaxPooling2D((2, 2)))\n",
    "model.add(layers.Conv2D(64, (3, 3), activation='relu'))\n",
    "model.add(layers.MaxPooling2D((2, 2)))\n",
    "model.add(layers.Conv2D(64, (3, 3), activation='relu'))\n",
    "model.add(layers.Flatten())\n",
    "model.add(layers.Dense(64, activation='relu'))\n",
    "model.add(Dropout(0.5))\n",
    "model.add(layers.Dense(10, activation='softmax'))\n",
    "\n",
    "model.summary()"
   ]
  },
  {
   "cell_type": "code",
   "execution_count": null,
   "metadata": {
    "id": "WQ8qS6T4Y6dC"
   },
   "outputs": [],
   "source": [
    "# 5. Define model architecture\n",
    "model = Sequential()\n",
    "model.add(layers.Conv2D(32, (3, 3), activation='relu'))\n",
    "model.add(layers.MaxPooling2D((2, 2)))\n",
    "model.add(layers.Conv2D(64, (3, 3), activation='relu'))\n",
    "model.add(layers.MaxPooling2D((2, 2)))\n",
    "model.add(layers.Conv2D(64, (3, 3), activation='relu'))\n",
    "model.add(layers.GlobalAveragePooling2D()) # the solution\n",
    "model.add(layers.Dense(64, activation='relu'))\n",
    "model.add(Dropout(0.5))\n",
    "model.add(layers.Dense(10, activation='softmax'))\n",
    "\n"
   ]
  },
  {
   "cell_type": "code",
   "execution_count": null,
   "metadata": {
    "colab": {
     "base_uri": "https://localhost:8080/"
    },
    "id": "-3f3W3E-ZT_J",
    "outputId": "f469b607-c6c8-4511-992d-8eef1eb89d5c"
   },
   "outputs": [],
   "source": [
    "model.predict(X_train_32[:5])\n",
    "model.summary()"
   ]
  },
  {
   "cell_type": "code",
   "execution_count": null,
   "metadata": {
    "colab": {
     "base_uri": "https://localhost:8080/"
    },
    "id": "KLHkGdW3ZhKL",
    "outputId": "121eaa22-acf8-436c-b959-bf752ef2667f"
   },
   "outputs": [],
   "source": [
    "# 6. Compile model\n",
    "model.compile(loss='categorical_crossentropy',\n",
    "              optimizer='adam',\n",
    "              metrics=['accuracy'])\n",
    "\n",
    "\n",
    "# 7. Fit model on training data\n",
    "history = model.fit(X_train_28, y_train,\n",
    "          epochs=80, batch_size=256, validation_split=0.2)\n"
   ]
  },
  {
   "cell_type": "markdown",
   "metadata": {
    "id": "EXAw4FU1aRUD"
   },
   "source": [
    "## lets evaluate it with 28x28"
   ]
  },
  {
   "cell_type": "code",
   "execution_count": null,
   "metadata": {
    "colab": {
     "base_uri": "https://localhost:8080/"
    },
    "id": "qNApvfT5aJXz",
    "outputId": "4de7ba8b-5b7d-4ebe-ff68-1ddafc774fba"
   },
   "outputs": [],
   "source": [
    "model.evaluate(X_test_28, y_test)"
   ]
  },
  {
   "cell_type": "markdown",
   "metadata": {
    "id": "UbxJ6HDLaV0h"
   },
   "source": [
    "## Now try it with different size!!!!"
   ]
  },
  {
   "cell_type": "code",
   "execution_count": null,
   "metadata": {
    "colab": {
     "base_uri": "https://localhost:8080/"
    },
    "id": "faqrYP7yaUZy",
    "outputId": "4db6aaa6-e46f-42f6-e29d-36eec54c15c3"
   },
   "outputs": [],
   "source": [
    "model.evaluate(X_test_32, y_test)"
   ]
  }
 ],
 "metadata": {
  "accelerator": "GPU",
  "anaconda-cloud": {},
  "colab": {
   "gpuType": "T4",
   "provenance": []
  },
  "gpuClass": "standard",
  "kernelspec": {
   "display_name": "vision-class",
   "language": "python",
   "name": "tensorflow_25"
  },
  "language_info": {
   "codemirror_mode": {
    "name": "ipython",
    "version": 3
   },
   "file_extension": ".py",
   "mimetype": "text/x-python",
   "name": "python",
   "nbconvert_exporter": "python",
   "pygments_lexer": "ipython3",
   "version": "3.8.10"
  },
  "nbpresent": {
   "slides": {
    "300ee14f-a043-486e-b274-7ff253907cd7": {
     "id": "300ee14f-a043-486e-b274-7ff253907cd7",
     "prev": "cb74e0bc-4513-4d13-b7f1-14c3078a7927",
     "regions": {
      "26dc3f39-a230-447c-af4c-f5e5b2fb7835": {
       "attrs": {
        "height": 0.8,
        "width": 0.8,
        "x": 0.1,
        "y": 0.1
       },
       "content": {
        "cell": "c58440a5-3f8f-4f37-9c79-6bf766209406",
        "part": "whole"
       },
       "id": "26dc3f39-a230-447c-af4c-f5e5b2fb7835"
      }
     }
    },
    "878aa53a-1444-4100-8f50-7a408191c579": {
     "id": "878aa53a-1444-4100-8f50-7a408191c579",
     "prev": null,
     "regions": {
      "a6c6843a-5ea6-4fbc-b890-3b4b8ae475b3": {
       "attrs": {
        "height": 0.8,
        "width": 0.8,
        "x": 0.1,
        "y": 0.1
       },
       "content": {
        "cell": "588ee1fa-64b5-453b-ade7-8e6b2515821c",
        "part": "whole"
       },
       "id": "a6c6843a-5ea6-4fbc-b890-3b4b8ae475b3"
      }
     }
    },
    "96ffe88e-7b50-43de-afdd-942e564f4e3e": {
     "id": "96ffe88e-7b50-43de-afdd-942e564f4e3e",
     "prev": "878aa53a-1444-4100-8f50-7a408191c579",
     "regions": {
      "b7e52e12-489a-468d-b10c-af2024fd2856": {
       "attrs": {
        "height": 0.8,
        "width": 0.8,
        "x": 0.1,
        "y": 0.1
       },
       "content": {
        "cell": "de829a92-1fb6-44ad-a2c6-fc1001e1f6e1",
        "part": "whole"
       },
       "id": "b7e52e12-489a-468d-b10c-af2024fd2856"
      }
     }
    },
    "cb74e0bc-4513-4d13-b7f1-14c3078a7927": {
     "id": "cb74e0bc-4513-4d13-b7f1-14c3078a7927",
     "prev": "96ffe88e-7b50-43de-afdd-942e564f4e3e",
     "regions": {
      "444878ee-68f3-4abb-acff-a7079b21e86d": {
       "attrs": {
        "height": 0.8,
        "width": 0.8,
        "x": 0.1,
        "y": 0.1
       },
       "content": {
        "cell": "25f3f538-1ee8-4d98-a6bb-14cbeb7a702d",
        "part": "whole"
       },
       "id": "444878ee-68f3-4abb-acff-a7079b21e86d"
      }
     }
    }
   },
   "themes": {}
  }
 },
 "nbformat": 4,
 "nbformat_minor": 4
}

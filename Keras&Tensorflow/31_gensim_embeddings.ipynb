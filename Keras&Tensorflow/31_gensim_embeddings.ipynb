{
  "cells": [
    {
      "cell_type": "markdown",
      "metadata": {
        "id": "QT2lDzMy4Mgh"
      },
      "source": [
        "<center><div style=\"direction:rtl;font-family:B Lotus, B Nazanin, Tahoma\">به نام خدا</div></center>\n",
        "<img src=\"https://github.com/Alireza-Akhavan/rnn-notebooks/blob/master/logo.png?raw=1\" alt=\"class.vision\" style=\"width: 200px;\"/>\n",
        "<h1><center><div style=\"direction:rtl;font-family:B Lotus, B Nazanin, Tahoma\">استفاده از gensim</div></center></h1>"
      ]
    },
    {
      "cell_type": "code",
      "source": [
        "import gensim.downloader as api"
      ],
      "metadata": {
        "id": "cC9i_QB_6nJv"
      },
      "execution_count": 7,
      "outputs": []
    },
    {
      "cell_type": "code",
      "source": [
        "print(list(api.info()['models'].keys()))"
      ],
      "metadata": {
        "id": "yeCztRKQ6q6C",
        "outputId": "fbaab5c6-facb-4771-9c89-78dcede4cc6b",
        "colab": {
          "base_uri": "https://localhost:8080/"
        }
      },
      "execution_count": 8,
      "outputs": [
        {
          "output_type": "stream",
          "name": "stdout",
          "text": [
            "['fasttext-wiki-news-subwords-300', 'conceptnet-numberbatch-17-06-300', 'word2vec-ruscorpora-300', 'word2vec-google-news-300', 'glove-wiki-gigaword-50', 'glove-wiki-gigaword-100', 'glove-wiki-gigaword-200', 'glove-wiki-gigaword-300', 'glove-twitter-25', 'glove-twitter-50', 'glove-twitter-100', 'glove-twitter-200', '__testing_word2vec-matrix-synopsis']\n"
          ]
        }
      ]
    },
    {
      "cell_type": "code",
      "source": [
        "word_vectors = api.load('fasttext-wiki-news-subwords-300')"
      ],
      "metadata": {
        "id": "CD7GotVA6vTN"
      },
      "execution_count": 12,
      "outputs": []
    },
    {
      "cell_type": "code",
      "source": [
        "word_vectors.distance(\"apple\", \"orange\")"
      ],
      "metadata": {
        "id": "_9z0F4j465Tt",
        "outputId": "67fc1bda-e72e-4681-8144-c0b36d08be80",
        "colab": {
          "base_uri": "https://localhost:8080/"
        }
      },
      "execution_count": 13,
      "outputs": [
        {
          "output_type": "execute_result",
          "data": {
            "text/plain": [
              "0.43817752599716187"
            ]
          },
          "metadata": {},
          "execution_count": 13
        }
      ]
    },
    {
      "cell_type": "code",
      "source": [
        "word_vectors.most_similar(\"twitter\")"
      ],
      "metadata": {
        "id": "GmOJsgBF7PR1",
        "outputId": "cbb9993c-5b3a-4278-dae3-c6fa52ad7a44",
        "colab": {
          "base_uri": "https://localhost:8080/"
        }
      },
      "execution_count": 14,
      "outputs": [
        {
          "output_type": "execute_result",
          "data": {
            "text/plain": [
              "[('Twitter', 0.8208357095718384),\n",
              " ('twitters', 0.8099667429924011),\n",
              " ('tweet', 0.7791348099708557),\n",
              " ('facebook', 0.7708378434181213),\n",
              " ('twitterer', 0.7670276165008545),\n",
              " ('twitter.', 0.7437460422515869),\n",
              " ('instagram', 0.739002525806427),\n",
              " ('twittering', 0.7377669215202332),\n",
              " ('twitterfeed', 0.7372092604637146),\n",
              " ('twitterati', 0.735425591468811)]"
            ]
          },
          "metadata": {},
          "execution_count": 14
        }
      ]
    },
    {
      "cell_type": "code",
      "source": [
        "word_vectors.most_similar(\"tea\")"
      ],
      "metadata": {
        "id": "OINkog3e7m31",
        "outputId": "377fd378-2bec-4e61-f750-855354c547de",
        "colab": {
          "base_uri": "https://localhost:8080/"
        }
      },
      "execution_count": 15,
      "outputs": [
        {
          "output_type": "execute_result",
          "data": {
            "text/plain": [
              "[('tea-', 0.7728264927864075),\n",
              " ('coffee', 0.7583761215209961),\n",
              " ('teas', 0.731768786907196),\n",
              " ('cuppa', 0.7301388382911682),\n",
              " ('teabags', 0.6973741054534912),\n",
              " ('Tea', 0.682609498500824),\n",
              " ('tea-drinking', 0.6748529076576233),\n",
              " ('teabag', 0.670712947845459),\n",
              " ('tea-making', 0.6683592200279236),\n",
              " ('tea-bags', 0.6638833284378052)]"
            ]
          },
          "metadata": {},
          "execution_count": 15
        }
      ]
    },
    {
      "cell_type": "code",
      "source": [
        "word_vectors.most_similar(\"iran\")"
      ],
      "metadata": {
        "id": "meZAju6-7UO6",
        "outputId": "d7797e66-db65-49b8-b0c4-7dddaf6b417c",
        "colab": {
          "base_uri": "https://localhost:8080/"
        }
      },
      "execution_count": 16,
      "outputs": [
        {
          "output_type": "execute_result",
          "data": {
            "text/plain": [
              "[('iran.', 0.7285786867141724),\n",
              " ('iranian', 0.7192182540893555),\n",
              " ('irak', 0.7046836018562317),\n",
              " ('tehran', 0.6883254051208496),\n",
              " ('iranians', 0.6838786602020264),\n",
              " ('Iran', 0.6742428541183472),\n",
              " ('irans', 0.6629050374031067),\n",
              " ('iraq', 0.6611470580101013),\n",
              " ('Iran.', 0.6413509845733643),\n",
              " ('irani', 0.6381443738937378)]"
            ]
          },
          "metadata": {},
          "execution_count": 16
        }
      ]
    },
    {
      "cell_type": "code",
      "source": [
        "word_vectors.most_similar_cosmul(positive=[\"king\",\"woman\"], negative=[\"man\"])"
      ],
      "metadata": {
        "id": "pocPUeuP79Eu",
        "outputId": "06c56702-442a-4e8f-aa42-04dd17e23c5d",
        "colab": {
          "base_uri": "https://localhost:8080/"
        }
      },
      "execution_count": 17,
      "outputs": [
        {
          "output_type": "execute_result",
          "data": {
            "text/plain": [
              "[('queen', 0.9390855431556702),\n",
              " ('queen-mother', 0.9078598618507385),\n",
              " ('king-', 0.8828966617584229),\n",
              " ('queen-consort', 0.882541835308075),\n",
              " ('child-king', 0.8680858016014099),\n",
              " ('monarch', 0.8670082688331604),\n",
              " ('ex-queen', 0.8654637932777405),\n",
              " ('princess', 0.8628991842269897),\n",
              " ('queen-', 0.8613532781600952),\n",
              " ('boy-king', 0.860465943813324)]"
            ]
          },
          "metadata": {},
          "execution_count": 17
        }
      ]
    },
    {
      "cell_type": "code",
      "source": [],
      "metadata": {
        "id": "9qv5v7Dl80hM"
      },
      "execution_count": null,
      "outputs": []
    }
  ],
  "metadata": {
    "coursera": {
      "course_slug": "nlp-sequence-models",
      "graded_item_id": "8hb5s",
      "launcher_item_id": "5NrJ6"
    },
    "kernelspec": {
      "display_name": "tf2-GPU",
      "language": "python",
      "name": "tf2"
    },
    "language_info": {
      "codemirror_mode": {
        "name": "ipython",
        "version": 3
      },
      "file_extension": ".py",
      "mimetype": "text/x-python",
      "name": "python",
      "nbconvert_exporter": "python",
      "pygments_lexer": "ipython3",
      "version": "3.6.9"
    },
    "colab": {
      "provenance": []
    }
  },
  "nbformat": 4,
  "nbformat_minor": 0
}
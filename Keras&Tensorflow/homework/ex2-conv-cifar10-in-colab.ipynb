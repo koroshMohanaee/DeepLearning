{
 "cells": [
  {
   "cell_type": "markdown",
   "metadata": {},
   "source": [
    "<center><div style=\"direction:rtl;font-family:B Lotus, B Nazanin, Tahoma\">به نام خدا</div></center>\n",
    "\n",
    "<h1><center><div style=\"direction:rtl;font-family:B Lotus, B Nazanin, Tahoma\">تمرین عملی 2: طبقه بندی تصاویر Cifar10 با شبکه های کانولوشنالی روی googleColab</div></center></h1>\n",
    "\n",
    "[![Run in Google Colab](./images/colab.png)](https://colab.research.google.com/github/alireza-akhavan/SRU-deeplearning-workshop/blob/master/homework/ex2-conv-cifar10-in-colab.ipynb)"
   ]
  },
  {
   "cell_type": "markdown",
   "metadata": {},
   "source": [
    "## <div style=\"direction:rtl;text-align:right;font-family:B Lotus, B Nazanin, Tahoma\">صورت مساله</div>\n",
    "\n",
    "\n",
    "<div style=\"direction:rtl;text-align:right;font-family:Tahoma\">\n",
    "با شبکه های کانولوشنالی آشنا شدیم<br>\n",
    "توصیه می‌شود حتما بعد از تمرین اول این تمرین را حل کنید و قبل از این تمرین نوت بوک زیر را  مرور کنید:\n",
    "</div>\n",
    "\n",
    "[06_ConvolutionalNeuralNetwork-Hoda-Keras.ipynb ](https://nbviewer.jupyter.org/github/alireza-akhavan/SRU-deeplearning-workshop/blob/master/06_ConvolutionalNeuralNetwork-Hoda-Keras.ipynb)\n",
    "\n",
    "<div style=\"direction:rtl;text-align:right;font-family:Tahoma\">\n",
    "در این تمرین از مجموعه داده تصویری cifar10 استفاده خواهیم کرد. \n",
    "<br>\n",
    "خیلی از اوقات ممکنه دسترسی به GPU نداشته باشیم. حخوشبختانه سرویس های آنلاین و رایگانی هستند که توان محاسباتی رایگان در اختیارمان میگذراند. در این تمرین از شما خواسته شده که این نوت بوک را در گوگل کولب اجرا کنید.\n",
    "<br>\n",
    " قبلا در مورد گوگل کولب دو پست آموزشی نوشته شده است که در صورت تمایل به کسب اطلاعات بیشتر میتوانید بخوانید.\n",
    "    اما برای اجرا این تمرین نیازی به این جزئیات نخواهید داشت.\n",
    "</div>\n",
    "\n",
    "[آشنایی با سرویس ابری Google Colab ](http://blog.class.vision/1397/02/google-colab/)\n",
    "\n",
    "[اتصال مستقیم سرویس کولب (Google Colab) به درایو (Google Drive) از طریق فایل سیستم FUSE ](http://blog.class.vision/1397/04/%D8%A7%D8%AA%D8%B5%D8%A7%D9%84-%D9%85%D8%B3%D8%AA%D9%82%DB%8C%D9%85-%D8%B3%D8%B1%D9%88%DB%8C%D8%B3-%DA%A9%D9%88%D9%84%D8%A8-google-colab-%D8%A8%D9%87-%D8%AF%D8%B1%D8%A7%DB%8C%D9%88-google-drive/)\n"
   ]
  },
  {
   "cell_type": "markdown",
   "metadata": {},
   "source": [
    "## <div style=\"direction:rtl;text-align:right;font-family:B Lotus, B Nazanin, Tahoma\">لود کتابخانه های مورد نیاز </div>\n",
    "<div style=\"direction:rtl;text-align:right;font-family:Tahoma\">\n",
    "کتابخانه های مورد نیاز این تمرین لود شده اند\n",
    "<br>\n",
    "در صورت نیاز میتوانید کتابخانه های بیشتری لود کنید:\n",
    "</div>"
   ]
  },
  {
   "cell_type": "code",
   "execution_count": 1,
   "metadata": {},
   "outputs": [
    {
     "name": "stderr",
     "output_type": "stream",
     "text": [
      "Using TensorFlow backend.\n"
     ]
    }
   ],
   "source": [
    "from tensorflow import keras\n",
    "from keras.models import Sequential\n",
    "from keras.layers import Dense, Flatten, Dropout\n",
    "from keras.layers import Conv2D, MaxPooling2D\n",
    "from keras.datasets import cifar10\n",
    "import numpy as np\n",
    "import matplotlib.pyplot as plt\n",
    "%matplotlib inline"
   ]
  },
  {
   "cell_type": "markdown",
   "metadata": {},
   "source": [
    "## <div style=\"direction:rtl;text-align:right;font-family:B Lotus, B Nazanin, Tahoma\">مجموعه داده ی Cifar10 </div>\n",
    "<div style=\"direction:rtl;text-align:right;font-family:Tahoma\">\n",
    "<br>\n",
    "این مجموعه داده تصاویر رنگی در اندازه ی 32 در 32 و در 10 کلاس مختلف شامل ماشین، کامیون، اسب و ... است که در چارچوب کراس موجود است و از همان استفاده میکنیم.\n",
    "<br>\n",
    "اطلاعات بیشتر در مورد این مجموعه داده را از سایت این مجموعه داده میتوانید مطالعه کنید:\n",
    "<br>\n",
    "</div>\n",
    "\n",
    "https://www.cs.toronto.edu/~kriz/cifar.html"
   ]
  },
  {
   "cell_type": "code",
   "execution_count": 2,
   "metadata": {},
   "outputs": [],
   "source": [
    "(x_train, y_train), (x_test, y_test) = cifar10.load_data()"
   ]
  },
  {
   "cell_type": "markdown",
   "metadata": {},
   "source": [
    "## <div style=\"direction:rtl;text-align:right;font-family:B Lotus, B Nazanin, Tahoma\">نگاهی به مجموعه داده بیندازیم...</div>\n",
    "<div style=\"direction:rtl;text-align:right;font-family:Tahoma\">\n",
    "در زیر تصویری که در اندیس 7-ام این مجموعه داده قرار دارد را مشاهده می‌کنیم. این شماره را را به دلخوه عوض کنید و چند تصویر دیگر این مجموعه داده را ببینید.\n",
    "</div>\n"
   ]
  },
  {
   "cell_type": "code",
   "execution_count": 3,
   "metadata": {},
   "outputs": [
    {
     "data": {
      "text/plain": [
       "<matplotlib.image.AxesImage at 0x2800004ab38>"
      ]
     },
     "execution_count": 3,
     "metadata": {},
     "output_type": "execute_result"
    },
    {
     "data": {
      "image/png": "[encoded data removed]",
      "text/plain": [
       "<Figure size 432x288 with 1 Axes>"
      ]
     },
     "metadata": {
      "needs_background": "light"
     },
     "output_type": "display_data"
    }
   ],
   "source": [
    "plt.imshow(x_train[7])"
   ]
  },
  {
   "cell_type": "markdown",
   "metadata": {},
   "source": [
    "# <div style=\"direction:rtl;text-align:right;font-family:B Lotus, B Nazanin, Tahoma\">سوال 1:</div>\n",
    "<div style=\"direction:rtl;text-align:right;font-family:Tahoma\">\n",
    "ماتریس های تصویر را تبدیل به نوع داده ای float32 کنید و مقادیر پیکسل ها را نرمال کنید و بین 0 و 1 بیاورید.\n",
    "<br>\n",
    "<b>راهنمایی: </b>\n",
    "شما باید متد astype را صدا بزنید و در نهایت مقادیر پیکسل ها را تقسیم بر 255 کنید.</div>"
   ]
  },
  {
   "cell_type": "code",
   "execution_count": 4,
   "metadata": {},
   "outputs": [],
   "source": [
    "x_train = \n",
    "x_test = "
   ]
  },
  {
   "cell_type": "markdown",
   "metadata": {},
   "source": [
    "# <div style=\"direction:rtl;text-align:right;font-family:B Lotus, B Nazanin, Tahoma\">سوال 2:</div>\n",
    "<div style=\"direction:rtl;text-align:right;font-family:Tahoma\">\n",
    "همان طور که میبینید لیبل ها از نوع عددی هستند. آن ها را تبدیل به فرمت one-hot کنید.<br>\n",
    "</div>\n"
   ]
  },
  {
   "cell_type": "markdown",
   "metadata": {},
   "source": [
    "<hr>\n",
    "<div style=\"direction:rtl;text-align:right;font-family:Tahoma\">\n",
    "تعدادی از لیبل ها قبل از تبدیل به فرمت one-hot:</div>"
   ]
  },
  {
   "cell_type": "code",
   "execution_count": 5,
   "metadata": {},
   "outputs": [
    {
     "data": {
      "text/plain": [
       "array([[6],\n",
       "       [9],\n",
       "       [9],\n",
       "       [4],\n",
       "       [1],\n",
       "       [1],\n",
       "       [2],\n",
       "       [7],\n",
       "       [8],\n",
       "       [3]], dtype=uint8)"
      ]
     },
     "execution_count": 5,
     "metadata": {},
     "output_type": "execute_result"
    }
   ],
   "source": [
    "y_train[0:10]"
   ]
  },
  {
   "cell_type": "code",
   "execution_count": 6,
   "metadata": {},
   "outputs": [],
   "source": [
    "y_train = \n",
    "y_test = "
   ]
  },
  {
   "cell_type": "markdown",
   "metadata": {},
   "source": [
    "<div style=\"direction:rtl;text-align:right;font-family:Tahoma\">\n",
    "تعدادی از لیبل ها بعد از تبدیل به فرمت one-hot:</div>"
   ]
  },
  {
   "cell_type": "code",
   "execution_count": 7,
   "metadata": {},
   "outputs": [
    {
     "data": {
      "text/plain": [
       "array([[0., 0., 0., 0., 0., 0., 1., 0., 0., 0.],\n",
       "       [0., 0., 0., 0., 0., 0., 0., 0., 0., 1.],\n",
       "       [0., 0., 0., 0., 0., 0., 0., 0., 0., 1.],\n",
       "       [0., 0., 0., 0., 1., 0., 0., 0., 0., 0.],\n",
       "       [0., 1., 0., 0., 0., 0., 0., 0., 0., 0.],\n",
       "       [0., 1., 0., 0., 0., 0., 0., 0., 0., 0.],\n",
       "       [0., 0., 1., 0., 0., 0., 0., 0., 0., 0.],\n",
       "       [0., 0., 0., 0., 0., 0., 0., 1., 0., 0.],\n",
       "       [0., 0., 0., 0., 0., 0., 0., 0., 1., 0.],\n",
       "       [0., 0., 0., 1., 0., 0., 0., 0., 0., 0.]], dtype=float32)"
      ]
     },
     "execution_count": 7,
     "metadata": {},
     "output_type": "execute_result"
    }
   ],
   "source": [
    "y_train[0:10]"
   ]
  },
  {
   "cell_type": "markdown",
   "metadata": {},
   "source": [
    "# <div style=\"direction:rtl;text-align:right;font-family:B Lotus, B Nazanin, Tahoma\">سوال 3:</div>\n",
    "<div style=\"direction:rtl;text-align:right;font-family:Tahoma\">\n",
    "یک شبکه کانولوشنالی با معماری زیر بسازید:\n",
    "<ul>\n",
    "    <li>\n",
    "    یک لایه کانولوشنی با32 فیلتر با سایز فیلتر 3x3 و تابع فعالیت relu\n",
    "    </li>\n",
    "    <li>\n",
    "    لایه ی pooling با pool_size=(2,2)\n",
    "    </li>\n",
    "    <li>\n",
    "    یک لایه کانولوشنی با32 فیلتر با سایز فیلتر 3x3 و تابع فعالیت relu\n",
    "    </li>\n",
    "    <li>\n",
    "    لایه ی pooling با pool_size=(2,2)\n",
    "    </li>\n",
    "    <li>\n",
    "    یک لایه کانولوشنی با64 فیلتر با سایز فیلتر 3x3 و تابع فعالیت relu\n",
    "    </li>\n",
    "    <li>\n",
    "    لایه ی pooling با pool_size=(2,2)\n",
    "    </li>\n",
    "    <li>\n",
    "    استفاده از لایه ی Flatten() . به نظرتون چرا؟\n",
    "    </li>    \n",
    "    <li>\n",
    "    یک لایه Dropout با ترخ 0.5.\n",
    "    </li>\n",
    "    <li>\n",
    "    یک لایه softmax برای احتمالات خروجی. به نظرتون این لایه چند نوران میخواهد؟\n",
    "    </li>    \n",
    " \n",
    "</ul>\n",
    "</div>\n"
   ]
  },
  {
   "cell_type": "code",
   "execution_count": 8,
   "metadata": {},
   "outputs": [],
   "source": [
    "\n",
    "\n"
   ]
  },
  {
   "cell_type": "markdown",
   "metadata": {},
   "source": [
    "# <div style=\"direction:rtl;text-align:right;font-family:B Lotus, B Nazanin, Tahoma\">سوال 4:</div>\n",
    "<div style=\"direction:rtl;text-align:right;font-family:Tahoma\">\n",
    "مدل را کامپایل کنید و به عنوان optimizer متغیر opt_rms به تابع ارسال کنید. </div>\n"
   ]
  },
  {
   "cell_type": "code",
   "execution_count": 9,
   "metadata": {},
   "outputs": [],
   "source": [
    "opt_rms = keras.optimizers.RMSprop(learning_rate=0.001,decay=1e-6)\n",
    "\n"
   ]
  },
  {
   "cell_type": "markdown",
   "metadata": {},
   "source": [
    "# <div style=\"direction:rtl;text-align:right;font-family:B Lotus, B Nazanin, Tahoma\">سوال 5:</div>\n",
    "<div style=\"direction:rtl;text-align:right;font-family:Tahoma\">\n",
    "با فراخوانی متد fit روی مدل آن را آموزش بدهید. برای سادگی25 ایپاک با سایز بچ 64 بزنید. \n",
    "    <br>\n",
    " به عنوان دیتای validation نیز x_test و y_test را ارسال کنید که در هر سری کارایی روی داده های تست اعلام شود.\n",
    "</div>"
   ]
  },
  {
   "cell_type": "code",
   "execution_count": 10,
   "metadata": {},
   "outputs": [
    {
     "name": "stdout",
     "output_type": "stream",
     "text": [
      "Train on 50000 samples, validate on 10000 samples\n",
      "Epoch 1/25\n",
      "50000/50000 [==============================] - 16s 314us/step - loss: 1.8149 - acc: 0.3340 - val_loss: 1.4958 - val_acc: 0.4657\n",
      "Epoch 2/25\n",
      "50000/50000 [==============================] - 12s 238us/step - loss: 1.4985 - acc: 0.4576 - val_loss: 1.4273 - val_acc: 0.4949\n",
      "Epoch 3/25\n",
      "50000/50000 [==============================] - 13s 267us/step - loss: 1.3704 - acc: 0.5097 - val_loss: 1.3056 - val_acc: 0.5215\n",
      "Epoch 4/25\n",
      "50000/50000 [==============================] - 12s 240us/step - loss: 1.2872 - acc: 0.5429 - val_loss: 1.3538 - val_acc: 0.5080\n",
      "Epoch 5/25\n",
      "50000/50000 [==============================] - 12s 240us/step - loss: 1.2318 - acc: 0.5670 - val_loss: 1.1812 - val_acc: 0.5825\n",
      "Epoch 6/25\n",
      "50000/50000 [==============================] - 12s 244us/step - loss: 1.1888 - acc: 0.5802 - val_loss: 1.2271 - val_acc: 0.5912\n",
      "Epoch 7/25\n",
      "50000/50000 [==============================] - 12s 241us/step - loss: 1.1481 - acc: 0.5959 - val_loss: 1.1042 - val_acc: 0.6139\n",
      "Epoch 8/25\n",
      "50000/50000 [==============================] - 12s 240us/step - loss: 1.1248 - acc: 0.6041 - val_loss: 1.1360 - val_acc: 0.5956\n",
      "Epoch 9/25\n",
      "50000/50000 [==============================] - 12s 243us/step - loss: 1.0937 - acc: 0.6126 - val_loss: 1.0235 - val_acc: 0.6406\n",
      "Epoch 10/25\n",
      "50000/50000 [==============================] - 12s 241us/step - loss: 1.0750 - acc: 0.6232 - val_loss: 1.0030 - val_acc: 0.6523\n",
      "Epoch 11/25\n",
      "50000/50000 [==============================] - 12s 240us/step - loss: 1.0486 - acc: 0.6329 - val_loss: 1.0376 - val_acc: 0.6421\n",
      "Epoch 12/25\n",
      "50000/50000 [==============================] - 12s 247us/step - loss: 1.0317 - acc: 0.6393 - val_loss: 1.0864 - val_acc: 0.6116\n",
      "Epoch 13/25\n",
      "50000/50000 [==============================] - 13s 260us/step - loss: 1.0181 - acc: 0.6450 - val_loss: 0.9765 - val_acc: 0.6542\n",
      "Epoch 14/25\n",
      "50000/50000 [==============================] - 13s 250us/step - loss: 1.0019 - acc: 0.6493 - val_loss: 0.9678 - val_acc: 0.6597\n",
      "Epoch 15/25\n",
      "50000/50000 [==============================] - 12s 230us/step - loss: 0.9912 - acc: 0.6530 - val_loss: 0.9826 - val_acc: 0.6629\n",
      "Epoch 16/25\n",
      "50000/50000 [==============================] - 12s 245us/step - loss: 0.9827 - acc: 0.6549 - val_loss: 1.1734 - val_acc: 0.6110\n",
      "Epoch 17/25\n",
      "50000/50000 [==============================] - 12s 240us/step - loss: 0.9739 - acc: 0.6601 - val_loss: 1.1113 - val_acc: 0.6096\n",
      "Epoch 18/25\n",
      "50000/50000 [==============================] - 12s 232us/step - loss: 0.9639 - acc: 0.6637 - val_loss: 0.9663 - val_acc: 0.6651\n",
      "Epoch 19/25\n",
      "50000/50000 [==============================] - 12s 231us/step - loss: 0.9565 - acc: 0.6670 - val_loss: 0.9510 - val_acc: 0.6765\n",
      "Epoch 20/25\n",
      "50000/50000 [==============================] - 11s 229us/step - loss: 0.9474 - acc: 0.6724 - val_loss: 1.0058 - val_acc: 0.6634\n",
      "Epoch 21/25\n",
      "50000/50000 [==============================] - 12s 230us/step - loss: 0.9327 - acc: 0.6719 - val_loss: 0.9580 - val_acc: 0.6683\n",
      "Epoch 22/25\n",
      "50000/50000 [==============================] - 12s 230us/step - loss: 0.9333 - acc: 0.6719 - val_loss: 0.8680 - val_acc: 0.7061\n",
      "Epoch 23/25\n",
      "50000/50000 [==============================] - 11s 229us/step - loss: 0.9240 - acc: 0.6770 - val_loss: 0.9933 - val_acc: 0.6646\n",
      "Epoch 24/25\n",
      "50000/50000 [==============================] - 11s 229us/step - loss: 0.9215 - acc: 0.6785 - val_loss: 0.9356 - val_acc: 0.6790\n",
      "Epoch 25/25\n",
      "50000/50000 [==============================] - 11s 228us/step - loss: 0.9164 - acc: 0.6819 - val_loss: 0.9316 - val_acc: 0.6818\n"
     ]
    },
    {
     "data": {
      "text/plain": [
       "<keras.callbacks.History at 0x280000aea20>"
      ]
     },
     "execution_count": 10,
     "metadata": {},
     "output_type": "execute_result"
    }
   ],
   "source": []
  },
  {
   "cell_type": "markdown",
   "metadata": {},
   "source": [
    "# <div style=\"direction:rtl;text-align:right;font-family:B Lotus, B Nazanin, Tahoma\">سوال 6:</div>\n",
    "<div style=\"direction:rtl;text-align:right;font-family:Tahoma\">\n",
    "شبکه و هایپرپارامترهای این شبکه را به هر نحوی دوست دارید تغییر دهید تا دقت روی دادگان تست را به حداکثر برسانید.\n",
    "</div>\n"
   ]
  },
  {
   "cell_type": "markdown",
   "metadata": {},
   "source": [
    "<div class=\"alert alert-block alert-info\">\n",
    "<div style=\"direction:rtl;text-align:right;font-family:B Lotus, B Nazanin, Tahoma\"> دوره مقدماتی یادگیری عمیق<br>علیرضا اخوان پور<br>پنج شنبه، ۱۸ و ۲۵ بهمن ۱۳۹۷<br>\n",
    "</div>\n",
    "<a href=\"http://class.vision\">Class.Vision</a> - <a href=\"http://AkhavanPour.ir\">AkhavanPour.ir</a> - <a href=\"https://github.com/Alireza-Akhavan/\">GitHub</a>\n",
    "\n",
    "</div>"
   ]
  },
  {
   "cell_type": "code",
   "execution_count": null,
   "metadata": {},
   "outputs": [],
   "source": []
  }
 ],
 "metadata": {
  "kernelspec": {
   "display_name": "tensorflow",
   "language": "python",
   "name": "tensorflow"
  },
  "language_info": {
   "codemirror_mode": {
    "name": "ipython",
    "version": 3
   },
   "file_extension": ".py",
   "mimetype": "text/x-python",
   "name": "python",
   "nbconvert_exporter": "python",
   "pygments_lexer": "ipython3",
   "version": "3.6.8"
  }
 },
 "nbformat": 4,
 "nbformat_minor": 2
}

{
 "cells": [
  {
   "cell_type": "markdown",
   "metadata": {},
   "source": [
    "<center><div style=\"direction:rtl;font-family:B Lotus, B Nazanin, Tahoma\">به نام خدا</div></center>\n",
    "\n",
    "<h1><center><div style=\"direction:rtl;font-family:B Lotus, B Nazanin, Tahoma\">مقدمه‌ای بر شبکه‌های عصبی و چارچوب Keras (کراس)</div></center></h1>"
   ]
  },
  {
   "cell_type": "markdown",
   "metadata": {},
   "source": [
    "## <div style=\"direction:rtl;text-align:right;font-family:B Lotus, B Nazanin, Tahoma\">لود کتابخانه‌های مورد استفاده</div>\n",
    "<div style=\"direction:rtl;text-align:right;font-family:Tahoma\">\n"
   ]
  },
  {
   "cell_type": "code",
   "execution_count": 1,
   "metadata": {
    "nbpresent": {
     "id": "de829a92-1fb6-44ad-a2c6-fc1001e1f6e1"
    }
   },
   "outputs": [],
   "source": [
    "from tensorflow import keras\n",
    "from keras.models import Sequential\n",
    "from keras.layers import Dense\n",
    "import numpy as np\n",
    "\n",
    "from dataset import load_hoda"
   ]
  },
  {
   "cell_type": "markdown",
   "metadata": {},
   "source": [
    "## <div style=\"direction:rtl;text-align:right;font-family:B Lotus, B Nazanin, Tahoma\">لود مجموعه داده (dataset)</div>"
   ]
  },
  {
   "cell_type": "code",
   "execution_count": 2,
   "metadata": {},
   "outputs": [],
   "source": [
    "x_train_original, y_train_original, x_test_original, y_test_original = load_hoda()"
   ]
  },
  {
   "cell_type": "code",
   "execution_count": 3,
   "metadata": {},
   "outputs": [],
   "source": [
    "# Preprocess input data for Keras. \n",
    "y_train = keras.utils.to_categorical(y_train_original, num_classes=10)\n",
    "y_test = keras.utils.to_categorical(y_test_original, num_classes=10)"
   ]
  },
  {
   "cell_type": "markdown",
   "metadata": {},
   "source": [
    "<div style=\"direction:rtl;text-align:right;font-family:Tahoma\">\n",
    "نرمال سازی مقادیر به مقدار بین 0 و 1 \n",
    "</div>"
   ]
  },
  {
   "cell_type": "code",
   "execution_count": 4,
   "metadata": {},
   "outputs": [],
   "source": [
    "x_train = x_train_original.astype('float32')\n",
    "x_test = x_test_original.astype('float32')\n",
    "x_train /= 255\n",
    "x_test /= 255"
   ]
  },
  {
   "cell_type": "markdown",
   "metadata": {},
   "source": [
    "## <div style=\"direction:rtl;text-align:right;font-family:B Lotus, B Nazanin, Tahoma\">تعریف معماری مدل (model architecture)</div>"
   ]
  },
  {
   "cell_type": "code",
   "execution_count": 5,
   "metadata": {},
   "outputs": [],
   "source": [
    "model = Sequential()\n",
    "model.add(Dense(64, activation='relu', input_dim=25))\n",
    "model.add(Dense(10, activation='softmax'))"
   ]
  },
  {
   "cell_type": "code",
   "execution_count": 6,
   "metadata": {},
   "outputs": [
    {
     "name": "stdout",
     "output_type": "stream",
     "text": [
      "Model: \"sequential\"\n",
      "_________________________________________________________________\n",
      "Layer (type)                 Output Shape              Param #   \n",
      "=================================================================\n",
      "dense (Dense)                (None, 64)                1664      \n",
      "_________________________________________________________________\n",
      "dense_1 (Dense)              (None, 10)                650       \n",
      "=================================================================\n",
      "Total params: 2,314\n",
      "Trainable params: 2,314\n",
      "Non-trainable params: 0\n",
      "_________________________________________________________________\n"
     ]
    }
   ],
   "source": [
    "model.summary()"
   ]
  },
  {
   "cell_type": "markdown",
   "metadata": {},
   "source": [
    "## <div style=\"direction:rtl;text-align:right;font-family:B Lotus, B Nazanin, Tahoma\">Compile model</div>\n"
   ]
  },
  {
   "cell_type": "code",
   "execution_count": 7,
   "metadata": {},
   "outputs": [],
   "source": [
    "model.compile(loss='categorical_crossentropy',\n",
    "              optimizer='rmsprop',\n",
    "              metrics=['accuracy'])"
   ]
  },
  {
   "cell_type": "markdown",
   "metadata": {},
   "source": [
    "## <div style=\"direction:rtl;text-align:right;font-family:B Lotus, B Nazanin, Tahoma\">آموش مدل با داده‌های آموزشی</div>\n"
   ]
  },
  {
   "cell_type": "code",
   "execution_count": 8,
   "metadata": {},
   "outputs": [
    {
     "name": "stdout",
     "output_type": "stream",
     "text": [
      "Epoch 1/100\n",
      "13/13 [==============================] - 22s 47ms/step - loss: 2.2487 - accuracy: 0.1298 - val_loss: 2.0439 - val_accuracy: 0.3000\n",
      "Epoch 2/100\n",
      "13/13 [==============================] - 0s 4ms/step - loss: 1.9972 - accuracy: 0.3908 - val_loss: 1.8559 - val_accuracy: 0.5300\n",
      "Epoch 3/100\n",
      "13/13 [==============================] - 0s 4ms/step - loss: 1.8046 - accuracy: 0.5565 - val_loss: 1.6859 - val_accuracy: 0.6700\n",
      "Epoch 4/100\n",
      "13/13 [==============================] - 0s 4ms/step - loss: 1.6233 - accuracy: 0.6947 - val_loss: 1.5330 - val_accuracy: 0.7550\n",
      "Epoch 5/100\n",
      "13/13 [==============================] - 0s 4ms/step - loss: 1.4898 - accuracy: 0.7066 - val_loss: 1.3849 - val_accuracy: 0.7800\n",
      "Epoch 6/100\n",
      "13/13 [==============================] - 0s 4ms/step - loss: 1.3309 - accuracy: 0.7593 - val_loss: 1.2534 - val_accuracy: 0.7850\n",
      "Epoch 7/100\n",
      "13/13 [==============================] - 0s 6ms/step - loss: 1.1930 - accuracy: 0.7858 - val_loss: 1.1335 - val_accuracy: 0.7950\n",
      "Epoch 8/100\n",
      "13/13 [==============================] - 0s 4ms/step - loss: 1.1258 - accuracy: 0.7777 - val_loss: 1.0316 - val_accuracy: 0.8150\n",
      "Epoch 9/100\n",
      "13/13 [==============================] - 0s 5ms/step - loss: 0.9947 - accuracy: 0.8138 - val_loss: 0.9379 - val_accuracy: 0.8150\n",
      "Epoch 10/100\n",
      "13/13 [==============================] - 0s 4ms/step - loss: 0.8889 - accuracy: 0.8309 - val_loss: 0.8542 - val_accuracy: 0.8150\n",
      "Epoch 11/100\n",
      "13/13 [==============================] - 0s 4ms/step - loss: 0.8389 - accuracy: 0.8283 - val_loss: 0.7926 - val_accuracy: 0.8200\n",
      "Epoch 12/100\n",
      "13/13 [==============================] - 0s 4ms/step - loss: 0.7808 - accuracy: 0.8280 - val_loss: 0.7297 - val_accuracy: 0.8250\n",
      "Epoch 13/100\n",
      "13/13 [==============================] - 0s 4ms/step - loss: 0.6818 - accuracy: 0.8500 - val_loss: 0.6782 - val_accuracy: 0.8350\n",
      "Epoch 14/100\n",
      "13/13 [==============================] - 0s 4ms/step - loss: 0.6514 - accuracy: 0.8584 - val_loss: 0.6349 - val_accuracy: 0.8400\n",
      "Epoch 15/100\n",
      "13/13 [==============================] - 0s 4ms/step - loss: 0.5739 - accuracy: 0.8726 - val_loss: 0.6061 - val_accuracy: 0.8550\n",
      "Epoch 16/100\n",
      "13/13 [==============================] - 0s 5ms/step - loss: 0.5703 - accuracy: 0.8622 - val_loss: 0.5743 - val_accuracy: 0.8600\n",
      "Epoch 17/100\n",
      "13/13 [==============================] - 0s 4ms/step - loss: 0.5144 - accuracy: 0.8691 - val_loss: 0.5456 - val_accuracy: 0.8600\n",
      "Epoch 18/100\n",
      "13/13 [==============================] - 0s 5ms/step - loss: 0.5110 - accuracy: 0.8715 - val_loss: 0.5244 - val_accuracy: 0.8700\n",
      "Epoch 19/100\n",
      "13/13 [==============================] - 0s 5ms/step - loss: 0.4773 - accuracy: 0.8788 - val_loss: 0.5056 - val_accuracy: 0.8750\n",
      "Epoch 20/100\n",
      "13/13 [==============================] - 0s 5ms/step - loss: 0.4423 - accuracy: 0.8874 - val_loss: 0.4820 - val_accuracy: 0.8750\n",
      "Epoch 21/100\n",
      "13/13 [==============================] - 0s 5ms/step - loss: 0.4040 - accuracy: 0.8930 - val_loss: 0.4691 - val_accuracy: 0.8800\n",
      "Epoch 22/100\n",
      "13/13 [==============================] - 0s 5ms/step - loss: 0.4032 - accuracy: 0.8904 - val_loss: 0.4598 - val_accuracy: 0.8700\n",
      "Epoch 23/100\n",
      "13/13 [==============================] - 0s 6ms/step - loss: 0.3803 - accuracy: 0.9074 - val_loss: 0.4432 - val_accuracy: 0.8700\n",
      "Epoch 24/100\n",
      "13/13 [==============================] - 0s 5ms/step - loss: 0.3896 - accuracy: 0.8832 - val_loss: 0.4392 - val_accuracy: 0.8700\n",
      "Epoch 25/100\n",
      "13/13 [==============================] - 0s 5ms/step - loss: 0.3559 - accuracy: 0.9013 - val_loss: 0.4299 - val_accuracy: 0.8650\n",
      "Epoch 26/100\n",
      "13/13 [==============================] - 0s 5ms/step - loss: 0.3579 - accuracy: 0.8969 - val_loss: 0.4135 - val_accuracy: 0.8850\n",
      "Epoch 27/100\n",
      "13/13 [==============================] - 0s 5ms/step - loss: 0.3506 - accuracy: 0.8927 - val_loss: 0.4064 - val_accuracy: 0.8850\n",
      "Epoch 28/100\n",
      "13/13 [==============================] - 0s 5ms/step - loss: 0.3302 - accuracy: 0.9029 - val_loss: 0.4023 - val_accuracy: 0.8850\n",
      "Epoch 29/100\n",
      "13/13 [==============================] - 0s 5ms/step - loss: 0.3166 - accuracy: 0.9047 - val_loss: 0.3955 - val_accuracy: 0.8850\n",
      "Epoch 30/100\n",
      "13/13 [==============================] - 0s 5ms/step - loss: 0.3427 - accuracy: 0.8861 - val_loss: 0.3891 - val_accuracy: 0.8850\n",
      "Epoch 31/100\n",
      "13/13 [==============================] - 0s 5ms/step - loss: 0.3210 - accuracy: 0.8982 - val_loss: 0.3859 - val_accuracy: 0.8850\n",
      "Epoch 32/100\n",
      "13/13 [==============================] - 0s 7ms/step - loss: 0.3176 - accuracy: 0.9038 - val_loss: 0.3762 - val_accuracy: 0.8900\n",
      "Epoch 33/100\n",
      "13/13 [==============================] - 0s 5ms/step - loss: 0.3138 - accuracy: 0.9011 - val_loss: 0.3738 - val_accuracy: 0.8950\n",
      "Epoch 34/100\n",
      "13/13 [==============================] - 0s 5ms/step - loss: 0.3146 - accuracy: 0.8926 - val_loss: 0.3669 - val_accuracy: 0.8850\n",
      "Epoch 35/100\n",
      "13/13 [==============================] - 0s 5ms/step - loss: 0.3022 - accuracy: 0.8921 - val_loss: 0.3649 - val_accuracy: 0.8850\n",
      "Epoch 36/100\n",
      "13/13 [==============================] - 0s 5ms/step - loss: 0.2758 - accuracy: 0.9180 - val_loss: 0.3628 - val_accuracy: 0.8850\n",
      "Epoch 37/100\n",
      "13/13 [==============================] - 0s 4ms/step - loss: 0.2699 - accuracy: 0.9115 - val_loss: 0.3591 - val_accuracy: 0.8900\n",
      "Epoch 38/100\n",
      "13/13 [==============================] - 0s 3ms/step - loss: 0.2680 - accuracy: 0.9209 - val_loss: 0.3534 - val_accuracy: 0.8950\n",
      "Epoch 39/100\n",
      "13/13 [==============================] - 0s 3ms/step - loss: 0.2584 - accuracy: 0.9175 - val_loss: 0.3486 - val_accuracy: 0.8950\n",
      "Epoch 40/100\n",
      "13/13 [==============================] - 0s 3ms/step - loss: 0.2573 - accuracy: 0.9295 - val_loss: 0.3451 - val_accuracy: 0.8900\n",
      "Epoch 41/100\n",
      "13/13 [==============================] - 0s 3ms/step - loss: 0.2557 - accuracy: 0.9223 - val_loss: 0.3446 - val_accuracy: 0.8950\n",
      "Epoch 42/100\n",
      "13/13 [==============================] - 0s 3ms/step - loss: 0.2709 - accuracy: 0.9179 - val_loss: 0.3421 - val_accuracy: 0.8950\n",
      "Epoch 43/100\n",
      "13/13 [==============================] - 0s 3ms/step - loss: 0.2672 - accuracy: 0.9187 - val_loss: 0.3426 - val_accuracy: 0.8950\n",
      "Epoch 44/100\n",
      "13/13 [==============================] - 0s 3ms/step - loss: 0.2544 - accuracy: 0.9189 - val_loss: 0.3442 - val_accuracy: 0.8850\n",
      "Epoch 45/100\n",
      "13/13 [==============================] - 0s 3ms/step - loss: 0.2530 - accuracy: 0.9189 - val_loss: 0.3380 - val_accuracy: 0.8950\n",
      "Epoch 46/100\n",
      "13/13 [==============================] - 0s 3ms/step - loss: 0.2383 - accuracy: 0.9301 - val_loss: 0.3378 - val_accuracy: 0.8950\n",
      "Epoch 47/100\n",
      "13/13 [==============================] - 0s 3ms/step - loss: 0.2251 - accuracy: 0.9306 - val_loss: 0.3381 - val_accuracy: 0.8900\n",
      "Epoch 48/100\n",
      "13/13 [==============================] - 0s 4ms/step - loss: 0.2282 - accuracy: 0.9276 - val_loss: 0.3322 - val_accuracy: 0.9000\n",
      "Epoch 49/100\n",
      "13/13 [==============================] - 0s 4ms/step - loss: 0.2489 - accuracy: 0.9175 - val_loss: 0.3300 - val_accuracy: 0.8950\n",
      "Epoch 50/100\n",
      "13/13 [==============================] - 0s 4ms/step - loss: 0.2407 - accuracy: 0.9288 - val_loss: 0.3299 - val_accuracy: 0.9050\n",
      "Epoch 51/100\n",
      "13/13 [==============================] - 0s 4ms/step - loss: 0.2195 - accuracy: 0.9363 - val_loss: 0.3279 - val_accuracy: 0.8950\n",
      "Epoch 52/100\n",
      "13/13 [==============================] - 0s 4ms/step - loss: 0.2309 - accuracy: 0.9313 - val_loss: 0.3252 - val_accuracy: 0.8950\n",
      "Epoch 53/100\n",
      "13/13 [==============================] - 0s 3ms/step - loss: 0.2197 - accuracy: 0.9279 - val_loss: 0.3217 - val_accuracy: 0.9000\n",
      "Epoch 54/100\n",
      "13/13 [==============================] - 0s 4ms/step - loss: 0.2427 - accuracy: 0.9193 - val_loss: 0.3200 - val_accuracy: 0.9000\n",
      "Epoch 55/100\n",
      "13/13 [==============================] - 0s 4ms/step - loss: 0.2250 - accuracy: 0.9217 - val_loss: 0.3193 - val_accuracy: 0.9000\n",
      "Epoch 56/100\n",
      "13/13 [==============================] - 0s 4ms/step - loss: 0.2258 - accuracy: 0.9312 - val_loss: 0.3200 - val_accuracy: 0.9000\n",
      "Epoch 57/100\n",
      "13/13 [==============================] - 0s 3ms/step - loss: 0.2404 - accuracy: 0.9170 - val_loss: 0.3238 - val_accuracy: 0.9050\n",
      "Epoch 58/100\n",
      "13/13 [==============================] - 0s 4ms/step - loss: 0.2049 - accuracy: 0.9358 - val_loss: 0.3208 - val_accuracy: 0.8950\n"
     ]
    },
    {
     "name": "stdout",
     "output_type": "stream",
     "text": [
      "Epoch 59/100\n",
      "13/13 [==============================] - 0s 4ms/step - loss: 0.2171 - accuracy: 0.9326 - val_loss: 0.3183 - val_accuracy: 0.9050\n",
      "Epoch 60/100\n",
      "13/13 [==============================] - 0s 4ms/step - loss: 0.1849 - accuracy: 0.9472 - val_loss: 0.3181 - val_accuracy: 0.9050\n",
      "Epoch 61/100\n",
      "13/13 [==============================] - 0s 4ms/step - loss: 0.2084 - accuracy: 0.9326 - val_loss: 0.3191 - val_accuracy: 0.8950\n",
      "Epoch 62/100\n",
      "13/13 [==============================] - 0s 4ms/step - loss: 0.2043 - accuracy: 0.9280 - val_loss: 0.3169 - val_accuracy: 0.9000\n",
      "Epoch 63/100\n",
      "13/13 [==============================] - 0s 4ms/step - loss: 0.1956 - accuracy: 0.9289 - val_loss: 0.3169 - val_accuracy: 0.9000\n",
      "Epoch 64/100\n",
      "13/13 [==============================] - 0s 4ms/step - loss: 0.1964 - accuracy: 0.9282 - val_loss: 0.3178 - val_accuracy: 0.9000\n",
      "Epoch 65/100\n",
      "13/13 [==============================] - 0s 4ms/step - loss: 0.1954 - accuracy: 0.9332 - val_loss: 0.3181 - val_accuracy: 0.9000\n",
      "Epoch 66/100\n",
      "13/13 [==============================] - 0s 4ms/step - loss: 0.2048 - accuracy: 0.9336 - val_loss: 0.3121 - val_accuracy: 0.9000\n",
      "Epoch 67/100\n",
      "13/13 [==============================] - 0s 4ms/step - loss: 0.1954 - accuracy: 0.9336 - val_loss: 0.3090 - val_accuracy: 0.9050\n",
      "Epoch 68/100\n",
      "13/13 [==============================] - 0s 4ms/step - loss: 0.1868 - accuracy: 0.9409 - val_loss: 0.3165 - val_accuracy: 0.8950\n",
      "Epoch 69/100\n",
      "13/13 [==============================] - 0s 4ms/step - loss: 0.2128 - accuracy: 0.9320 - val_loss: 0.3157 - val_accuracy: 0.8950\n",
      "Epoch 70/100\n",
      "13/13 [==============================] - 0s 4ms/step - loss: 0.1814 - accuracy: 0.9428 - val_loss: 0.3154 - val_accuracy: 0.8950\n",
      "Epoch 71/100\n",
      "13/13 [==============================] - 0s 4ms/step - loss: 0.1648 - accuracy: 0.9460 - val_loss: 0.3149 - val_accuracy: 0.8950\n",
      "Epoch 72/100\n",
      "13/13 [==============================] - 0s 4ms/step - loss: 0.1538 - accuracy: 0.9439 - val_loss: 0.3169 - val_accuracy: 0.8950\n",
      "Epoch 73/100\n",
      "13/13 [==============================] - 0s 3ms/step - loss: 0.1572 - accuracy: 0.9463 - val_loss: 0.3128 - val_accuracy: 0.9000\n",
      "Epoch 74/100\n",
      "13/13 [==============================] - 0s 3ms/step - loss: 0.1630 - accuracy: 0.9535 - val_loss: 0.3179 - val_accuracy: 0.8900\n",
      "Epoch 75/100\n",
      "13/13 [==============================] - 0s 4ms/step - loss: 0.1767 - accuracy: 0.9422 - val_loss: 0.3118 - val_accuracy: 0.8950\n",
      "Epoch 76/100\n",
      "13/13 [==============================] - 0s 4ms/step - loss: 0.1619 - accuracy: 0.9531 - val_loss: 0.3071 - val_accuracy: 0.9000\n",
      "Epoch 77/100\n",
      "13/13 [==============================] - 0s 3ms/step - loss: 0.1594 - accuracy: 0.9467 - val_loss: 0.3117 - val_accuracy: 0.8950\n",
      "Epoch 78/100\n",
      "13/13 [==============================] - 0s 3ms/step - loss: 0.1765 - accuracy: 0.9449 - val_loss: 0.3126 - val_accuracy: 0.9000\n",
      "Epoch 79/100\n",
      "13/13 [==============================] - 0s 3ms/step - loss: 0.1587 - accuracy: 0.9511 - val_loss: 0.3059 - val_accuracy: 0.9000\n",
      "Epoch 80/100\n",
      "13/13 [==============================] - 0s 3ms/step - loss: 0.1511 - accuracy: 0.9527 - val_loss: 0.3089 - val_accuracy: 0.8950\n",
      "Epoch 81/100\n",
      "13/13 [==============================] - 0s 3ms/step - loss: 0.1413 - accuracy: 0.9606 - val_loss: 0.3082 - val_accuracy: 0.8950\n",
      "Epoch 82/100\n",
      "13/13 [==============================] - 0s 3ms/step - loss: 0.1636 - accuracy: 0.9472 - val_loss: 0.3115 - val_accuracy: 0.8950\n",
      "Epoch 83/100\n",
      "13/13 [==============================] - 0s 3ms/step - loss: 0.1644 - accuracy: 0.9501 - val_loss: 0.3138 - val_accuracy: 0.8950\n",
      "Epoch 84/100\n",
      "13/13 [==============================] - 0s 3ms/step - loss: 0.1662 - accuracy: 0.9581 - val_loss: 0.3129 - val_accuracy: 0.8950\n",
      "Epoch 85/100\n",
      "13/13 [==============================] - 0s 3ms/step - loss: 0.1644 - accuracy: 0.9479 - val_loss: 0.3083 - val_accuracy: 0.8950\n",
      "Epoch 86/100\n",
      "13/13 [==============================] - 0s 3ms/step - loss: 0.1561 - accuracy: 0.9567 - val_loss: 0.3088 - val_accuracy: 0.9000\n",
      "Epoch 87/100\n",
      "13/13 [==============================] - 0s 3ms/step - loss: 0.1433 - accuracy: 0.9577 - val_loss: 0.3077 - val_accuracy: 0.9000\n",
      "Epoch 88/100\n",
      "13/13 [==============================] - 0s 3ms/step - loss: 0.1587 - accuracy: 0.9448 - val_loss: 0.3114 - val_accuracy: 0.8950\n",
      "Epoch 89/100\n",
      "13/13 [==============================] - 0s 4ms/step - loss: 0.1458 - accuracy: 0.9557 - val_loss: 0.3079 - val_accuracy: 0.9000\n",
      "Epoch 90/100\n",
      "13/13 [==============================] - 0s 3ms/step - loss: 0.1718 - accuracy: 0.9549 - val_loss: 0.3115 - val_accuracy: 0.9000\n",
      "Epoch 91/100\n",
      "13/13 [==============================] - 0s 3ms/step - loss: 0.1502 - accuracy: 0.9594 - val_loss: 0.3116 - val_accuracy: 0.9000\n",
      "Epoch 92/100\n",
      "13/13 [==============================] - 0s 3ms/step - loss: 0.1603 - accuracy: 0.9592 - val_loss: 0.3091 - val_accuracy: 0.9000\n",
      "Epoch 93/100\n",
      "13/13 [==============================] - 0s 3ms/step - loss: 0.1485 - accuracy: 0.9586 - val_loss: 0.3122 - val_accuracy: 0.8950\n",
      "Epoch 94/100\n",
      "13/13 [==============================] - 0s 4ms/step - loss: 0.1610 - accuracy: 0.9527 - val_loss: 0.3136 - val_accuracy: 0.9000\n",
      "Epoch 95/100\n",
      "13/13 [==============================] - 0s 4ms/step - loss: 0.1407 - accuracy: 0.9647 - val_loss: 0.3142 - val_accuracy: 0.8950\n",
      "Epoch 96/100\n",
      "13/13 [==============================] - 0s 4ms/step - loss: 0.1444 - accuracy: 0.9630 - val_loss: 0.3160 - val_accuracy: 0.8950\n",
      "Epoch 97/100\n",
      "13/13 [==============================] - 0s 4ms/step - loss: 0.1169 - accuracy: 0.9727 - val_loss: 0.3143 - val_accuracy: 0.8950\n",
      "Epoch 98/100\n",
      "13/13 [==============================] - 0s 4ms/step - loss: 0.1270 - accuracy: 0.9703 - val_loss: 0.3107 - val_accuracy: 0.8950\n",
      "Epoch 99/100\n",
      "13/13 [==============================] - 0s 4ms/step - loss: 0.1379 - accuracy: 0.9687 - val_loss: 0.3124 - val_accuracy: 0.8950\n",
      "Epoch 100/100\n",
      "13/13 [==============================] - 0s 4ms/step - loss: 0.1198 - accuracy: 0.9724 - val_loss: 0.3103 - val_accuracy: 0.9000\n"
     ]
    }
   ],
   "source": [
    "history = model.fit(x_train, y_train,\n",
    "          epochs=100,\n",
    "          batch_size=64, validation_split=0.2)"
   ]
  },
  {
   "cell_type": "code",
   "execution_count": 9,
   "metadata": {},
   "outputs": [],
   "source": [
    "import matplotlib.pyplot as plt\n",
    "%matplotlib inline"
   ]
  },
  {
   "cell_type": "code",
   "execution_count": 10,
   "metadata": {},
   "outputs": [
    {
     "data": {
      "text/plain": [
       "[<matplotlib.lines.Line2D at 0x1d5b856d940>]"
      ]
     },
     "execution_count": 10,
     "metadata": {},
     "output_type": "execute_result"
    },
    {
     "data": {
      "image/png": "[encoded data removed]",
      "text/plain": [
       "<Figure size 432x288 with 1 Axes>"
      ]
     },
     "metadata": {
      "needs_background": "light"
     },
     "output_type": "display_data"
    }
   ],
   "source": [
    "plt.plot(history.history['val_accuracy'])"
   ]
  },
  {
   "cell_type": "markdown",
   "metadata": {},
   "source": [
    "## <div style=\"direction:rtl;text-align:right;font-family:B Lotus, B Nazanin, Tahoma\">ارزیابی مدل روی داده های آزمون</div>"
   ]
  },
  {
   "cell_type": "code",
   "execution_count": 11,
   "metadata": {},
   "outputs": [
    {
     "name": "stdout",
     "output_type": "stream",
     "text": [
      "7/7 [==============================] - 0s 1ms/step - loss: 0.2654 - accuracy: 0.9200\n",
      "\n",
      "Testing loss: 0.27, acc: 0.92%\n"
     ]
    }
   ],
   "source": [
    "loss, acc = model.evaluate(x_test, y_test)\n",
    "print('\\nTesting loss: %.2f, acc: %.2f%%'%(loss, acc))"
   ]
  },
  {
   "cell_type": "markdown",
   "metadata": {},
   "source": [
    "## <div style=\"direction:rtl;text-align:right;font-family:B Lotus, B Nazanin, Tahoma\">پیش‌بینی داده‌های آموزشی</div>\n"
   ]
  },
  {
   "cell_type": "code",
   "execution_count": 12,
   "metadata": {},
   "outputs": [
    {
     "name": "stderr",
     "output_type": "stream",
     "text": [
      "C:\\ProgramData\\Miniconda3\\envs\\tensorflow_25\\lib\\site-packages\\keras\\engine\\sequential.py:450: UserWarning: `model.predict_classes()` is deprecated and will be removed after 2021-01-01. Please use instead:* `np.argmax(model.predict(x), axis=-1)`,   if your model does multi-class classification   (e.g. if it uses a `softmax` last-layer activation).* `(model.predict(x) > 0.5).astype(\"int32\")`,   if your model does binary classification   (e.g. if it uses a `sigmoid` last-layer activation).\n",
      "  warnings.warn('`model.predict_classes()` is deprecated and '\n"
     ]
    },
    {
     "name": "stdout",
     "output_type": "stream",
     "text": [
      "predicted:\n",
      "[7 2 3 9 5 5 4 7 3 2 0 8 8 0 2 9 3 6 7 4 0 3 6 3 9 2 7 5 2 9 2 5 5 8 9 6 5\n",
      " 1 4 8 8 4 7 2 1 2 7 9 0 3 7 5 7 5 2 8 8 2 9 8 8 6 6 6 6 6 2 4 2 4 4 5 9 1\n",
      " 8 4 0 5 6 2 4 6 2 7 7 7 7 1 8 1 7 8 7 7 8 9 7 2 3 1 0 2 9 6 3 5 5 0 0 9 6\n",
      " 7 9 3 9 9 8 7 9 2 5 2 5 5 9 6 9 2 0 3 7 6 5 2 9 0 4 1 8 2 2 3 5 2 9 3 8 2\n",
      " 7 0 9 9 0 7 6 5 4 4 9 3 7 0 7 1 9 4 7 3 4 1 5 6 7 9 1 3 5 4 5 3 4 1 3 3 1\n",
      " 1 3 3 8 9 6 7 7 2 3 0 1 0 9 5]\n",
      "True Label:\n",
      "[7 2 3 1 5 5 4 7 3 2 0 8 8 0 2 9 3 6 7 4 0 3 6 3 9 2 7 5 2 9 7 5 5 8 9 6 5\n",
      " 1 4 8 8 4 7 7 1 2 7 9 0 3 7 4 7 5 2 9 8 2 9 8 8 6 6 6 6 6 2 4 3 4 4 5 9 1\n",
      " 8 2 0 5 6 2 4 3 2 7 7 7 7 1 8 1 7 8 7 7 8 9 3 2 3 1 0 2 9 6 3 5 5 0 0 3 6\n",
      " 7 9 3 9 9 8 7 9 2 5 2 5 5 9 6 9 2 0 3 7 6 5 2 9 0 4 1 8 2 2 3 0 2 9 3 8 6\n",
      " 7 0 9 9 0 7 6 5 4 7 9 3 7 0 7 1 9 4 7 3 4 1 5 6 7 9 1 3 5 4 5 7 4 1 3 3 1\n",
      " 2 3 3 8 9 6 7 7 2 3 0 1 4 9 5]\n"
     ]
    }
   ],
   "source": [
    "# The predict_classes function outputs the highest probability class\n",
    "# according to the trained classifier for each input example.\n",
    "predicted_classes = model.predict_classes(x_test)\n",
    "print(\"predicted:\")\n",
    "print(predicted_classes)\n",
    "print(\"True Label:\")\n",
    "print(y_test_original)"
   ]
  },
  {
   "cell_type": "code",
   "execution_count": 17,
   "metadata": {},
   "outputs": [
    {
     "data": {
      "image/png": "[encoded data removed]",
      "text/plain": [
       "<Figure size 288x288 with 1 Axes>"
      ]
     },
     "metadata": {
      "needs_background": "light"
     },
     "output_type": "display_data"
    }
   ],
   "source": [
    "from sklearn.metrics import confusion_matrix\n",
    "plt.matshow(confusion_matrix(y_test_original, predicted_classes), cmap=\"Blues\")\n",
    "plt.xticks(range(10))\n",
    "plt.yticks(range(10))\n",
    "plt.xlabel(\"Predicted label\")\n",
    "plt.ylabel(\"True label\");"
   ]
  }
 ],
 "metadata": {
  "anaconda-cloud": {},
  "kernelspec": {
   "display_name": "tf2.5",
   "language": "python",
   "name": "tensorflow_25"
  },
  "language_info": {
   "codemirror_mode": {
    "name": "ipython",
    "version": 3
   },
   "file_extension": ".py",
   "mimetype": "text/x-python",
   "name": "python",
   "nbconvert_exporter": "python",
   "pygments_lexer": "ipython3",
   "version": "3.8.10"
  },
  "nbpresent": {
   "slides": {
    "300ee14f-a043-486e-b274-7ff253907cd7": {
     "id": "300ee14f-a043-486e-b274-7ff253907cd7",
     "prev": "cb74e0bc-4513-4d13-b7f1-14c3078a7927",
     "regions": {
      "26dc3f39-a230-447c-af4c-f5e5b2fb7835": {
       "attrs": {
        "height": 0.8,
        "width": 0.8,
        "x": 0.1,
        "y": 0.1
       },
       "content": {
        "cell": "c58440a5-3f8f-4f37-9c79-6bf766209406",
        "part": "whole"
       },
       "id": "26dc3f39-a230-447c-af4c-f5e5b2fb7835"
      }
     }
    },
    "878aa53a-1444-4100-8f50-7a408191c579": {
     "id": "878aa53a-1444-4100-8f50-7a408191c579",
     "prev": null,
     "regions": {
      "a6c6843a-5ea6-4fbc-b890-3b4b8ae475b3": {
       "attrs": {
        "height": 0.8,
        "width": 0.8,
        "x": 0.1,
        "y": 0.1
       },
       "content": {
        "cell": "588ee1fa-64b5-453b-ade7-8e6b2515821c",
        "part": "whole"
       },
       "id": "a6c6843a-5ea6-4fbc-b890-3b4b8ae475b3"
      }
     }
    },
    "96ffe88e-7b50-43de-afdd-942e564f4e3e": {
     "id": "96ffe88e-7b50-43de-afdd-942e564f4e3e",
     "prev": "878aa53a-1444-4100-8f50-7a408191c579",
     "regions": {
      "b7e52e12-489a-468d-b10c-af2024fd2856": {
       "attrs": {
        "height": 0.8,
        "width": 0.8,
        "x": 0.1,
        "y": 0.1
       },
       "content": {
        "cell": "de829a92-1fb6-44ad-a2c6-fc1001e1f6e1",
        "part": "whole"
       },
       "id": "b7e52e12-489a-468d-b10c-af2024fd2856"
      }
     }
    },
    "cb74e0bc-4513-4d13-b7f1-14c3078a7927": {
     "id": "cb74e0bc-4513-4d13-b7f1-14c3078a7927",
     "prev": "96ffe88e-7b50-43de-afdd-942e564f4e3e",
     "regions": {
      "444878ee-68f3-4abb-acff-a7079b21e86d": {
       "attrs": {
        "height": 0.8,
        "width": 0.8,
        "x": 0.1,
        "y": 0.1
       },
       "content": {
        "cell": "25f3f538-1ee8-4d98-a6bb-14cbeb7a702d",
        "part": "whole"
       },
       "id": "444878ee-68f3-4abb-acff-a7079b21e86d"
      }
     }
    }
   },
   "themes": {}
  }
 },
 "nbformat": 4,
 "nbformat_minor": 2
}

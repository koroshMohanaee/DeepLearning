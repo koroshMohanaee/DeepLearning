{
  "nbformat": 4,
  "nbformat_minor": 0,
  "metadata": {
    "colab": {
      "provenance": [],
      "gpuType": "T4"
    },
    "kernelspec": {
      "name": "python3",
      "display_name": "Python 3"
    },
    "language_info": {
      "name": "python"
    },
    "accelerator": "GPU"
  },
  "cells": [
    {
      "cell_type": "code",
      "source": [
        "!mkdir ~/.kaggle"
      ],
      "metadata": {
        "id": "Jb5omVVTKouR"
      },
      "execution_count": 1,
      "outputs": []
    },
    {
      "cell_type": "code",
      "source": [
        "!mv kaggle.json ~/.kaggle"
      ],
      "metadata": {
        "id": "3fllnrt3KvCu"
      },
      "execution_count": 2,
      "outputs": []
    },
    {
      "cell_type": "code",
      "execution_count": 3,
      "metadata": {
        "colab": {
          "base_uri": "https://localhost:8080/"
        },
        "id": "JKhveax8IDqI",
        "outputId": "dee65b41-4879-4a74-d142-5ab844efeed8"
      },
      "outputs": [
        {
          "output_type": "stream",
          "name": "stdout",
          "text": [
            "Warning: Your Kaggle API key is readable by other users on this system! To fix this, you can run 'chmod 600 /root/.kaggle/kaggle.json'\n",
            "Downloading dogs-vs-cats.zip to /content\n",
            " 99% 808M/812M [00:20<00:00, 44.5MB/s]\n",
            "100% 812M/812M [00:20<00:00, 41.9MB/s]\n"
          ]
        }
      ],
      "source": [
        "! kaggle competitions download -c dogs-vs-cats"
      ]
    },
    {
      "cell_type": "code",
      "source": [
        "!unzip dogs-vs-cats.zip"
      ],
      "metadata": {
        "colab": {
          "base_uri": "https://localhost:8080/"
        },
        "id": "dcicRQJ-LEfz",
        "outputId": "31367796-e6d9-499c-a96d-18ef7e79cbf3"
      },
      "execution_count": 4,
      "outputs": [
        {
          "output_type": "stream",
          "name": "stdout",
          "text": [
            "Archive:  dogs-vs-cats.zip\n",
            "  inflating: sampleSubmission.csv    \n",
            "  inflating: test1.zip               \n",
            "  inflating: train.zip               \n"
          ]
        }
      ]
    },
    {
      "cell_type": "code",
      "source": [
        "!unzip -qq train.zip"
      ],
      "metadata": {
        "id": "WMc8VAeULQuQ"
      },
      "execution_count": 5,
      "outputs": []
    },
    {
      "cell_type": "code",
      "source": [
        "!ls train | wc -l"
      ],
      "metadata": {
        "colab": {
          "base_uri": "https://localhost:8080/"
        },
        "id": "QcE_yjY7LfUY",
        "outputId": "30770810-00da-4323-c257-990e73d660d2"
      },
      "execution_count": 6,
      "outputs": [
        {
          "output_type": "stream",
          "name": "stdout",
          "text": [
            "25000\n"
          ]
        }
      ]
    },
    {
      "cell_type": "code",
      "source": [
        "import os\n",
        "len(os.listdir('train'))"
      ],
      "metadata": {
        "colab": {
          "base_uri": "https://localhost:8080/"
        },
        "id": "xgP5aHN5LpS0",
        "outputId": "f31cec94-b622-421f-f075-89cfa71b63c6"
      },
      "execution_count": 8,
      "outputs": [
        {
          "output_type": "execute_result",
          "data": {
            "text/plain": [
              "25000"
            ]
          },
          "metadata": {},
          "execution_count": 8
        }
      ]
    },
    {
      "cell_type": "code",
      "source": [
        "!rm -r dogs-vs-cats.zip sampleSubmission.csv test1.zip train.zip sample_data/"
      ],
      "metadata": {
        "id": "P3zAckKQLwD0"
      },
      "execution_count": 9,
      "outputs": []
    },
    {
      "cell_type": "code",
      "source": [
        "import os, shutil"
      ],
      "metadata": {
        "id": "mhJqzCgIMJwG"
      },
      "execution_count": 10,
      "outputs": []
    },
    {
      "cell_type": "code",
      "source": [
        "# The path to the directory where the original\n",
        "# dataset was uncompressed\n",
        "original_dataset_dir = '/content/train'\n",
        "\n",
        "# The directory where we will\n",
        "# store our smaller dataset\n",
        "base_dir = '/content/subset'\n",
        "os.makedirs(base_dir, exist_ok=True)"
      ],
      "metadata": {
        "id": "qMyIKYT5MMQ8"
      },
      "execution_count": 11,
      "outputs": []
    },
    {
      "cell_type": "code",
      "source": [
        "# Directories for our training,\n",
        "# validation and test splits\n",
        "train_dir = os.path.join(base_dir, 'train')\n",
        "os.mkdir(train_dir)\n",
        "validation_dir = os.path.join(base_dir, 'validation')\n",
        "os.mkdir(validation_dir)\n",
        "test_dir = os.path.join(base_dir, 'test')\n",
        "os.mkdir(test_dir)\n",
        "# Directory with our training cat pictures\n",
        "train_cats_dir = os.path.join(train_dir, 'cats')\n",
        "os.mkdir(train_cats_dir)\n",
        "\n",
        "# Directory with our training dog pictures\n",
        "train_dogs_dir = os.path.join(train_dir, 'dogs')\n",
        "os.mkdir(train_dogs_dir)\n",
        "\n",
        "# Directory with our validation cat pictures\n",
        "validation_cats_dir = os.path.join(validation_dir, 'cats')\n",
        "os.mkdir(validation_cats_dir)\n",
        "\n",
        "# Directory with our validation dog pictures\n",
        "validation_dogs_dir = os.path.join(validation_dir, 'dogs')\n",
        "os.mkdir(validation_dogs_dir)\n",
        "\n",
        "# Directory with our validation cat pictures\n",
        "test_cats_dir = os.path.join(test_dir, 'cats')\n",
        "os.mkdir(test_cats_dir)\n",
        "\n",
        "# Directory with our validation dog pictures\n",
        "test_dogs_dir = os.path.join(test_dir, 'dogs')\n",
        "os.mkdir(test_dogs_dir)\n",
        "\n",
        "# Copy first 1000 cat images to train_cats_dir\n",
        "fnames = ['cat.{}.jpg'.format(i) for i in range(1000)]\n",
        "for fname in fnames:\n",
        "    src = os.path.join(original_dataset_dir, fname)\n",
        "    dst = os.path.join(train_cats_dir, fname)\n",
        "    shutil.copyfile(src, dst)\n",
        "\n",
        "# Copy next 500 cat images to validation_cats_dir\n",
        "fnames = ['cat.{}.jpg'.format(i) for i in range(1000, 1500)]\n",
        "for fname in fnames:\n",
        "    src = os.path.join(original_dataset_dir, fname)\n",
        "    dst = os.path.join(validation_cats_dir, fname)\n",
        "    shutil.copyfile(src, dst)\n",
        "\n",
        "# Copy next 500 cat images to test_cats_dir\n",
        "fnames = ['cat.{}.jpg'.format(i) for i in range(1500, 2000)]\n",
        "for fname in fnames:\n",
        "    src = os.path.join(original_dataset_dir, fname)\n",
        "    dst = os.path.join(test_cats_dir, fname)\n",
        "    shutil.copyfile(src, dst)\n",
        "\n",
        "# Copy first 1000 dog images to train_dogs_dir\n",
        "fnames = ['dog.{}.jpg'.format(i) for i in range(1000)]\n",
        "for fname in fnames:\n",
        "    src = os.path.join(original_dataset_dir, fname)\n",
        "    dst = os.path.join(train_dogs_dir, fname)\n",
        "    shutil.copyfile(src, dst)\n",
        "\n",
        "# Copy next 500 dog images to validation_dogs_dir\n",
        "fnames = ['dog.{}.jpg'.format(i) for i in range(1000, 1500)]\n",
        "for fname in fnames:\n",
        "    src = os.path.join(original_dataset_dir, fname)\n",
        "    dst = os.path.join(validation_dogs_dir, fname)\n",
        "    shutil.copyfile(src, dst)\n",
        "\n",
        "# Copy next 500 dog images to test_dogs_dir\n",
        "fnames = ['dog.{}.jpg'.format(i) for i in range(1500, 2000)]\n",
        "for fname in fnames:\n",
        "    src = os.path.join(original_dataset_dir, fname)\n",
        "    dst = os.path.join(test_dogs_dir, fname)\n",
        "    shutil.copyfile(src, dst)"
      ],
      "metadata": {
        "id": "smLPDY_zIEUm"
      },
      "execution_count": 12,
      "outputs": []
    },
    {
      "cell_type": "code",
      "source": [
        "print('total training cat images:', len(os.listdir(train_cats_dir)))\n",
        "print('total training dog images:', len(os.listdir(train_dogs_dir)))\n",
        "print('total validation cat images:', len(os.listdir(validation_cats_dir)))\n",
        "print('total validation dog images:', len(os.listdir(validation_dogs_dir)))\n",
        "print('total test cat images:', len(os.listdir(test_cats_dir)))\n",
        "print('total test dog images:', len(os.listdir(test_dogs_dir)))"
      ],
      "metadata": {
        "colab": {
          "base_uri": "https://localhost:8080/"
        },
        "id": "l3W70oBeILXs",
        "outputId": "6f8c860c-13f2-4946-81fb-47330d2dc531"
      },
      "execution_count": 13,
      "outputs": [
        {
          "output_type": "stream",
          "name": "stdout",
          "text": [
            "total training cat images: 1000\n",
            "total training dog images: 1000\n",
            "total validation cat images: 500\n",
            "total validation dog images: 500\n",
            "total test cat images: 500\n",
            "total test dog images: 500\n"
          ]
        }
      ]
    },
    {
      "cell_type": "code",
      "source": [
        "!rm -r train"
      ],
      "metadata": {
        "id": "Y37B2OEBMgbV"
      },
      "execution_count": 14,
      "outputs": []
    },
    {
      "cell_type": "code",
      "source": [
        "from keras import layers\n",
        "from keras import models\n",
        "\n",
        "model = models.Sequential()\n",
        "model.add(layers.Conv2D(32, (3, 3), activation='relu',\n",
        "                        input_shape=(150, 150, 3)))\n",
        "model.add(layers.MaxPooling2D((2, 2)))\n",
        "model.add(layers.Conv2D(64, (3, 3), activation='relu'))\n",
        "model.add(layers.MaxPooling2D((2, 2)))\n",
        "model.add(layers.Conv2D(128, (3, 3), activation='relu'))\n",
        "model.add(layers.MaxPooling2D((2, 2)))\n",
        "model.add(layers.Conv2D(128, (3, 3), activation='relu'))\n",
        "model.add(layers.MaxPooling2D((2, 2)))\n",
        "model.add(layers.Flatten())\n",
        "model.add(layers.Dense(512, activation='relu'))\n",
        "model.add(layers.Dense(1, activation='sigmoid'))"
      ],
      "metadata": {
        "id": "V5-eUhQNMjY2"
      },
      "execution_count": 15,
      "outputs": []
    },
    {
      "cell_type": "code",
      "source": [
        "from keras import optimizers\n",
        "\n",
        "model.compile(loss='binary_crossentropy',\n",
        "              optimizer='rmsprop',\n",
        "              metrics=['acc'])"
      ],
      "metadata": {
        "id": "VwzMCmy_Mvcv"
      },
      "execution_count": 16,
      "outputs": []
    },
    {
      "cell_type": "code",
      "source": [
        "from keras.preprocessing.image import ImageDataGenerator\n",
        "\n",
        "# All images will be rescaled by 1./255\n",
        "train_datagen = ImageDataGenerator(rescale=1./255)\n",
        "test_datagen = ImageDataGenerator(rescale=1./255)\n",
        "\n",
        "train_generator = train_datagen.flow_from_directory(\n",
        "        # This is the target directory\n",
        "        train_dir,\n",
        "        # All images will be resized to 150x150\n",
        "        target_size=(150, 150),\n",
        "        batch_size=20,\n",
        "        # Since we use binary_crossentropy loss, we need binary labels\n",
        "        class_mode='binary')\n",
        "\n",
        "validation_generator = test_datagen.flow_from_directory(\n",
        "        validation_dir,\n",
        "        target_size=(150, 150),\n",
        "        batch_size=20,\n",
        "        class_mode='binary')"
      ],
      "metadata": {
        "colab": {
          "base_uri": "https://localhost:8080/"
        },
        "id": "a3Dl0PZiMv-v",
        "outputId": "a51cc68d-86f4-435f-de86-83a41914dae1"
      },
      "execution_count": 17,
      "outputs": [
        {
          "output_type": "stream",
          "name": "stdout",
          "text": [
            "Found 2000 images belonging to 2 classes.\n",
            "Found 1000 images belonging to 2 classes.\n"
          ]
        }
      ]
    },
    {
      "cell_type": "code",
      "source": [
        "history = model.fit(\n",
        "      train_generator,\n",
        "      epochs=30,\n",
        "      validation_data=validation_generator)"
      ],
      "metadata": {
        "colab": {
          "base_uri": "https://localhost:8080/"
        },
        "id": "q1lyRwjAMxv8",
        "outputId": "0d798bb4-071a-4ffe-a388-296bd7f223c5"
      },
      "execution_count": 18,
      "outputs": [
        {
          "output_type": "stream",
          "name": "stdout",
          "text": [
            "Epoch 1/30\n",
            "100/100 [==============================] - 23s 110ms/step - loss: 0.7299 - acc: 0.5080 - val_loss: 0.6926 - val_acc: 0.5000\n",
            "Epoch 2/30\n",
            "100/100 [==============================] - 11s 105ms/step - loss: 0.6938 - acc: 0.5170 - val_loss: 0.7003 - val_acc: 0.5000\n",
            "Epoch 3/30\n",
            "100/100 [==============================] - 12s 118ms/step - loss: 0.6823 - acc: 0.5585 - val_loss: 0.6757 - val_acc: 0.5510\n",
            "Epoch 4/30\n",
            "100/100 [==============================] - 10s 103ms/step - loss: 0.6558 - acc: 0.6235 - val_loss: 0.6358 - val_acc: 0.6350\n",
            "Epoch 5/30\n",
            "100/100 [==============================] - 11s 106ms/step - loss: 0.6038 - acc: 0.6820 - val_loss: 0.6054 - val_acc: 0.6630\n",
            "Epoch 6/30\n",
            "100/100 [==============================] - 11s 107ms/step - loss: 0.5573 - acc: 0.7050 - val_loss: 0.5927 - val_acc: 0.6830\n",
            "Epoch 7/30\n",
            "100/100 [==============================] - 11s 107ms/step - loss: 0.5088 - acc: 0.7405 - val_loss: 0.6323 - val_acc: 0.6240\n",
            "Epoch 8/30\n",
            "100/100 [==============================] - 11s 107ms/step - loss: 0.4596 - acc: 0.7880 - val_loss: 0.5591 - val_acc: 0.7100\n",
            "Epoch 9/30\n",
            "100/100 [==============================] - 10s 97ms/step - loss: 0.4107 - acc: 0.8070 - val_loss: 0.6288 - val_acc: 0.7130\n",
            "Epoch 10/30\n",
            "100/100 [==============================] - 10s 101ms/step - loss: 0.3348 - acc: 0.8575 - val_loss: 0.6814 - val_acc: 0.7130\n",
            "Epoch 11/30\n",
            "100/100 [==============================] - 11s 106ms/step - loss: 0.2490 - acc: 0.8935 - val_loss: 0.9510 - val_acc: 0.7060\n",
            "Epoch 12/30\n",
            "100/100 [==============================] - 11s 105ms/step - loss: 0.1812 - acc: 0.9235 - val_loss: 0.8586 - val_acc: 0.7360\n",
            "Epoch 13/30\n",
            "100/100 [==============================] - 11s 106ms/step - loss: 0.1575 - acc: 0.9470 - val_loss: 1.0982 - val_acc: 0.7360\n",
            "Epoch 14/30\n",
            "100/100 [==============================] - 10s 105ms/step - loss: 0.0951 - acc: 0.9720 - val_loss: 1.2492 - val_acc: 0.7060\n",
            "Epoch 15/30\n",
            "100/100 [==============================] - 12s 119ms/step - loss: 0.0825 - acc: 0.9750 - val_loss: 1.4846 - val_acc: 0.7230\n",
            "Epoch 16/30\n",
            "100/100 [==============================] - 10s 105ms/step - loss: 0.0463 - acc: 0.9835 - val_loss: 1.8739 - val_acc: 0.7130\n",
            "Epoch 17/30\n",
            "100/100 [==============================] - 11s 107ms/step - loss: 0.0973 - acc: 0.9800 - val_loss: 1.8018 - val_acc: 0.7310\n",
            "Epoch 18/30\n",
            "100/100 [==============================] - 11s 107ms/step - loss: 0.0480 - acc: 0.9845 - val_loss: 1.6225 - val_acc: 0.7250\n",
            "Epoch 19/30\n",
            "100/100 [==============================] - 11s 107ms/step - loss: 0.0297 - acc: 0.9895 - val_loss: 2.1245 - val_acc: 0.7350\n",
            "Epoch 20/30\n",
            "100/100 [==============================] - 10s 98ms/step - loss: 0.0304 - acc: 0.9915 - val_loss: 2.0890 - val_acc: 0.7230\n",
            "Epoch 21/30\n",
            "100/100 [==============================] - 10s 102ms/step - loss: 0.0658 - acc: 0.9855 - val_loss: 2.4989 - val_acc: 0.7110\n",
            "Epoch 22/30\n",
            "100/100 [==============================] - 11s 107ms/step - loss: 0.0291 - acc: 0.9900 - val_loss: 2.0622 - val_acc: 0.7240\n",
            "Epoch 23/30\n",
            "100/100 [==============================] - 11s 108ms/step - loss: 0.0100 - acc: 0.9975 - val_loss: 3.7533 - val_acc: 0.6810\n",
            "Epoch 24/30\n",
            "100/100 [==============================] - 11s 108ms/step - loss: 0.0371 - acc: 0.9925 - val_loss: 3.0020 - val_acc: 0.6980\n",
            "Epoch 25/30\n",
            "100/100 [==============================] - 11s 107ms/step - loss: 0.0120 - acc: 0.9960 - val_loss: 3.6558 - val_acc: 0.7010\n",
            "Epoch 26/30\n",
            "100/100 [==============================] - 12s 120ms/step - loss: 0.0575 - acc: 0.9870 - val_loss: 3.1962 - val_acc: 0.7090\n",
            "Epoch 27/30\n",
            "100/100 [==============================] - 12s 120ms/step - loss: 0.0427 - acc: 0.9915 - val_loss: 3.7945 - val_acc: 0.7240\n",
            "Epoch 28/30\n",
            "100/100 [==============================] - 12s 119ms/step - loss: 0.0188 - acc: 0.9975 - val_loss: 3.1029 - val_acc: 0.7180\n",
            "Epoch 29/30\n",
            "100/100 [==============================] - 12s 119ms/step - loss: 0.0284 - acc: 0.9925 - val_loss: 3.6895 - val_acc: 0.7040\n",
            "Epoch 30/30\n",
            "100/100 [==============================] - 10s 102ms/step - loss: 0.0594 - acc: 0.9895 - val_loss: 3.0475 - val_acc: 0.7230\n"
          ]
        }
      ]
    },
    {
      "cell_type": "code",
      "source": [
        "import matplotlib.pyplot as plt\n",
        "%matplotlib inline\n",
        "acc = history.history['acc']\n",
        "val_acc = history.history['val_acc']\n",
        "loss = history.history['loss']\n",
        "val_loss = history.history['val_loss']\n",
        "\n",
        "epochs = range(len(acc))\n",
        "\n",
        "plt.plot(epochs, acc, 'bo', label='Training acc')\n",
        "plt.plot(epochs, val_acc, 'b', label='Validation acc')\n",
        "plt.title('Training and validation accuracy')\n",
        "plt.legend()\n",
        "\n",
        "plt.figure()\n",
        "\n",
        "plt.plot(epochs, loss, 'bo', label='Training loss')\n",
        "plt.plot(epochs, val_loss, 'b', label='Validation loss')\n",
        "plt.title('Training and validation loss')\n",
        "plt.legend()\n",
        "\n",
        "plt.show()"
      ],
      "metadata": {
        "colab": {
          "base_uri": "https://localhost:8080/",
          "height": 887
        },
        "id": "jwckF_V7M0lP",
        "outputId": "d5be107e-456f-4732-f260-7dd87afee065"
      },
      "execution_count": 19,
      "outputs": [
        {
          "output_type": "display_data",
          "data": {
            "text/plain": [
              "<Figure size 640x480 with 1 Axes>"
            ],
            "image/png": "[encoded data removed]"
          },
          "metadata": {}
        },
        {
          "output_type": "display_data",
          "data": {
            "text/plain": [
              "<Figure size 640x480 with 1 Axes>"
            ],
            "image/png": "[encoded data removed]"
          },
          "metadata": {}
        }
      ]
    }
  ]
}
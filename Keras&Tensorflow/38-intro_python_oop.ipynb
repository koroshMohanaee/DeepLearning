{
  "nbformat": 4,
  "nbformat_minor": 0,
  "metadata": {
    "colab": {
      "provenance": []
    },
    "kernelspec": {
      "name": "python3",
      "display_name": "Python 3"
    },
    "language_info": {
      "name": "python"
    }
  },
  "cells": [
    {
      "cell_type": "code",
      "execution_count": 1,
      "metadata": {
        "id": "pxAy17B0wN5e"
      },
      "outputs": [],
      "source": [
        "class Person:\n",
        "    def __init__(self, name, age):\n",
        "        self.name = name\n",
        "        self.age = age"
      ]
    },
    {
      "cell_type": "code",
      "source": [
        "person1 = Person(\"Alice\", 25)\n",
        "person2 = Person(\"Bob\", 30)"
      ],
      "metadata": {
        "id": "VcGkb1eSwUri"
      },
      "execution_count": 2,
      "outputs": []
    },
    {
      "cell_type": "code",
      "source": [
        "print(person1.name, person1.age)\n",
        "print(person2.name, person2.age)"
      ],
      "metadata": {
        "colab": {
          "base_uri": "https://localhost:8080/"
        },
        "id": "2WxNLpRwwX7U",
        "outputId": "ded26cce-b500-4228-9947-4182ed15757d"
      },
      "execution_count": 3,
      "outputs": [
        {
          "output_type": "stream",
          "name": "stdout",
          "text": [
            "Alice 25\n",
            "Bob 30\n"
          ]
        }
      ]
    },
    {
      "cell_type": "code",
      "source": [
        "class Person:\n",
        "    def __init__(self, name, age):\n",
        "        self.name = name\n",
        "        self.age = age\n",
        "\n",
        "    def greet(self):\n",
        "        print(f\"Hello, my name is {self.name} and I'm {self.age} years old.\")\n",
        "\n",
        "person1 = Person(\"Alice\", 25)\n",
        "person1.greet()  # Output: Hello, my name is Alice and I'm 25 years old."
      ],
      "metadata": {
        "colab": {
          "base_uri": "https://localhost:8080/"
        },
        "id": "ug_3dmLqwZlH",
        "outputId": "de1bbe5c-a973-4417-e49a-40d506f94644"
      },
      "execution_count": 4,
      "outputs": [
        {
          "output_type": "stream",
          "name": "stdout",
          "text": [
            "Hello, my name is Alice and I'm 25 years old.\n"
          ]
        }
      ]
    },
    {
      "cell_type": "code",
      "source": [
        "class Adder:\n",
        "    def __init__(self, num):\n",
        "        self.num = num\n",
        "\n",
        "    def __call__(self, x):\n",
        "        return self.num + x"
      ],
      "metadata": {
        "id": "nyufpZ90wv6q"
      },
      "execution_count": 5,
      "outputs": []
    },
    {
      "cell_type": "code",
      "source": [
        "add5 = Adder(5)\n",
        "result = add5(10)\n",
        "print(result)  # Output: 15"
      ],
      "metadata": {
        "colab": {
          "base_uri": "https://localhost:8080/"
        },
        "id": "aZIZXEVSw1QN",
        "outputId": "96717b3d-4874-45c1-97fd-c498d6bdb64d"
      },
      "execution_count": 6,
      "outputs": [
        {
          "output_type": "stream",
          "name": "stdout",
          "text": [
            "15\n"
          ]
        }
      ]
    },
    {
      "cell_type": "code",
      "source": [
        "class Animal:\n",
        "    def __init__(self, name):\n",
        "        self.name = name\n",
        "\n",
        "    def speak(self):\n",
        "        print(f\"{self.name} is speaking.\")\n"
      ],
      "metadata": {
        "id": "lWKAYFqFw3cv"
      },
      "execution_count": 7,
      "outputs": []
    },
    {
      "cell_type": "code",
      "source": [
        "class Dog(Animal):\n",
        "    def __init__(self, name, breed):\n",
        "        super().__init__(name)\n",
        "        self.breed = breed\n",
        "\n",
        "    def speak(self):\n",
        "        print(f\"{self.name} is barking.\")\n"
      ],
      "metadata": {
        "id": "bmze01cXzTwW"
      },
      "execution_count": 10,
      "outputs": []
    },
    {
      "cell_type": "code",
      "source": [
        "animal = Animal(\"Generic Animal\")\n",
        "animal.speak()  # Output: Generic Animal is speaking.\n",
        "\n",
        "dog = Dog(\"Buddy\", \"Golden Retriever\")\n",
        "dog.speak()  # Output: Buddy is barking."
      ],
      "metadata": {
        "colab": {
          "base_uri": "https://localhost:8080/"
        },
        "id": "wopK6daTzddl",
        "outputId": "b66be81b-359a-4d05-c82d-bc3a03e2253b"
      },
      "execution_count": 9,
      "outputs": [
        {
          "output_type": "stream",
          "name": "stdout",
          "text": [
            "Generic Animal is speaking.\n",
            "Buddy is barking.\n"
          ]
        }
      ]
    },
    {
      "cell_type": "code",
      "source": [
        "class Human(Animal):\n",
        "    def __init__(self, name):\n",
        "        super().__init__(name)\n",
        "\n",
        "    def walk(self):\n",
        "        print(f\"{self.name} is walking.\")\n"
      ],
      "metadata": {
        "id": "7o0LlBxvzjUB"
      },
      "execution_count": 13,
      "outputs": []
    },
    {
      "cell_type": "code",
      "source": [
        "gholam = Human(\"gholam\")\n",
        "gholam.speak()\n",
        "gholam.walk()"
      ],
      "metadata": {
        "colab": {
          "base_uri": "https://localhost:8080/"
        },
        "id": "E2sVoWagzvui",
        "outputId": "8d34525d-f995-434c-d8ef-9840be088c04"
      },
      "execution_count": 14,
      "outputs": [
        {
          "output_type": "stream",
          "name": "stdout",
          "text": [
            "gholam is speaking.\n",
            "gholam is walking.\n"
          ]
        }
      ]
    }
  ]
}

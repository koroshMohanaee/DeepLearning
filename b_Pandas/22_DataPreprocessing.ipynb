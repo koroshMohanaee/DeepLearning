{
 "cells": [
  {
   "cell_type": "markdown",
   "id": "159c58c1",
   "metadata": {},
   "source": [
    "## Importing the Libraries"
   ]
  },
  {
   "cell_type": "code",
   "execution_count": null,
   "id": "a8990f53",
   "metadata": {},
   "outputs": [],
   "source": [
    "import pandas as pd\n",
    "import numpy as np\n",
    "import matplotlib.pyplot as plt\n",
    "\n"
   ]
  },
  {
   "cell_type": "markdown",
   "id": "19639213",
   "metadata": {},
   "source": [
    "## Importing the Dataset"
   ]
  },
  {
   "cell_type": "code",
   "execution_count": null,
   "id": "d353db9f",
   "metadata": {},
   "outputs": [],
   "source": [
    "df = pd.read_csv(\"insurance.csv\")\n",
    "dimention=df.iloc[:,:-1].values\n",
    "fact=df.iloc[:,-1].values\n"
   ]
  },
  {
   "cell_type": "markdown",
   "id": "30e0f0d6",
   "metadata": {},
   "source": [
    "## Handling Missing Values"
   ]
  },
  {
   "cell_type": "markdown",
   "id": "746cf919",
   "metadata": {},
   "source": [
    "### 1- Identification"
   ]
  },
  {
   "cell_type": "code",
   "execution_count": null,
   "id": "764a8d64",
   "metadata": {},
   "outputs": [],
   "source": [
    "mis_values=df.isnull().sum()\n",
    "print(mis_values)"
   ]
  },
  {
   "cell_type": "markdown",
   "id": "f759813e",
   "metadata": {},
   "source": [
    "### 2- Imputation methods"
   ]
  },
  {
   "cell_type": "code",
   "execution_count": null,
   "id": "44481661",
   "metadata": {},
   "outputs": [],
   "source": [
    "#use pandas \n",
    "df[\"age\"]=df[\"age\"].fillna(df[\"age\"].mean())\n",
    "df[\"sex\"]=df[\"sex\"].fillna(df[\"sex\"].mode()[0])\n",
    "df[\"bmi\"]=df[\"bmi\"].fillna(df[\"bmi\"].mean())\n",
    "\n",
    "# using skitlearn to fix null BMI coulmn\n",
    "from sklearn.impute import SimpleImputer\n",
    "Imputer = SimpleImputer(missing_values=np.nan, strategy='mean')\n",
    "Imputer.fit(dimention[:, 2:3])\n",
    "dimention[:, 2:3] = Imputer.transform(dimention[:, 2:3])\n",
    "\n",
    "\n"
   ]
  },
  {
   "cell_type": "markdown",
   "id": "087bc6fe",
   "metadata": {},
   "source": [
    "### 3- Deletion strategies"
   ]
  },
  {
   "cell_type": "code",
   "execution_count": null,
   "id": "6d4e196b-654b-4474-a483-634492eada8c",
   "metadata": {},
   "outputs": [],
   "source": [
    "df_cleaned_rows = df.dropna()\n",
    "\n",
    "df_cleaned_columns = df.dropna(axis=1)\n",
    "missing_values = df_cleaned_columns.isnull().sum()\n",
    "missing_values"
   ]
  },
  {
   "cell_type": "markdown",
   "id": "ecad20f5",
   "metadata": {},
   "source": [
    "## Encoding Variables"
   ]
  },
  {
   "cell_type": "markdown",
   "id": "6947d117",
   "metadata": {},
   "source": [
    "### 1- Independent Variable"
   ]
  },
  {
   "cell_type": "markdown",
   "id": "ab0303fa-df80-487c-93b6-4d217ee7ac19",
   "metadata": {},
   "source": [
    "#### using pandas"
   ]
  },
  {
   "cell_type": "code",
   "execution_count": null,
   "id": "031fc432-6ac3-4100-b8e1-f31d20dfda0b",
   "metadata": {},
   "outputs": [],
   "source": [
    "import pandas as pd\n",
    "from sklearn.preprocessing import LabelEncoder\n",
    "\n",
    "df = pd.read_csv(\"insurance.csv\")\n",
    "df[\"age\"]=df[\"age\"].fillna(df[\"age\"].mean())\n",
    "df[\"sex\"]=df[\"sex\"].fillna(df[\"sex\"].mode()[0])\n",
    "df[\"bmi\"]=df[\"bmi\"].fillna(df[\"bmi\"].mean())\n",
    "\n",
    "# # label encoding\n",
    "lable = LabelEncoder()\n",
    "df['sex'] = lable.fit_transform(df['sex'])\n",
    "\n",
    "# # one hot encoding\n",
    "df = pd.get_dummies(df, columns=['smoker'], drop_first=True)\n",
    "df = pd.get_dummies(df, columns=['region'], drop_first=True)\n",
    "\n",
    "df.head(10)\n",
    "\n"
   ]
  },
  {
   "cell_type": "markdown",
   "id": "bc50ade4-5a14-4f81-9b43-8deafff19fa1",
   "metadata": {},
   "source": [
    "#### using sklearn"
   ]
  },
  {
   "cell_type": "code",
   "execution_count": null,
   "id": "65abe04b-ffff-4aea-9334-fe4c23f73778",
   "metadata": {},
   "outputs": [],
   "source": [
    "#import pandas as pd\n",
    "#from sklearn.preprocessing import OneHotEncoder, LabelEncoder\n",
    "#from sklearn.compose import ColumnTransformer\n",
    "\n",
    "\n",
    "#df = pd.read_csv(\"insurance.csv\")\n",
    "#X = df.iloc[:, :-1].values\n",
    "#y = df.iloc[:, -1].values\n",
    "\n",
    "\n",
    "# label encoding\n",
    "#label_encoder = LabelEncoder()\n",
    "\n",
    "#X[:, 1] = label_encoder.fit_transform(X[:, 1])\n",
    "#X[:, 4] = label_encoder.fit_transform(X[:, 4])\n",
    "\n",
    "\n",
    "\n",
    "# one hot encoding\n",
    "#encoder = OneHotEncoder(drop='first')\n",
    "\n",
    "\n",
    "#column_transformer = ColumnTransformer(transformers=[('encoder', encoder, [5])],remainder='passthrough')\n",
    "\n",
    "\n",
    "#X = column_transformer.fit_transform(X)\n",
    "\n",
    "#print(X[:5, :]) "
   ]
  },
  {
   "cell_type": "markdown",
   "id": "3019cdd5",
   "metadata": {},
   "source": [
    "### 2- Dependent Variable"
   ]
  },
  {
   "cell_type": "markdown",
   "id": "0e34e4b7",
   "metadata": {},
   "source": [
    "## Splitting the Dataset"
   ]
  },
  {
   "cell_type": "code",
   "execution_count": null,
   "id": "e5f435e1-da21-4dbc-ac6a-1df0dfbd4a19",
   "metadata": {},
   "outputs": [],
   "source": [
    "from sklearn.model_selection import train_test_split\n",
    "import pandas as pd\n",
    "df = pd.read_csv(\"insurance.csv\")\n",
    "X = df.iloc[:, :-1].values\n",
    "y = df.iloc[:, -1].values\n",
    "X_train, X_test, y_train, y_test = train_test_split(X, y, test_size = 0.2, random_state = 1)\n",
    "print(X_test)"
   ]
  },
  {
   "cell_type": "code",
   "execution_count": null,
   "id": "7d29fb5a-bec1-4019-89b2-260d39636d0d",
   "metadata": {},
   "outputs": [],
   "source": [
    "# train_data, test_data = train_test_split(df, test_size=0.2, random_state=42)\n",
    "\n",
    "# train_data.shape, test_data.shape, df.shape"
   ]
  },
  {
   "cell_type": "markdown",
   "id": "cfb6ff1d",
   "metadata": {},
   "source": [
    "## Feature Scaling"
   ]
  },
  {
   "cell_type": "markdown",
   "id": "cdc5ff49",
   "metadata": {},
   "source": [
    "### 1- Normalization"
   ]
  },
  {
   "cell_type": "code",
   "execution_count": 10,
   "id": "c39f34c4-ec55-412a-a87f-3f9f8042f572",
   "metadata": {},
   "outputs": [
    {
     "name": "stdout",
     "output_type": "stream",
     "text": [
      "[[0.76086957 0.         0.28625235 ... 0.         1.         0.        ]\n",
      " [0.76086957 1.         0.14635459 ... 0.         0.         0.        ]\n",
      " [0.         1.         0.57384988 ... 0.         0.         1.        ]\n",
      " ...\n",
      " [0.7173913  0.         0.51116492 ... 1.         0.         0.        ]\n",
      " [0.47826087 0.         0.16841539 ... 1.         0.         1.        ]\n",
      " [0.84782609 1.         0.32230293 ... 0.         0.         1.        ]]\n"
     ]
    }
   ],
   "source": [
    "from sklearn.preprocessing import MinMaxScaler\n",
    "\n",
    "min_max_scaler = MinMaxScaler()\n",
    "\n",
    "X_train = min_max_scaler.fit_transform(X_train)\n",
    "\n",
    "X_test = min_max_scaler.transform(X_test)\n",
    "\n",
    "print(X_train)\n"
   ]
  },
  {
   "cell_type": "markdown",
   "id": "ab20669b",
   "metadata": {},
   "source": [
    "### 2- Standardization"
   ]
  },
  {
   "cell_type": "code",
   "execution_count": null,
   "id": "86394f0b-f4db-477a-ab27-f61e3892102e",
   "metadata": {},
   "outputs": [],
   "source": [
    "#from sklearn.preprocessing import StandardScaler\n",
    "\n",
    "#scaler = StandardScaler()\n",
    "\n",
    "#X_train = scaler.fit_transform(X_train)\n",
    "\n",
    "#X_test = scaler.transform(X_test)\n",
    "#print(X_train)"
   ]
  },
  {
   "cell_type": "markdown",
   "id": "31b249aa",
   "metadata": {},
   "source": [
    "## Feature Selection"
   ]
  },
  {
   "cell_type": "code",
   "execution_count": null,
   "id": "3b023769-a367-48db-ba3b-0fffbe44cf56",
   "metadata": {},
   "outputs": [],
   "source": [
    "import matplotlib.pyplot as plt\n",
    "import seaborn as sns\n",
    "import pandas as pd\n",
    "\n",
    "\n",
    "data = pd.read_csv(\"insurance.csv\")\n",
    "\n",
    "data = data.dropna()\n",
    "\n",
    "data = pd.get_dummies(data, drop_first=True)\n",
    "\n",
    "correlation_matrix = data.corr()\n",
    "\n",
    "plt.figure(figsize=(10, 8))\n",
    "sns.heatmap(correlation_matrix, annot=True, cmap='coolwarm')\n",
    "plt.title(\"Correlation Heatmap\")\n",
    "plt.show()\n",
    "\n",
    "correlation_with_charges = correlation_matrix[\"charges\"].sort_values(ascending=False)\n",
    "correlation_with_charges"
   ]
  }
 ],
 "metadata": {
  "kernelspec": {
   "display_name": "Python 3",
   "language": "python",
   "name": "python3"
  },
  "language_info": {
   "codemirror_mode": {
    "name": "ipython",
    "version": 3
   },
   "file_extension": ".py",
   "mimetype": "text/x-python",
   "name": "python",
   "nbconvert_exporter": "python",
   "pygments_lexer": "ipython3",
   "version": "3.12.4"
  }
 },
 "nbformat": 4,
 "nbformat_minor": 5
}

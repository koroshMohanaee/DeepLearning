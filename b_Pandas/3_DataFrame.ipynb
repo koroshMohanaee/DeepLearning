{
 "cells": [
  {
   "cell_type": "markdown",
   "metadata": {},
   "source": [
    "What is a DataFrame?\n",
    "\n",
    "A Pandas DataFrame is a 2 dimensional data structure, like a 2 dimensional array, or a table with rows and columns."
   ]
  },
  {
   "cell_type": "code",
   "execution_count": null,
   "metadata": {},
   "outputs": [],
   "source": [
    "import pandas as pd\n",
    "data={\n",
    "    \"calery\":[345,543,126],\n",
    "    \"duration\":[23,67,87]\n",
    "}\n",
    "d1=pd.DataFrame(data,index=[\"day1\",\"day2\",\"day3\"])\n",
    "print(d1)\n"
   ]
  },
  {
   "cell_type": "markdown",
   "metadata": {},
   "source": [
    "Locate Row\n",
    "\n",
    "As you can see from the result above, the DataFrame is like a table with rows and columns.\n",
    "\n",
    "Pandas use the (loc attribute) to return one or more specified row(s)\n",
    "\n",
    "Example\n",
    "\n",
    "Return row day1:"
   ]
  },
  {
   "cell_type": "code",
   "execution_count": null,
   "metadata": {},
   "outputs": [],
   "source": [
    "print(d1.loc[\"day1\"])"
   ]
  }
 ],
 "metadata": {
  "kernelspec": {
   "display_name": "Python 3",
   "language": "python",
   "name": "python3"
  },
  "language_info": {
   "codemirror_mode": {
    "name": "ipython",
    "version": 3
   },
   "file_extension": ".py",
   "mimetype": "text/x-python",
   "name": "python",
   "nbconvert_exporter": "python",
   "pygments_lexer": "ipython3",
   "version": "3.12.4"
  }
 },
 "nbformat": 4,
 "nbformat_minor": 2
}
